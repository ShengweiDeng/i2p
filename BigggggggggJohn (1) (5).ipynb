{
 "cells": [
  {
   "cell_type": "code",
   "execution_count": null,
   "id": "e9c6a7d9",
   "metadata": {},
   "outputs": [],
   "source": []
  },
  {
   "cell_type": "markdown",
   "id": "50011a7e",
   "metadata": {},
   "source": [
    "## Abstract\n",
    "\n",
    "2020年11月份的数据。\n",
    "\n",
    "探索疫情环境下，哪些Airbnb租的更好呢？哪些特征影响房屋的租赁情况呢？ 这篇文章将会得出最影响Airbnb房屋租赁的房屋特征，来帮助投资公司进行投资。\n",
    "\n",
    "探索的问题：哪些特征对房屋的出租情况有显著性影响？\n"
   ]
  },
  {
   "cell_type": "markdown",
   "id": "826d137b",
   "metadata": {},
   "source": [
    "# 1. Reproducible Analysis"
   ]
  },
  {
   "cell_type": "markdown",
   "id": "3fb5d958",
   "metadata": {},
   "source": [
    "**Processes of data loading, data preprocessing, and data analysis**\n",
    "\n",
    "> - Import Data\n",
    ">> 1. 202011listings: Contains all London Airbnb rentals for November 2020\n",
    ">> 2. uk-daily-covid-cases-7day-average：Contains information on Covid cases in various regions of the UK, from 2020 to 2022.\n",
    "https://hidden-london.com/miscellany/covid-19-in-london/\n",
    "> - Data Preprocessing\n",
    ">> - Data preprocessing for the first dataset\n",
    ">>> 1. Check missing values. There are four columns with all null values, so I decide to delete these columns directly (note that only the columns with all null values are deleted in this part, and the remaining columns will be processed in subsequent steps)\n",
    ">>> 2. Check the spatial information (lat, long) of these houses to see if these houses are among the 32 Boroughs of London. In this part, I use the visualization + \"GeoSeries.contains()\" method of Geopandas.\n",
    ">>>> - First draw a map, and display these houses in the form of points on the map through latitude and longitude coordinates. In the picture, I found that most of the houses are in the 32 Boroughs, but I can't accurately judge how many houses are not in the Boroughs.\n",
    ">>>> - Secondly, I decided to use the GeoSeries.contains() method to judge whether the latitude and longitude are within the 32 Boroughs boundaries. Finally found that a few are not in it, so I decide to delete these houses.\n",
    ">> - Data preprocessing for the second dataset\n",
    ">>> 1. Check missing values\n",
    ">>> 2. Data Transformation\n",
    ">>>> - Since the data is from 2020 to 2022 and the first dataset is the Airbnb data in November 2020, therefore need do data transformation to filter dataset, only the data in November 2020 is retained\n",
    ">>>> - Since the data is for all regions of the UK, it needs to be filtered to keep only the records in 32 London Boroughs.\n",
    ">> - Combine the first and the second dataframe\n",
    ">> - Data Transformation\n",
    ">>> 1. Visualizing the availability_365 column shows that the distribution is extremely uneven and the data needs to be resampled. Before resampling, I need to calculate how many samples to take proportionally to each part\n",
    ">>>> - Normalization: \"stats.boxcox\" method. Boxcox method normalizes the data distribution. Boxcox can reduce the skewness and achieve the goal of approaching the normal distribution. The output of this step is to calculate how many samples need to be taken for resampling. However, due to the limitation of this method, the output number is between 1 and 3, and the number of decimal places is particularly large, so it is impossible to confirm how many samples need to be taken for each part. (The number of samples must be an integer. If these float numbers are converted to integer int, the number of samples for each part will be 1, 2, and 3, which does not reflect the distribution of the original data.)\n",
    ">>>> - MIN-MAX scaling：The Min-Max method normalizes the number of samples to the interval 0 to 6 without changing the distribution.\n",
    "After calculating how many samples need to be taken proportionally to each part, resample the data using undersampling method. Sample using dataframe.sample(n=just computed above)\n",
    ">>> 2. After calculating how many samples need to be taken proportionally to each part, resample the data using undersampling method. Sample using dataframe.sample(n=just computed above)\n",
    ">> - After sampling, I will perform feature selection method on the data to find out which features have a significant impact on the rental situation\n",
    ">>> 1. Using the dataframe.info() method, it is found that the type of the data column is wrong. For example, the availability_365 column should be a number, but in dataframe it is an object, therefore the format needs to be converted.\n",
    ">>> 2. Feature selection also requires that the data must be numeric, so the non-numeric columns are transformed\n",
    ">>> 3. Since the feature selection method requires that the data cannot have NaN values, I need to check if there are NaN values. There are more than 200 empty values in 9 columns of data, because there are not many, I choose to delete them\n",
    "> - Now the data is prepared, I use SelectKBest in sklearn.feature_selection to perform feature selection on the data."
   ]
  },
  {
   "cell_type": "markdown",
   "id": "542e047e",
   "metadata": {},
   "source": [
    "## Import Libraries"
   ]
  },
  {
   "cell_type": "code",
   "execution_count": 2,
   "id": "ca418b8b",
   "metadata": {},
   "outputs": [],
   "source": [
    "\"\"\"\n",
    "Import Libraries\n",
    "\"\"\"\n",
    "import numpy as np\n",
    "import pandas as pd\n",
    "import geopandas as gpd\n",
    "# For visulisation purpose\n",
    "import matplotlib.pyplot as plt\n",
    "import seaborn as sns\n",
    "\n",
    "# For box cox normalization\n",
    "from scipy import stats\n",
    "\n",
    "# For feature selection\n",
    "from sklearn.feature_selection import SelectKBest\n",
    "from sklearn.feature_selection import f_regression\n",
    "# For Lasso linear model with iterative fitting along a regularization path.\n",
    "from sklearn.linear_model import LassoCV"
   ]
  },
  {
   "cell_type": "markdown",
   "id": "76965276",
   "metadata": {},
   "source": [
    "## Import Data"
   ]
  },
  {
   "cell_type": "markdown",
   "id": "5df15187",
   "metadata": {},
   "source": [
    "### Import First Dataset"
   ]
  },
  {
   "cell_type": "code",
   "execution_count": 12,
   "id": "6db64c45",
   "metadata": {},
   "outputs": [
    {
     "ename": "URLError",
     "evalue": "<urlopen error [WinError 10061] 由于目标计算机积极拒绝，无法连接。>",
     "output_type": "error",
     "traceback": [
      "\u001b[1;31m---------------------------------------------------------------------------\u001b[0m",
      "\u001b[1;31mConnectionRefusedError\u001b[0m                    Traceback (most recent call last)",
      "\u001b[1;32mD:\\Anaconda\\envs\\new\\lib\\urllib\\request.py\u001b[0m in \u001b[0;36mdo_open\u001b[1;34m(self, http_class, req, **http_conn_args)\u001b[0m\n\u001b[0;32m   1353\u001b[0m             \u001b[1;32mtry\u001b[0m\u001b[1;33m:\u001b[0m\u001b[1;33m\u001b[0m\u001b[1;33m\u001b[0m\u001b[0m\n\u001b[1;32m-> 1354\u001b[1;33m                 h.request(req.get_method(), req.selector, req.data, headers,\n\u001b[0m\u001b[0;32m   1355\u001b[0m                           encode_chunked=req.has_header('Transfer-encoding'))\n",
      "\u001b[1;32mD:\\Anaconda\\envs\\new\\lib\\http\\client.py\u001b[0m in \u001b[0;36mrequest\u001b[1;34m(self, method, url, body, headers, encode_chunked)\u001b[0m\n\u001b[0;32m   1255\u001b[0m         \u001b[1;34m\"\"\"Send a complete request to the server.\"\"\"\u001b[0m\u001b[1;33m\u001b[0m\u001b[1;33m\u001b[0m\u001b[0m\n\u001b[1;32m-> 1256\u001b[1;33m         \u001b[0mself\u001b[0m\u001b[1;33m.\u001b[0m\u001b[0m_send_request\u001b[0m\u001b[1;33m(\u001b[0m\u001b[0mmethod\u001b[0m\u001b[1;33m,\u001b[0m \u001b[0murl\u001b[0m\u001b[1;33m,\u001b[0m \u001b[0mbody\u001b[0m\u001b[1;33m,\u001b[0m \u001b[0mheaders\u001b[0m\u001b[1;33m,\u001b[0m \u001b[0mencode_chunked\u001b[0m\u001b[1;33m)\u001b[0m\u001b[1;33m\u001b[0m\u001b[1;33m\u001b[0m\u001b[0m\n\u001b[0m\u001b[0;32m   1257\u001b[0m \u001b[1;33m\u001b[0m\u001b[0m\n",
      "\u001b[1;32mD:\\Anaconda\\envs\\new\\lib\\http\\client.py\u001b[0m in \u001b[0;36m_send_request\u001b[1;34m(self, method, url, body, headers, encode_chunked)\u001b[0m\n\u001b[0;32m   1301\u001b[0m             \u001b[0mbody\u001b[0m \u001b[1;33m=\u001b[0m \u001b[0m_encode\u001b[0m\u001b[1;33m(\u001b[0m\u001b[0mbody\u001b[0m\u001b[1;33m,\u001b[0m \u001b[1;34m'body'\u001b[0m\u001b[1;33m)\u001b[0m\u001b[1;33m\u001b[0m\u001b[1;33m\u001b[0m\u001b[0m\n\u001b[1;32m-> 1302\u001b[1;33m         \u001b[0mself\u001b[0m\u001b[1;33m.\u001b[0m\u001b[0mendheaders\u001b[0m\u001b[1;33m(\u001b[0m\u001b[0mbody\u001b[0m\u001b[1;33m,\u001b[0m \u001b[0mencode_chunked\u001b[0m\u001b[1;33m=\u001b[0m\u001b[0mencode_chunked\u001b[0m\u001b[1;33m)\u001b[0m\u001b[1;33m\u001b[0m\u001b[1;33m\u001b[0m\u001b[0m\n\u001b[0m\u001b[0;32m   1303\u001b[0m \u001b[1;33m\u001b[0m\u001b[0m\n",
      "\u001b[1;32mD:\\Anaconda\\envs\\new\\lib\\http\\client.py\u001b[0m in \u001b[0;36mendheaders\u001b[1;34m(self, message_body, encode_chunked)\u001b[0m\n\u001b[0;32m   1250\u001b[0m             \u001b[1;32mraise\u001b[0m \u001b[0mCannotSendHeader\u001b[0m\u001b[1;33m(\u001b[0m\u001b[1;33m)\u001b[0m\u001b[1;33m\u001b[0m\u001b[1;33m\u001b[0m\u001b[0m\n\u001b[1;32m-> 1251\u001b[1;33m         \u001b[0mself\u001b[0m\u001b[1;33m.\u001b[0m\u001b[0m_send_output\u001b[0m\u001b[1;33m(\u001b[0m\u001b[0mmessage_body\u001b[0m\u001b[1;33m,\u001b[0m \u001b[0mencode_chunked\u001b[0m\u001b[1;33m=\u001b[0m\u001b[0mencode_chunked\u001b[0m\u001b[1;33m)\u001b[0m\u001b[1;33m\u001b[0m\u001b[1;33m\u001b[0m\u001b[0m\n\u001b[0m\u001b[0;32m   1252\u001b[0m \u001b[1;33m\u001b[0m\u001b[0m\n",
      "\u001b[1;32mD:\\Anaconda\\envs\\new\\lib\\http\\client.py\u001b[0m in \u001b[0;36m_send_output\u001b[1;34m(self, message_body, encode_chunked)\u001b[0m\n\u001b[0;32m   1010\u001b[0m         \u001b[1;32mdel\u001b[0m \u001b[0mself\u001b[0m\u001b[1;33m.\u001b[0m\u001b[0m_buffer\u001b[0m\u001b[1;33m[\u001b[0m\u001b[1;33m:\u001b[0m\u001b[1;33m]\u001b[0m\u001b[1;33m\u001b[0m\u001b[1;33m\u001b[0m\u001b[0m\n\u001b[1;32m-> 1011\u001b[1;33m         \u001b[0mself\u001b[0m\u001b[1;33m.\u001b[0m\u001b[0msend\u001b[0m\u001b[1;33m(\u001b[0m\u001b[0mmsg\u001b[0m\u001b[1;33m)\u001b[0m\u001b[1;33m\u001b[0m\u001b[1;33m\u001b[0m\u001b[0m\n\u001b[0m\u001b[0;32m   1012\u001b[0m \u001b[1;33m\u001b[0m\u001b[0m\n",
      "\u001b[1;32mD:\\Anaconda\\envs\\new\\lib\\http\\client.py\u001b[0m in \u001b[0;36msend\u001b[1;34m(self, data)\u001b[0m\n\u001b[0;32m    950\u001b[0m             \u001b[1;32mif\u001b[0m \u001b[0mself\u001b[0m\u001b[1;33m.\u001b[0m\u001b[0mauto_open\u001b[0m\u001b[1;33m:\u001b[0m\u001b[1;33m\u001b[0m\u001b[1;33m\u001b[0m\u001b[0m\n\u001b[1;32m--> 951\u001b[1;33m                 \u001b[0mself\u001b[0m\u001b[1;33m.\u001b[0m\u001b[0mconnect\u001b[0m\u001b[1;33m(\u001b[0m\u001b[1;33m)\u001b[0m\u001b[1;33m\u001b[0m\u001b[1;33m\u001b[0m\u001b[0m\n\u001b[0m\u001b[0;32m    952\u001b[0m             \u001b[1;32melse\u001b[0m\u001b[1;33m:\u001b[0m\u001b[1;33m\u001b[0m\u001b[1;33m\u001b[0m\u001b[0m\n",
      "\u001b[1;32mD:\\Anaconda\\envs\\new\\lib\\http\\client.py\u001b[0m in \u001b[0;36mconnect\u001b[1;34m(self)\u001b[0m\n\u001b[0;32m   1417\u001b[0m \u001b[1;33m\u001b[0m\u001b[0m\n\u001b[1;32m-> 1418\u001b[1;33m             \u001b[0msuper\u001b[0m\u001b[1;33m(\u001b[0m\u001b[1;33m)\u001b[0m\u001b[1;33m.\u001b[0m\u001b[0mconnect\u001b[0m\u001b[1;33m(\u001b[0m\u001b[1;33m)\u001b[0m\u001b[1;33m\u001b[0m\u001b[1;33m\u001b[0m\u001b[0m\n\u001b[0m\u001b[0;32m   1419\u001b[0m \u001b[1;33m\u001b[0m\u001b[0m\n",
      "\u001b[1;32mD:\\Anaconda\\envs\\new\\lib\\http\\client.py\u001b[0m in \u001b[0;36mconnect\u001b[1;34m(self)\u001b[0m\n\u001b[0;32m    921\u001b[0m         \u001b[1;34m\"\"\"Connect to the host and port specified in __init__.\"\"\"\u001b[0m\u001b[1;33m\u001b[0m\u001b[1;33m\u001b[0m\u001b[0m\n\u001b[1;32m--> 922\u001b[1;33m         self.sock = self._create_connection(\n\u001b[0m\u001b[0;32m    923\u001b[0m             (self.host,self.port), self.timeout, self.source_address)\n",
      "\u001b[1;32mD:\\Anaconda\\envs\\new\\lib\\socket.py\u001b[0m in \u001b[0;36mcreate_connection\u001b[1;34m(address, timeout, source_address)\u001b[0m\n\u001b[0;32m    807\u001b[0m         \u001b[1;32mtry\u001b[0m\u001b[1;33m:\u001b[0m\u001b[1;33m\u001b[0m\u001b[1;33m\u001b[0m\u001b[0m\n\u001b[1;32m--> 808\u001b[1;33m             \u001b[1;32mraise\u001b[0m \u001b[0merr\u001b[0m\u001b[1;33m\u001b[0m\u001b[1;33m\u001b[0m\u001b[0m\n\u001b[0m\u001b[0;32m    809\u001b[0m         \u001b[1;32mfinally\u001b[0m\u001b[1;33m:\u001b[0m\u001b[1;33m\u001b[0m\u001b[1;33m\u001b[0m\u001b[0m\n",
      "\u001b[1;32mD:\\Anaconda\\envs\\new\\lib\\socket.py\u001b[0m in \u001b[0;36mcreate_connection\u001b[1;34m(address, timeout, source_address)\u001b[0m\n\u001b[0;32m    795\u001b[0m                 \u001b[0msock\u001b[0m\u001b[1;33m.\u001b[0m\u001b[0mbind\u001b[0m\u001b[1;33m(\u001b[0m\u001b[0msource_address\u001b[0m\u001b[1;33m)\u001b[0m\u001b[1;33m\u001b[0m\u001b[1;33m\u001b[0m\u001b[0m\n\u001b[1;32m--> 796\u001b[1;33m             \u001b[0msock\u001b[0m\u001b[1;33m.\u001b[0m\u001b[0mconnect\u001b[0m\u001b[1;33m(\u001b[0m\u001b[0msa\u001b[0m\u001b[1;33m)\u001b[0m\u001b[1;33m\u001b[0m\u001b[1;33m\u001b[0m\u001b[0m\n\u001b[0m\u001b[0;32m    797\u001b[0m             \u001b[1;31m# Break explicitly a reference cycle\u001b[0m\u001b[1;33m\u001b[0m\u001b[1;33m\u001b[0m\u001b[1;33m\u001b[0m\u001b[0m\n",
      "\u001b[1;31mConnectionRefusedError\u001b[0m: [WinError 10061] 由于目标计算机积极拒绝，无法连接。",
      "\nDuring handling of the above exception, another exception occurred:\n",
      "\u001b[1;31mURLError\u001b[0m                                  Traceback (most recent call last)",
      "\u001b[1;32m~\\AppData\\Local\\Temp/ipykernel_413356/1709821055.py\u001b[0m in \u001b[0;36m<module>\u001b[1;34m\u001b[0m\n\u001b[0;32m      1\u001b[0m \u001b[1;31m# Import the first dataset\u001b[0m\u001b[1;33m\u001b[0m\u001b[1;33m\u001b[0m\u001b[1;33m\u001b[0m\u001b[0m\n\u001b[1;32m----> 2\u001b[1;33m \u001b[0mdfDirty\u001b[0m \u001b[1;33m=\u001b[0m \u001b[0mpd\u001b[0m\u001b[1;33m.\u001b[0m\u001b[0mread_csv\u001b[0m\u001b[1;33m(\u001b[0m\u001b[1;34m'https://github.com/ShengweiDeng/i2p/releases/download/Data/202011listings.csv?raw=true'\u001b[0m\u001b[1;33m)\u001b[0m\u001b[1;33m\u001b[0m\u001b[1;33m\u001b[0m\u001b[0m\n\u001b[0m",
      "\u001b[1;32mD:\\Anaconda\\envs\\new\\lib\\site-packages\\pandas\\util\\_decorators.py\u001b[0m in \u001b[0;36mwrapper\u001b[1;34m(*args, **kwargs)\u001b[0m\n\u001b[0;32m    309\u001b[0m                     \u001b[0mstacklevel\u001b[0m\u001b[1;33m=\u001b[0m\u001b[0mstacklevel\u001b[0m\u001b[1;33m,\u001b[0m\u001b[1;33m\u001b[0m\u001b[1;33m\u001b[0m\u001b[0m\n\u001b[0;32m    310\u001b[0m                 )\n\u001b[1;32m--> 311\u001b[1;33m             \u001b[1;32mreturn\u001b[0m \u001b[0mfunc\u001b[0m\u001b[1;33m(\u001b[0m\u001b[1;33m*\u001b[0m\u001b[0margs\u001b[0m\u001b[1;33m,\u001b[0m \u001b[1;33m**\u001b[0m\u001b[0mkwargs\u001b[0m\u001b[1;33m)\u001b[0m\u001b[1;33m\u001b[0m\u001b[1;33m\u001b[0m\u001b[0m\n\u001b[0m\u001b[0;32m    312\u001b[0m \u001b[1;33m\u001b[0m\u001b[0m\n\u001b[0;32m    313\u001b[0m         \u001b[1;32mreturn\u001b[0m \u001b[0mwrapper\u001b[0m\u001b[1;33m\u001b[0m\u001b[1;33m\u001b[0m\u001b[0m\n",
      "\u001b[1;32mD:\\Anaconda\\envs\\new\\lib\\site-packages\\pandas\\io\\parsers\\readers.py\u001b[0m in \u001b[0;36mread_csv\u001b[1;34m(filepath_or_buffer, sep, delimiter, header, names, index_col, usecols, squeeze, prefix, mangle_dupe_cols, dtype, engine, converters, true_values, false_values, skipinitialspace, skiprows, skipfooter, nrows, na_values, keep_default_na, na_filter, verbose, skip_blank_lines, parse_dates, infer_datetime_format, keep_date_col, date_parser, dayfirst, cache_dates, iterator, chunksize, compression, thousands, decimal, lineterminator, quotechar, quoting, doublequote, escapechar, comment, encoding, encoding_errors, dialect, error_bad_lines, warn_bad_lines, on_bad_lines, delim_whitespace, low_memory, memory_map, float_precision, storage_options)\u001b[0m\n\u001b[0;32m    584\u001b[0m     \u001b[0mkwds\u001b[0m\u001b[1;33m.\u001b[0m\u001b[0mupdate\u001b[0m\u001b[1;33m(\u001b[0m\u001b[0mkwds_defaults\u001b[0m\u001b[1;33m)\u001b[0m\u001b[1;33m\u001b[0m\u001b[1;33m\u001b[0m\u001b[0m\n\u001b[0;32m    585\u001b[0m \u001b[1;33m\u001b[0m\u001b[0m\n\u001b[1;32m--> 586\u001b[1;33m     \u001b[1;32mreturn\u001b[0m \u001b[0m_read\u001b[0m\u001b[1;33m(\u001b[0m\u001b[0mfilepath_or_buffer\u001b[0m\u001b[1;33m,\u001b[0m \u001b[0mkwds\u001b[0m\u001b[1;33m)\u001b[0m\u001b[1;33m\u001b[0m\u001b[1;33m\u001b[0m\u001b[0m\n\u001b[0m\u001b[0;32m    587\u001b[0m \u001b[1;33m\u001b[0m\u001b[0m\n\u001b[0;32m    588\u001b[0m \u001b[1;33m\u001b[0m\u001b[0m\n",
      "\u001b[1;32mD:\\Anaconda\\envs\\new\\lib\\site-packages\\pandas\\io\\parsers\\readers.py\u001b[0m in \u001b[0;36m_read\u001b[1;34m(filepath_or_buffer, kwds)\u001b[0m\n\u001b[0;32m    480\u001b[0m \u001b[1;33m\u001b[0m\u001b[0m\n\u001b[0;32m    481\u001b[0m     \u001b[1;31m# Create the parser.\u001b[0m\u001b[1;33m\u001b[0m\u001b[1;33m\u001b[0m\u001b[1;33m\u001b[0m\u001b[0m\n\u001b[1;32m--> 482\u001b[1;33m     \u001b[0mparser\u001b[0m \u001b[1;33m=\u001b[0m \u001b[0mTextFileReader\u001b[0m\u001b[1;33m(\u001b[0m\u001b[0mfilepath_or_buffer\u001b[0m\u001b[1;33m,\u001b[0m \u001b[1;33m**\u001b[0m\u001b[0mkwds\u001b[0m\u001b[1;33m)\u001b[0m\u001b[1;33m\u001b[0m\u001b[1;33m\u001b[0m\u001b[0m\n\u001b[0m\u001b[0;32m    483\u001b[0m \u001b[1;33m\u001b[0m\u001b[0m\n\u001b[0;32m    484\u001b[0m     \u001b[1;32mif\u001b[0m \u001b[0mchunksize\u001b[0m \u001b[1;32mor\u001b[0m \u001b[0miterator\u001b[0m\u001b[1;33m:\u001b[0m\u001b[1;33m\u001b[0m\u001b[1;33m\u001b[0m\u001b[0m\n",
      "\u001b[1;32mD:\\Anaconda\\envs\\new\\lib\\site-packages\\pandas\\io\\parsers\\readers.py\u001b[0m in \u001b[0;36m__init__\u001b[1;34m(self, f, engine, **kwds)\u001b[0m\n\u001b[0;32m    809\u001b[0m             \u001b[0mself\u001b[0m\u001b[1;33m.\u001b[0m\u001b[0moptions\u001b[0m\u001b[1;33m[\u001b[0m\u001b[1;34m\"has_index_names\"\u001b[0m\u001b[1;33m]\u001b[0m \u001b[1;33m=\u001b[0m \u001b[0mkwds\u001b[0m\u001b[1;33m[\u001b[0m\u001b[1;34m\"has_index_names\"\u001b[0m\u001b[1;33m]\u001b[0m\u001b[1;33m\u001b[0m\u001b[1;33m\u001b[0m\u001b[0m\n\u001b[0;32m    810\u001b[0m \u001b[1;33m\u001b[0m\u001b[0m\n\u001b[1;32m--> 811\u001b[1;33m         \u001b[0mself\u001b[0m\u001b[1;33m.\u001b[0m\u001b[0m_engine\u001b[0m \u001b[1;33m=\u001b[0m \u001b[0mself\u001b[0m\u001b[1;33m.\u001b[0m\u001b[0m_make_engine\u001b[0m\u001b[1;33m(\u001b[0m\u001b[0mself\u001b[0m\u001b[1;33m.\u001b[0m\u001b[0mengine\u001b[0m\u001b[1;33m)\u001b[0m\u001b[1;33m\u001b[0m\u001b[1;33m\u001b[0m\u001b[0m\n\u001b[0m\u001b[0;32m    812\u001b[0m \u001b[1;33m\u001b[0m\u001b[0m\n\u001b[0;32m    813\u001b[0m     \u001b[1;32mdef\u001b[0m \u001b[0mclose\u001b[0m\u001b[1;33m(\u001b[0m\u001b[0mself\u001b[0m\u001b[1;33m)\u001b[0m\u001b[1;33m:\u001b[0m\u001b[1;33m\u001b[0m\u001b[1;33m\u001b[0m\u001b[0m\n",
      "\u001b[1;32mD:\\Anaconda\\envs\\new\\lib\\site-packages\\pandas\\io\\parsers\\readers.py\u001b[0m in \u001b[0;36m_make_engine\u001b[1;34m(self, engine)\u001b[0m\n\u001b[0;32m   1038\u001b[0m             )\n\u001b[0;32m   1039\u001b[0m         \u001b[1;31m# error: Too many arguments for \"ParserBase\"\u001b[0m\u001b[1;33m\u001b[0m\u001b[1;33m\u001b[0m\u001b[1;33m\u001b[0m\u001b[0m\n\u001b[1;32m-> 1040\u001b[1;33m         \u001b[1;32mreturn\u001b[0m \u001b[0mmapping\u001b[0m\u001b[1;33m[\u001b[0m\u001b[0mengine\u001b[0m\u001b[1;33m]\u001b[0m\u001b[1;33m(\u001b[0m\u001b[0mself\u001b[0m\u001b[1;33m.\u001b[0m\u001b[0mf\u001b[0m\u001b[1;33m,\u001b[0m \u001b[1;33m**\u001b[0m\u001b[0mself\u001b[0m\u001b[1;33m.\u001b[0m\u001b[0moptions\u001b[0m\u001b[1;33m)\u001b[0m  \u001b[1;31m# type: ignore[call-arg]\u001b[0m\u001b[1;33m\u001b[0m\u001b[1;33m\u001b[0m\u001b[0m\n\u001b[0m\u001b[0;32m   1041\u001b[0m \u001b[1;33m\u001b[0m\u001b[0m\n\u001b[0;32m   1042\u001b[0m     \u001b[1;32mdef\u001b[0m \u001b[0m_failover_to_python\u001b[0m\u001b[1;33m(\u001b[0m\u001b[0mself\u001b[0m\u001b[1;33m)\u001b[0m\u001b[1;33m:\u001b[0m\u001b[1;33m\u001b[0m\u001b[1;33m\u001b[0m\u001b[0m\n",
      "\u001b[1;32mD:\\Anaconda\\envs\\new\\lib\\site-packages\\pandas\\io\\parsers\\c_parser_wrapper.py\u001b[0m in \u001b[0;36m__init__\u001b[1;34m(self, src, **kwds)\u001b[0m\n\u001b[0;32m     49\u001b[0m \u001b[1;33m\u001b[0m\u001b[0m\n\u001b[0;32m     50\u001b[0m         \u001b[1;31m# open handles\u001b[0m\u001b[1;33m\u001b[0m\u001b[1;33m\u001b[0m\u001b[1;33m\u001b[0m\u001b[0m\n\u001b[1;32m---> 51\u001b[1;33m         \u001b[0mself\u001b[0m\u001b[1;33m.\u001b[0m\u001b[0m_open_handles\u001b[0m\u001b[1;33m(\u001b[0m\u001b[0msrc\u001b[0m\u001b[1;33m,\u001b[0m \u001b[0mkwds\u001b[0m\u001b[1;33m)\u001b[0m\u001b[1;33m\u001b[0m\u001b[1;33m\u001b[0m\u001b[0m\n\u001b[0m\u001b[0;32m     52\u001b[0m         \u001b[1;32massert\u001b[0m \u001b[0mself\u001b[0m\u001b[1;33m.\u001b[0m\u001b[0mhandles\u001b[0m \u001b[1;32mis\u001b[0m \u001b[1;32mnot\u001b[0m \u001b[1;32mNone\u001b[0m\u001b[1;33m\u001b[0m\u001b[1;33m\u001b[0m\u001b[0m\n\u001b[0;32m     53\u001b[0m \u001b[1;33m\u001b[0m\u001b[0m\n",
      "\u001b[1;32mD:\\Anaconda\\envs\\new\\lib\\site-packages\\pandas\\io\\parsers\\base_parser.py\u001b[0m in \u001b[0;36m_open_handles\u001b[1;34m(self, src, kwds)\u001b[0m\n\u001b[0;32m    220\u001b[0m         \u001b[0mLet\u001b[0m \u001b[0mthe\u001b[0m \u001b[0mreaders\u001b[0m \u001b[0mopen\u001b[0m \u001b[0mIOHandles\u001b[0m \u001b[0mafter\u001b[0m \u001b[0mthey\u001b[0m \u001b[0mare\u001b[0m \u001b[0mdone\u001b[0m \u001b[1;32mwith\u001b[0m \u001b[0mtheir\u001b[0m \u001b[0mpotential\u001b[0m \u001b[0mraises\u001b[0m\u001b[1;33m.\u001b[0m\u001b[1;33m\u001b[0m\u001b[1;33m\u001b[0m\u001b[0m\n\u001b[0;32m    221\u001b[0m         \"\"\"\n\u001b[1;32m--> 222\u001b[1;33m         self.handles = get_handle(\n\u001b[0m\u001b[0;32m    223\u001b[0m             \u001b[0msrc\u001b[0m\u001b[1;33m,\u001b[0m\u001b[1;33m\u001b[0m\u001b[1;33m\u001b[0m\u001b[0m\n\u001b[0;32m    224\u001b[0m             \u001b[1;34m\"r\"\u001b[0m\u001b[1;33m,\u001b[0m\u001b[1;33m\u001b[0m\u001b[1;33m\u001b[0m\u001b[0m\n",
      "\u001b[1;32mD:\\Anaconda\\envs\\new\\lib\\site-packages\\pandas\\io\\common.py\u001b[0m in \u001b[0;36mget_handle\u001b[1;34m(path_or_buf, mode, encoding, compression, memory_map, is_text, errors, storage_options)\u001b[0m\n\u001b[0;32m    607\u001b[0m \u001b[1;33m\u001b[0m\u001b[0m\n\u001b[0;32m    608\u001b[0m     \u001b[1;31m# open URLs\u001b[0m\u001b[1;33m\u001b[0m\u001b[1;33m\u001b[0m\u001b[1;33m\u001b[0m\u001b[0m\n\u001b[1;32m--> 609\u001b[1;33m     ioargs = _get_filepath_or_buffer(\n\u001b[0m\u001b[0;32m    610\u001b[0m         \u001b[0mpath_or_buf\u001b[0m\u001b[1;33m,\u001b[0m\u001b[1;33m\u001b[0m\u001b[1;33m\u001b[0m\u001b[0m\n\u001b[0;32m    611\u001b[0m         \u001b[0mencoding\u001b[0m\u001b[1;33m=\u001b[0m\u001b[0mencoding\u001b[0m\u001b[1;33m,\u001b[0m\u001b[1;33m\u001b[0m\u001b[1;33m\u001b[0m\u001b[0m\n",
      "\u001b[1;32mD:\\Anaconda\\envs\\new\\lib\\site-packages\\pandas\\io\\common.py\u001b[0m in \u001b[0;36m_get_filepath_or_buffer\u001b[1;34m(filepath_or_buffer, encoding, compression, mode, storage_options)\u001b[0m\n\u001b[0;32m    310\u001b[0m         \u001b[1;31m# assuming storage_options is to be interpreted as headers\u001b[0m\u001b[1;33m\u001b[0m\u001b[1;33m\u001b[0m\u001b[1;33m\u001b[0m\u001b[0m\n\u001b[0;32m    311\u001b[0m         \u001b[0mreq_info\u001b[0m \u001b[1;33m=\u001b[0m \u001b[0murllib\u001b[0m\u001b[1;33m.\u001b[0m\u001b[0mrequest\u001b[0m\u001b[1;33m.\u001b[0m\u001b[0mRequest\u001b[0m\u001b[1;33m(\u001b[0m\u001b[0mfilepath_or_buffer\u001b[0m\u001b[1;33m,\u001b[0m \u001b[0mheaders\u001b[0m\u001b[1;33m=\u001b[0m\u001b[0mstorage_options\u001b[0m\u001b[1;33m)\u001b[0m\u001b[1;33m\u001b[0m\u001b[1;33m\u001b[0m\u001b[0m\n\u001b[1;32m--> 312\u001b[1;33m         \u001b[1;32mwith\u001b[0m \u001b[0murlopen\u001b[0m\u001b[1;33m(\u001b[0m\u001b[0mreq_info\u001b[0m\u001b[1;33m)\u001b[0m \u001b[1;32mas\u001b[0m \u001b[0mreq\u001b[0m\u001b[1;33m:\u001b[0m\u001b[1;33m\u001b[0m\u001b[1;33m\u001b[0m\u001b[0m\n\u001b[0m\u001b[0;32m    313\u001b[0m             \u001b[0mcontent_encoding\u001b[0m \u001b[1;33m=\u001b[0m \u001b[0mreq\u001b[0m\u001b[1;33m.\u001b[0m\u001b[0mheaders\u001b[0m\u001b[1;33m.\u001b[0m\u001b[0mget\u001b[0m\u001b[1;33m(\u001b[0m\u001b[1;34m\"Content-Encoding\"\u001b[0m\u001b[1;33m,\u001b[0m \u001b[1;32mNone\u001b[0m\u001b[1;33m)\u001b[0m\u001b[1;33m\u001b[0m\u001b[1;33m\u001b[0m\u001b[0m\n\u001b[0;32m    314\u001b[0m             \u001b[1;32mif\u001b[0m \u001b[0mcontent_encoding\u001b[0m \u001b[1;33m==\u001b[0m \u001b[1;34m\"gzip\"\u001b[0m\u001b[1;33m:\u001b[0m\u001b[1;33m\u001b[0m\u001b[1;33m\u001b[0m\u001b[0m\n",
      "\u001b[1;32mD:\\Anaconda\\envs\\new\\lib\\site-packages\\pandas\\io\\common.py\u001b[0m in \u001b[0;36murlopen\u001b[1;34m(*args, **kwargs)\u001b[0m\n\u001b[0;32m    210\u001b[0m     \u001b[1;32mimport\u001b[0m \u001b[0murllib\u001b[0m\u001b[1;33m.\u001b[0m\u001b[0mrequest\u001b[0m\u001b[1;33m\u001b[0m\u001b[1;33m\u001b[0m\u001b[0m\n\u001b[0;32m    211\u001b[0m \u001b[1;33m\u001b[0m\u001b[0m\n\u001b[1;32m--> 212\u001b[1;33m     \u001b[1;32mreturn\u001b[0m \u001b[0murllib\u001b[0m\u001b[1;33m.\u001b[0m\u001b[0mrequest\u001b[0m\u001b[1;33m.\u001b[0m\u001b[0murlopen\u001b[0m\u001b[1;33m(\u001b[0m\u001b[1;33m*\u001b[0m\u001b[0margs\u001b[0m\u001b[1;33m,\u001b[0m \u001b[1;33m**\u001b[0m\u001b[0mkwargs\u001b[0m\u001b[1;33m)\u001b[0m\u001b[1;33m\u001b[0m\u001b[1;33m\u001b[0m\u001b[0m\n\u001b[0m\u001b[0;32m    213\u001b[0m \u001b[1;33m\u001b[0m\u001b[0m\n\u001b[0;32m    214\u001b[0m \u001b[1;33m\u001b[0m\u001b[0m\n",
      "\u001b[1;32mD:\\Anaconda\\envs\\new\\lib\\urllib\\request.py\u001b[0m in \u001b[0;36murlopen\u001b[1;34m(url, data, timeout, cafile, capath, cadefault, context)\u001b[0m\n\u001b[0;32m    220\u001b[0m     \u001b[1;32melse\u001b[0m\u001b[1;33m:\u001b[0m\u001b[1;33m\u001b[0m\u001b[1;33m\u001b[0m\u001b[0m\n\u001b[0;32m    221\u001b[0m         \u001b[0mopener\u001b[0m \u001b[1;33m=\u001b[0m \u001b[0m_opener\u001b[0m\u001b[1;33m\u001b[0m\u001b[1;33m\u001b[0m\u001b[0m\n\u001b[1;32m--> 222\u001b[1;33m     \u001b[1;32mreturn\u001b[0m \u001b[0mopener\u001b[0m\u001b[1;33m.\u001b[0m\u001b[0mopen\u001b[0m\u001b[1;33m(\u001b[0m\u001b[0murl\u001b[0m\u001b[1;33m,\u001b[0m \u001b[0mdata\u001b[0m\u001b[1;33m,\u001b[0m \u001b[0mtimeout\u001b[0m\u001b[1;33m)\u001b[0m\u001b[1;33m\u001b[0m\u001b[1;33m\u001b[0m\u001b[0m\n\u001b[0m\u001b[0;32m    223\u001b[0m \u001b[1;33m\u001b[0m\u001b[0m\n\u001b[0;32m    224\u001b[0m \u001b[1;32mdef\u001b[0m \u001b[0minstall_opener\u001b[0m\u001b[1;33m(\u001b[0m\u001b[0mopener\u001b[0m\u001b[1;33m)\u001b[0m\u001b[1;33m:\u001b[0m\u001b[1;33m\u001b[0m\u001b[1;33m\u001b[0m\u001b[0m\n",
      "\u001b[1;32mD:\\Anaconda\\envs\\new\\lib\\urllib\\request.py\u001b[0m in \u001b[0;36mopen\u001b[1;34m(self, fullurl, data, timeout)\u001b[0m\n\u001b[0;32m    523\u001b[0m \u001b[1;33m\u001b[0m\u001b[0m\n\u001b[0;32m    524\u001b[0m         \u001b[0msys\u001b[0m\u001b[1;33m.\u001b[0m\u001b[0maudit\u001b[0m\u001b[1;33m(\u001b[0m\u001b[1;34m'urllib.Request'\u001b[0m\u001b[1;33m,\u001b[0m \u001b[0mreq\u001b[0m\u001b[1;33m.\u001b[0m\u001b[0mfull_url\u001b[0m\u001b[1;33m,\u001b[0m \u001b[0mreq\u001b[0m\u001b[1;33m.\u001b[0m\u001b[0mdata\u001b[0m\u001b[1;33m,\u001b[0m \u001b[0mreq\u001b[0m\u001b[1;33m.\u001b[0m\u001b[0mheaders\u001b[0m\u001b[1;33m,\u001b[0m \u001b[0mreq\u001b[0m\u001b[1;33m.\u001b[0m\u001b[0mget_method\u001b[0m\u001b[1;33m(\u001b[0m\u001b[1;33m)\u001b[0m\u001b[1;33m)\u001b[0m\u001b[1;33m\u001b[0m\u001b[1;33m\u001b[0m\u001b[0m\n\u001b[1;32m--> 525\u001b[1;33m         \u001b[0mresponse\u001b[0m \u001b[1;33m=\u001b[0m \u001b[0mself\u001b[0m\u001b[1;33m.\u001b[0m\u001b[0m_open\u001b[0m\u001b[1;33m(\u001b[0m\u001b[0mreq\u001b[0m\u001b[1;33m,\u001b[0m \u001b[0mdata\u001b[0m\u001b[1;33m)\u001b[0m\u001b[1;33m\u001b[0m\u001b[1;33m\u001b[0m\u001b[0m\n\u001b[0m\u001b[0;32m    526\u001b[0m \u001b[1;33m\u001b[0m\u001b[0m\n\u001b[0;32m    527\u001b[0m         \u001b[1;31m# post-process response\u001b[0m\u001b[1;33m\u001b[0m\u001b[1;33m\u001b[0m\u001b[1;33m\u001b[0m\u001b[0m\n",
      "\u001b[1;32mD:\\Anaconda\\envs\\new\\lib\\urllib\\request.py\u001b[0m in \u001b[0;36m_open\u001b[1;34m(self, req, data)\u001b[0m\n\u001b[0;32m    540\u001b[0m \u001b[1;33m\u001b[0m\u001b[0m\n\u001b[0;32m    541\u001b[0m         \u001b[0mprotocol\u001b[0m \u001b[1;33m=\u001b[0m \u001b[0mreq\u001b[0m\u001b[1;33m.\u001b[0m\u001b[0mtype\u001b[0m\u001b[1;33m\u001b[0m\u001b[1;33m\u001b[0m\u001b[0m\n\u001b[1;32m--> 542\u001b[1;33m         result = self._call_chain(self.handle_open, protocol, protocol +\n\u001b[0m\u001b[0;32m    543\u001b[0m                                   '_open', req)\n\u001b[0;32m    544\u001b[0m         \u001b[1;32mif\u001b[0m \u001b[0mresult\u001b[0m\u001b[1;33m:\u001b[0m\u001b[1;33m\u001b[0m\u001b[1;33m\u001b[0m\u001b[0m\n",
      "\u001b[1;32mD:\\Anaconda\\envs\\new\\lib\\urllib\\request.py\u001b[0m in \u001b[0;36m_call_chain\u001b[1;34m(self, chain, kind, meth_name, *args)\u001b[0m\n\u001b[0;32m    500\u001b[0m         \u001b[1;32mfor\u001b[0m \u001b[0mhandler\u001b[0m \u001b[1;32min\u001b[0m \u001b[0mhandlers\u001b[0m\u001b[1;33m:\u001b[0m\u001b[1;33m\u001b[0m\u001b[1;33m\u001b[0m\u001b[0m\n\u001b[0;32m    501\u001b[0m             \u001b[0mfunc\u001b[0m \u001b[1;33m=\u001b[0m \u001b[0mgetattr\u001b[0m\u001b[1;33m(\u001b[0m\u001b[0mhandler\u001b[0m\u001b[1;33m,\u001b[0m \u001b[0mmeth_name\u001b[0m\u001b[1;33m)\u001b[0m\u001b[1;33m\u001b[0m\u001b[1;33m\u001b[0m\u001b[0m\n\u001b[1;32m--> 502\u001b[1;33m             \u001b[0mresult\u001b[0m \u001b[1;33m=\u001b[0m \u001b[0mfunc\u001b[0m\u001b[1;33m(\u001b[0m\u001b[1;33m*\u001b[0m\u001b[0margs\u001b[0m\u001b[1;33m)\u001b[0m\u001b[1;33m\u001b[0m\u001b[1;33m\u001b[0m\u001b[0m\n\u001b[0m\u001b[0;32m    503\u001b[0m             \u001b[1;32mif\u001b[0m \u001b[0mresult\u001b[0m \u001b[1;32mis\u001b[0m \u001b[1;32mnot\u001b[0m \u001b[1;32mNone\u001b[0m\u001b[1;33m:\u001b[0m\u001b[1;33m\u001b[0m\u001b[1;33m\u001b[0m\u001b[0m\n\u001b[0;32m    504\u001b[0m                 \u001b[1;32mreturn\u001b[0m \u001b[0mresult\u001b[0m\u001b[1;33m\u001b[0m\u001b[1;33m\u001b[0m\u001b[0m\n",
      "\u001b[1;32mD:\\Anaconda\\envs\\new\\lib\\urllib\\request.py\u001b[0m in \u001b[0;36mhttps_open\u001b[1;34m(self, req)\u001b[0m\n\u001b[0;32m   1395\u001b[0m \u001b[1;33m\u001b[0m\u001b[0m\n\u001b[0;32m   1396\u001b[0m         \u001b[1;32mdef\u001b[0m \u001b[0mhttps_open\u001b[0m\u001b[1;33m(\u001b[0m\u001b[0mself\u001b[0m\u001b[1;33m,\u001b[0m \u001b[0mreq\u001b[0m\u001b[1;33m)\u001b[0m\u001b[1;33m:\u001b[0m\u001b[1;33m\u001b[0m\u001b[1;33m\u001b[0m\u001b[0m\n\u001b[1;32m-> 1397\u001b[1;33m             return self.do_open(http.client.HTTPSConnection, req,\n\u001b[0m\u001b[0;32m   1398\u001b[0m                 context=self._context, check_hostname=self._check_hostname)\n\u001b[0;32m   1399\u001b[0m \u001b[1;33m\u001b[0m\u001b[0m\n",
      "\u001b[1;32mD:\\Anaconda\\envs\\new\\lib\\urllib\\request.py\u001b[0m in \u001b[0;36mdo_open\u001b[1;34m(self, http_class, req, **http_conn_args)\u001b[0m\n\u001b[0;32m   1355\u001b[0m                           encode_chunked=req.has_header('Transfer-encoding'))\n\u001b[0;32m   1356\u001b[0m             \u001b[1;32mexcept\u001b[0m \u001b[0mOSError\u001b[0m \u001b[1;32mas\u001b[0m \u001b[0merr\u001b[0m\u001b[1;33m:\u001b[0m \u001b[1;31m# timeout error\u001b[0m\u001b[1;33m\u001b[0m\u001b[1;33m\u001b[0m\u001b[0m\n\u001b[1;32m-> 1357\u001b[1;33m                 \u001b[1;32mraise\u001b[0m \u001b[0mURLError\u001b[0m\u001b[1;33m(\u001b[0m\u001b[0merr\u001b[0m\u001b[1;33m)\u001b[0m\u001b[1;33m\u001b[0m\u001b[1;33m\u001b[0m\u001b[0m\n\u001b[0m\u001b[0;32m   1358\u001b[0m             \u001b[0mr\u001b[0m \u001b[1;33m=\u001b[0m \u001b[0mh\u001b[0m\u001b[1;33m.\u001b[0m\u001b[0mgetresponse\u001b[0m\u001b[1;33m(\u001b[0m\u001b[1;33m)\u001b[0m\u001b[1;33m\u001b[0m\u001b[1;33m\u001b[0m\u001b[0m\n\u001b[0;32m   1359\u001b[0m         \u001b[1;32mexcept\u001b[0m\u001b[1;33m:\u001b[0m\u001b[1;33m\u001b[0m\u001b[1;33m\u001b[0m\u001b[0m\n",
      "\u001b[1;31mURLError\u001b[0m: <urlopen error [WinError 10061] 由于目标计算机积极拒绝，无法连接。>"
     ]
    }
   ],
   "source": [
    "# Import the first dataset\n",
    "dfDirty = pd.read_csv('https://github.com/ShengweiDeng/i2p/releases/download/Data/202011listings.csv?raw=true')"
   ]
  },
  {
   "cell_type": "code",
   "execution_count": 3,
   "id": "7ec06d08",
   "metadata": {},
   "outputs": [
    {
     "data": {
      "text/html": [
       "<div>\n",
       "<style scoped>\n",
       "    .dataframe tbody tr th:only-of-type {\n",
       "        vertical-align: middle;\n",
       "    }\n",
       "\n",
       "    .dataframe tbody tr th {\n",
       "        vertical-align: top;\n",
       "    }\n",
       "\n",
       "    .dataframe thead th {\n",
       "        text-align: right;\n",
       "    }\n",
       "</style>\n",
       "<table border=\"1\" class=\"dataframe\">\n",
       "  <thead>\n",
       "    <tr style=\"text-align: right;\">\n",
       "      <th></th>\n",
       "      <th>id</th>\n",
       "      <th>listing_url</th>\n",
       "      <th>scrape_id</th>\n",
       "      <th>last_scraped</th>\n",
       "      <th>name</th>\n",
       "      <th>description</th>\n",
       "      <th>neighborhood_overview</th>\n",
       "      <th>picture_url</th>\n",
       "      <th>host_id</th>\n",
       "      <th>host_url</th>\n",
       "      <th>host_name</th>\n",
       "      <th>host_since</th>\n",
       "      <th>host_location</th>\n",
       "      <th>host_about</th>\n",
       "      <th>host_response_time</th>\n",
       "      <th>host_response_rate</th>\n",
       "      <th>host_acceptance_rate</th>\n",
       "      <th>host_is_superhost</th>\n",
       "      <th>host_thumbnail_url</th>\n",
       "      <th>host_picture_url</th>\n",
       "      <th>host_neighbourhood</th>\n",
       "      <th>host_listings_count</th>\n",
       "      <th>host_total_listings_count</th>\n",
       "      <th>host_verifications</th>\n",
       "      <th>host_has_profile_pic</th>\n",
       "      <th>host_identity_verified</th>\n",
       "      <th>neighbourhood</th>\n",
       "      <th>neighbourhood_cleansed</th>\n",
       "      <th>neighbourhood_group_cleansed</th>\n",
       "      <th>latitude</th>\n",
       "      <th>longitude</th>\n",
       "      <th>property_type</th>\n",
       "      <th>room_type</th>\n",
       "      <th>accommodates</th>\n",
       "      <th>bathrooms</th>\n",
       "      <th>bathrooms_text</th>\n",
       "      <th>bedrooms</th>\n",
       "      <th>beds</th>\n",
       "      <th>amenities</th>\n",
       "      <th>price</th>\n",
       "      <th>minimum_nights</th>\n",
       "      <th>maximum_nights</th>\n",
       "      <th>minimum_minimum_nights</th>\n",
       "      <th>maximum_minimum_nights</th>\n",
       "      <th>minimum_maximum_nights</th>\n",
       "      <th>maximum_maximum_nights</th>\n",
       "      <th>minimum_nights_avg_ntm</th>\n",
       "      <th>maximum_nights_avg_ntm</th>\n",
       "      <th>calendar_updated</th>\n",
       "      <th>has_availability</th>\n",
       "      <th>availability_30</th>\n",
       "      <th>availability_60</th>\n",
       "      <th>availability_90</th>\n",
       "      <th>availability_365</th>\n",
       "      <th>calendar_last_scraped</th>\n",
       "      <th>number_of_reviews</th>\n",
       "      <th>number_of_reviews_ltm</th>\n",
       "      <th>number_of_reviews_l30d</th>\n",
       "      <th>first_review</th>\n",
       "      <th>last_review</th>\n",
       "      <th>review_scores_rating</th>\n",
       "      <th>review_scores_accuracy</th>\n",
       "      <th>review_scores_cleanliness</th>\n",
       "      <th>review_scores_checkin</th>\n",
       "      <th>review_scores_communication</th>\n",
       "      <th>review_scores_location</th>\n",
       "      <th>review_scores_value</th>\n",
       "      <th>license</th>\n",
       "      <th>instant_bookable</th>\n",
       "      <th>calculated_host_listings_count</th>\n",
       "      <th>calculated_host_listings_count_entire_homes</th>\n",
       "      <th>calculated_host_listings_count_private_rooms</th>\n",
       "      <th>calculated_host_listings_count_shared_rooms</th>\n",
       "      <th>reviews_per_month</th>\n",
       "    </tr>\n",
       "  </thead>\n",
       "  <tbody>\n",
       "    <tr>\n",
       "      <th>0</th>\n",
       "      <td>11551</td>\n",
       "      <td>https://www.airbnb.com/rooms/11551</td>\n",
       "      <td>20201106040109</td>\n",
       "      <td>2020-11-07</td>\n",
       "      <td>Arty and Bright London Apartment in Zone 2</td>\n",
       "      <td>Unlike most rental apartments out there my fla...</td>\n",
       "      <td>Not even 10 minutes by metro from Victoria Sta...</td>\n",
       "      <td>https://a0.muscache.com/pictures/b7afccf4-18e5...</td>\n",
       "      <td>43039</td>\n",
       "      <td>https://www.airbnb.com/users/show/43039</td>\n",
       "      <td>Adriano</td>\n",
       "      <td>2009-10-03</td>\n",
       "      <td>London, England, United Kingdom</td>\n",
       "      <td>Hello, I'm a friendly Italian man with a very ...</td>\n",
       "      <td>within an hour</td>\n",
       "      <td>100%</td>\n",
       "      <td>100%</td>\n",
       "      <td>f</td>\n",
       "      <td>https://a0.muscache.com/im/pictures/user/47773...</td>\n",
       "      <td>https://a0.muscache.com/im/pictures/user/47773...</td>\n",
       "      <td>Brixton</td>\n",
       "      <td>3.0</td>\n",
       "      <td>3.0</td>\n",
       "      <td>['email', 'phone', 'reviews', 'jumio', 'offlin...</td>\n",
       "      <td>t</td>\n",
       "      <td>t</td>\n",
       "      <td>London, United Kingdom</td>\n",
       "      <td>Lambeth</td>\n",
       "      <td>NaN</td>\n",
       "      <td>51.46225</td>\n",
       "      <td>-0.11732</td>\n",
       "      <td>Entire apartment</td>\n",
       "      <td>Entire home/apt</td>\n",
       "      <td>4</td>\n",
       "      <td>NaN</td>\n",
       "      <td>1 bath</td>\n",
       "      <td>1.0</td>\n",
       "      <td>3.0</td>\n",
       "      <td>[\"Cable TV\", \"Coffee maker\", \"Carbon monoxide ...</td>\n",
       "      <td>$97.00</td>\n",
       "      <td>7</td>\n",
       "      <td>190</td>\n",
       "      <td>7</td>\n",
       "      <td>28</td>\n",
       "      <td>1125</td>\n",
       "      <td>1125</td>\n",
       "      <td>8.4</td>\n",
       "      <td>1125.0</td>\n",
       "      <td>NaN</td>\n",
       "      <td>t</td>\n",
       "      <td>0</td>\n",
       "      <td>0</td>\n",
       "      <td>4</td>\n",
       "      <td>279</td>\n",
       "      <td>2020-11-07</td>\n",
       "      <td>192</td>\n",
       "      <td>7</td>\n",
       "      <td>0</td>\n",
       "      <td>2010-03-21</td>\n",
       "      <td>2020-03-26</td>\n",
       "      <td>91.0</td>\n",
       "      <td>9.0</td>\n",
       "      <td>9.0</td>\n",
       "      <td>10.0</td>\n",
       "      <td>10.0</td>\n",
       "      <td>9.0</td>\n",
       "      <td>9.0</td>\n",
       "      <td>NaN</td>\n",
       "      <td>t</td>\n",
       "      <td>2</td>\n",
       "      <td>2</td>\n",
       "      <td>0</td>\n",
       "      <td>0</td>\n",
       "      <td>1.48</td>\n",
       "    </tr>\n",
       "  </tbody>\n",
       "</table>\n",
       "</div>"
      ],
      "text/plain": [
       "      id                         listing_url       scrape_id last_scraped  \\\n",
       "0  11551  https://www.airbnb.com/rooms/11551  20201106040109   2020-11-07   \n",
       "\n",
       "                                         name  \\\n",
       "0  Arty and Bright London Apartment in Zone 2   \n",
       "\n",
       "                                         description  \\\n",
       "0  Unlike most rental apartments out there my fla...   \n",
       "\n",
       "                               neighborhood_overview  \\\n",
       "0  Not even 10 minutes by metro from Victoria Sta...   \n",
       "\n",
       "                                         picture_url  host_id  \\\n",
       "0  https://a0.muscache.com/pictures/b7afccf4-18e5...    43039   \n",
       "\n",
       "                                  host_url host_name  host_since  \\\n",
       "0  https://www.airbnb.com/users/show/43039   Adriano  2009-10-03   \n",
       "\n",
       "                     host_location  \\\n",
       "0  London, England, United Kingdom   \n",
       "\n",
       "                                          host_about host_response_time  \\\n",
       "0  Hello, I'm a friendly Italian man with a very ...     within an hour   \n",
       "\n",
       "  host_response_rate host_acceptance_rate host_is_superhost  \\\n",
       "0               100%                 100%                 f   \n",
       "\n",
       "                                  host_thumbnail_url  \\\n",
       "0  https://a0.muscache.com/im/pictures/user/47773...   \n",
       "\n",
       "                                    host_picture_url host_neighbourhood  \\\n",
       "0  https://a0.muscache.com/im/pictures/user/47773...            Brixton   \n",
       "\n",
       "   host_listings_count  host_total_listings_count  \\\n",
       "0                  3.0                        3.0   \n",
       "\n",
       "                                  host_verifications host_has_profile_pic  \\\n",
       "0  ['email', 'phone', 'reviews', 'jumio', 'offlin...                    t   \n",
       "\n",
       "  host_identity_verified           neighbourhood neighbourhood_cleansed  \\\n",
       "0                      t  London, United Kingdom                Lambeth   \n",
       "\n",
       "   neighbourhood_group_cleansed  latitude  longitude     property_type  \\\n",
       "0                           NaN  51.46225   -0.11732  Entire apartment   \n",
       "\n",
       "         room_type  accommodates  bathrooms bathrooms_text  bedrooms  beds  \\\n",
       "0  Entire home/apt             4        NaN         1 bath       1.0   3.0   \n",
       "\n",
       "                                           amenities   price  minimum_nights  \\\n",
       "0  [\"Cable TV\", \"Coffee maker\", \"Carbon monoxide ...  $97.00               7   \n",
       "\n",
       "   maximum_nights  minimum_minimum_nights  maximum_minimum_nights  \\\n",
       "0             190                       7                      28   \n",
       "\n",
       "   minimum_maximum_nights  maximum_maximum_nights  minimum_nights_avg_ntm  \\\n",
       "0                    1125                    1125                     8.4   \n",
       "\n",
       "   maximum_nights_avg_ntm  calendar_updated has_availability  availability_30  \\\n",
       "0                  1125.0               NaN                t                0   \n",
       "\n",
       "   availability_60  availability_90  availability_365 calendar_last_scraped  \\\n",
       "0                0                4               279            2020-11-07   \n",
       "\n",
       "   number_of_reviews  number_of_reviews_ltm  number_of_reviews_l30d  \\\n",
       "0                192                      7                       0   \n",
       "\n",
       "  first_review last_review  review_scores_rating  review_scores_accuracy  \\\n",
       "0   2010-03-21  2020-03-26                  91.0                     9.0   \n",
       "\n",
       "   review_scores_cleanliness  review_scores_checkin  \\\n",
       "0                        9.0                   10.0   \n",
       "\n",
       "   review_scores_communication  review_scores_location  review_scores_value  \\\n",
       "0                         10.0                     9.0                  9.0   \n",
       "\n",
       "   license instant_bookable  calculated_host_listings_count  \\\n",
       "0      NaN                t                               2   \n",
       "\n",
       "   calculated_host_listings_count_entire_homes  \\\n",
       "0                                            2   \n",
       "\n",
       "   calculated_host_listings_count_private_rooms  \\\n",
       "0                                             0   \n",
       "\n",
       "   calculated_host_listings_count_shared_rooms  reviews_per_month  \n",
       "0                                            0               1.48  "
      ]
     },
     "execution_count": 3,
     "metadata": {},
     "output_type": "execute_result"
    }
   ],
   "source": [
    "# Since there are more than 70 columns, the default is not to display the full number of columns. So I set it to show all the columns.\n",
    "pd.set_option(\"display.max_columns\",None)\n",
    "dfDirty.head(1)"
   ]
  },
  {
   "cell_type": "code",
   "execution_count": 4,
   "id": "1969e20d",
   "metadata": {},
   "outputs": [
    {
     "name": "stdout",
     "output_type": "stream",
     "text": [
      "Number of Rows：76984, Number of Columns：74\n"
     ]
    }
   ],
   "source": [
    "# Display the number of rows and columns of data\n",
    "print(\"Number of Rows：%d, Number of Columns：%d\"%(dfDirty.shape[0],dfDirty.shape[1]) )"
   ]
  },
  {
   "cell_type": "markdown",
   "id": "1f5a8a50",
   "metadata": {},
   "source": [
    "### Import Second Dataset"
   ]
  },
  {
   "cell_type": "code",
   "execution_count": 13,
   "id": "3f53b696",
   "metadata": {},
   "outputs": [
    {
     "ename": "URLError",
     "evalue": "<urlopen error [WinError 10061] 由于目标计算机积极拒绝，无法连接。>",
     "output_type": "error",
     "traceback": [
      "\u001b[1;31m---------------------------------------------------------------------------\u001b[0m",
      "\u001b[1;31mConnectionRefusedError\u001b[0m                    Traceback (most recent call last)",
      "\u001b[1;32mD:\\Anaconda\\envs\\new\\lib\\urllib\\request.py\u001b[0m in \u001b[0;36mdo_open\u001b[1;34m(self, http_class, req, **http_conn_args)\u001b[0m\n\u001b[0;32m   1353\u001b[0m             \u001b[1;32mtry\u001b[0m\u001b[1;33m:\u001b[0m\u001b[1;33m\u001b[0m\u001b[1;33m\u001b[0m\u001b[0m\n\u001b[1;32m-> 1354\u001b[1;33m                 h.request(req.get_method(), req.selector, req.data, headers,\n\u001b[0m\u001b[0;32m   1355\u001b[0m                           encode_chunked=req.has_header('Transfer-encoding'))\n",
      "\u001b[1;32mD:\\Anaconda\\envs\\new\\lib\\http\\client.py\u001b[0m in \u001b[0;36mrequest\u001b[1;34m(self, method, url, body, headers, encode_chunked)\u001b[0m\n\u001b[0;32m   1255\u001b[0m         \u001b[1;34m\"\"\"Send a complete request to the server.\"\"\"\u001b[0m\u001b[1;33m\u001b[0m\u001b[1;33m\u001b[0m\u001b[0m\n\u001b[1;32m-> 1256\u001b[1;33m         \u001b[0mself\u001b[0m\u001b[1;33m.\u001b[0m\u001b[0m_send_request\u001b[0m\u001b[1;33m(\u001b[0m\u001b[0mmethod\u001b[0m\u001b[1;33m,\u001b[0m \u001b[0murl\u001b[0m\u001b[1;33m,\u001b[0m \u001b[0mbody\u001b[0m\u001b[1;33m,\u001b[0m \u001b[0mheaders\u001b[0m\u001b[1;33m,\u001b[0m \u001b[0mencode_chunked\u001b[0m\u001b[1;33m)\u001b[0m\u001b[1;33m\u001b[0m\u001b[1;33m\u001b[0m\u001b[0m\n\u001b[0m\u001b[0;32m   1257\u001b[0m \u001b[1;33m\u001b[0m\u001b[0m\n",
      "\u001b[1;32mD:\\Anaconda\\envs\\new\\lib\\http\\client.py\u001b[0m in \u001b[0;36m_send_request\u001b[1;34m(self, method, url, body, headers, encode_chunked)\u001b[0m\n\u001b[0;32m   1301\u001b[0m             \u001b[0mbody\u001b[0m \u001b[1;33m=\u001b[0m \u001b[0m_encode\u001b[0m\u001b[1;33m(\u001b[0m\u001b[0mbody\u001b[0m\u001b[1;33m,\u001b[0m \u001b[1;34m'body'\u001b[0m\u001b[1;33m)\u001b[0m\u001b[1;33m\u001b[0m\u001b[1;33m\u001b[0m\u001b[0m\n\u001b[1;32m-> 1302\u001b[1;33m         \u001b[0mself\u001b[0m\u001b[1;33m.\u001b[0m\u001b[0mendheaders\u001b[0m\u001b[1;33m(\u001b[0m\u001b[0mbody\u001b[0m\u001b[1;33m,\u001b[0m \u001b[0mencode_chunked\u001b[0m\u001b[1;33m=\u001b[0m\u001b[0mencode_chunked\u001b[0m\u001b[1;33m)\u001b[0m\u001b[1;33m\u001b[0m\u001b[1;33m\u001b[0m\u001b[0m\n\u001b[0m\u001b[0;32m   1303\u001b[0m \u001b[1;33m\u001b[0m\u001b[0m\n",
      "\u001b[1;32mD:\\Anaconda\\envs\\new\\lib\\http\\client.py\u001b[0m in \u001b[0;36mendheaders\u001b[1;34m(self, message_body, encode_chunked)\u001b[0m\n\u001b[0;32m   1250\u001b[0m             \u001b[1;32mraise\u001b[0m \u001b[0mCannotSendHeader\u001b[0m\u001b[1;33m(\u001b[0m\u001b[1;33m)\u001b[0m\u001b[1;33m\u001b[0m\u001b[1;33m\u001b[0m\u001b[0m\n\u001b[1;32m-> 1251\u001b[1;33m         \u001b[0mself\u001b[0m\u001b[1;33m.\u001b[0m\u001b[0m_send_output\u001b[0m\u001b[1;33m(\u001b[0m\u001b[0mmessage_body\u001b[0m\u001b[1;33m,\u001b[0m \u001b[0mencode_chunked\u001b[0m\u001b[1;33m=\u001b[0m\u001b[0mencode_chunked\u001b[0m\u001b[1;33m)\u001b[0m\u001b[1;33m\u001b[0m\u001b[1;33m\u001b[0m\u001b[0m\n\u001b[0m\u001b[0;32m   1252\u001b[0m \u001b[1;33m\u001b[0m\u001b[0m\n",
      "\u001b[1;32mD:\\Anaconda\\envs\\new\\lib\\http\\client.py\u001b[0m in \u001b[0;36m_send_output\u001b[1;34m(self, message_body, encode_chunked)\u001b[0m\n\u001b[0;32m   1010\u001b[0m         \u001b[1;32mdel\u001b[0m \u001b[0mself\u001b[0m\u001b[1;33m.\u001b[0m\u001b[0m_buffer\u001b[0m\u001b[1;33m[\u001b[0m\u001b[1;33m:\u001b[0m\u001b[1;33m]\u001b[0m\u001b[1;33m\u001b[0m\u001b[1;33m\u001b[0m\u001b[0m\n\u001b[1;32m-> 1011\u001b[1;33m         \u001b[0mself\u001b[0m\u001b[1;33m.\u001b[0m\u001b[0msend\u001b[0m\u001b[1;33m(\u001b[0m\u001b[0mmsg\u001b[0m\u001b[1;33m)\u001b[0m\u001b[1;33m\u001b[0m\u001b[1;33m\u001b[0m\u001b[0m\n\u001b[0m\u001b[0;32m   1012\u001b[0m \u001b[1;33m\u001b[0m\u001b[0m\n",
      "\u001b[1;32mD:\\Anaconda\\envs\\new\\lib\\http\\client.py\u001b[0m in \u001b[0;36msend\u001b[1;34m(self, data)\u001b[0m\n\u001b[0;32m    950\u001b[0m             \u001b[1;32mif\u001b[0m \u001b[0mself\u001b[0m\u001b[1;33m.\u001b[0m\u001b[0mauto_open\u001b[0m\u001b[1;33m:\u001b[0m\u001b[1;33m\u001b[0m\u001b[1;33m\u001b[0m\u001b[0m\n\u001b[1;32m--> 951\u001b[1;33m                 \u001b[0mself\u001b[0m\u001b[1;33m.\u001b[0m\u001b[0mconnect\u001b[0m\u001b[1;33m(\u001b[0m\u001b[1;33m)\u001b[0m\u001b[1;33m\u001b[0m\u001b[1;33m\u001b[0m\u001b[0m\n\u001b[0m\u001b[0;32m    952\u001b[0m             \u001b[1;32melse\u001b[0m\u001b[1;33m:\u001b[0m\u001b[1;33m\u001b[0m\u001b[1;33m\u001b[0m\u001b[0m\n",
      "\u001b[1;32mD:\\Anaconda\\envs\\new\\lib\\http\\client.py\u001b[0m in \u001b[0;36mconnect\u001b[1;34m(self)\u001b[0m\n\u001b[0;32m   1417\u001b[0m \u001b[1;33m\u001b[0m\u001b[0m\n\u001b[1;32m-> 1418\u001b[1;33m             \u001b[0msuper\u001b[0m\u001b[1;33m(\u001b[0m\u001b[1;33m)\u001b[0m\u001b[1;33m.\u001b[0m\u001b[0mconnect\u001b[0m\u001b[1;33m(\u001b[0m\u001b[1;33m)\u001b[0m\u001b[1;33m\u001b[0m\u001b[1;33m\u001b[0m\u001b[0m\n\u001b[0m\u001b[0;32m   1419\u001b[0m \u001b[1;33m\u001b[0m\u001b[0m\n",
      "\u001b[1;32mD:\\Anaconda\\envs\\new\\lib\\http\\client.py\u001b[0m in \u001b[0;36mconnect\u001b[1;34m(self)\u001b[0m\n\u001b[0;32m    921\u001b[0m         \u001b[1;34m\"\"\"Connect to the host and port specified in __init__.\"\"\"\u001b[0m\u001b[1;33m\u001b[0m\u001b[1;33m\u001b[0m\u001b[0m\n\u001b[1;32m--> 922\u001b[1;33m         self.sock = self._create_connection(\n\u001b[0m\u001b[0;32m    923\u001b[0m             (self.host,self.port), self.timeout, self.source_address)\n",
      "\u001b[1;32mD:\\Anaconda\\envs\\new\\lib\\socket.py\u001b[0m in \u001b[0;36mcreate_connection\u001b[1;34m(address, timeout, source_address)\u001b[0m\n\u001b[0;32m    807\u001b[0m         \u001b[1;32mtry\u001b[0m\u001b[1;33m:\u001b[0m\u001b[1;33m\u001b[0m\u001b[1;33m\u001b[0m\u001b[0m\n\u001b[1;32m--> 808\u001b[1;33m             \u001b[1;32mraise\u001b[0m \u001b[0merr\u001b[0m\u001b[1;33m\u001b[0m\u001b[1;33m\u001b[0m\u001b[0m\n\u001b[0m\u001b[0;32m    809\u001b[0m         \u001b[1;32mfinally\u001b[0m\u001b[1;33m:\u001b[0m\u001b[1;33m\u001b[0m\u001b[1;33m\u001b[0m\u001b[0m\n",
      "\u001b[1;32mD:\\Anaconda\\envs\\new\\lib\\socket.py\u001b[0m in \u001b[0;36mcreate_connection\u001b[1;34m(address, timeout, source_address)\u001b[0m\n\u001b[0;32m    795\u001b[0m                 \u001b[0msock\u001b[0m\u001b[1;33m.\u001b[0m\u001b[0mbind\u001b[0m\u001b[1;33m(\u001b[0m\u001b[0msource_address\u001b[0m\u001b[1;33m)\u001b[0m\u001b[1;33m\u001b[0m\u001b[1;33m\u001b[0m\u001b[0m\n\u001b[1;32m--> 796\u001b[1;33m             \u001b[0msock\u001b[0m\u001b[1;33m.\u001b[0m\u001b[0mconnect\u001b[0m\u001b[1;33m(\u001b[0m\u001b[0msa\u001b[0m\u001b[1;33m)\u001b[0m\u001b[1;33m\u001b[0m\u001b[1;33m\u001b[0m\u001b[0m\n\u001b[0m\u001b[0;32m    797\u001b[0m             \u001b[1;31m# Break explicitly a reference cycle\u001b[0m\u001b[1;33m\u001b[0m\u001b[1;33m\u001b[0m\u001b[1;33m\u001b[0m\u001b[0m\n",
      "\u001b[1;31mConnectionRefusedError\u001b[0m: [WinError 10061] 由于目标计算机积极拒绝，无法连接。",
      "\nDuring handling of the above exception, another exception occurred:\n",
      "\u001b[1;31mURLError\u001b[0m                                  Traceback (most recent call last)",
      "\u001b[1;32m~\\AppData\\Local\\Temp/ipykernel_413356/3841034227.py\u001b[0m in \u001b[0;36m<module>\u001b[1;34m\u001b[0m\n\u001b[0;32m      1\u001b[0m \u001b[1;31m# Import the second dataset\u001b[0m\u001b[1;33m\u001b[0m\u001b[1;33m\u001b[0m\u001b[1;33m\u001b[0m\u001b[0m\n\u001b[1;32m----> 2\u001b[1;33m \u001b[0mdfCases\u001b[0m \u001b[1;33m=\u001b[0m \u001b[0mpd\u001b[0m\u001b[1;33m.\u001b[0m\u001b[0mread_csv\u001b[0m\u001b[1;33m(\u001b[0m\u001b[1;34m'https://github.com/ShengweiDeng/i2p/raw/main/uk-daily-covid-cases-7day-average.csv?raw=true'\u001b[0m\u001b[1;33m)\u001b[0m\u001b[1;33m\u001b[0m\u001b[1;33m\u001b[0m\u001b[0m\n\u001b[0m",
      "\u001b[1;32mD:\\Anaconda\\envs\\new\\lib\\site-packages\\pandas\\util\\_decorators.py\u001b[0m in \u001b[0;36mwrapper\u001b[1;34m(*args, **kwargs)\u001b[0m\n\u001b[0;32m    309\u001b[0m                     \u001b[0mstacklevel\u001b[0m\u001b[1;33m=\u001b[0m\u001b[0mstacklevel\u001b[0m\u001b[1;33m,\u001b[0m\u001b[1;33m\u001b[0m\u001b[1;33m\u001b[0m\u001b[0m\n\u001b[0;32m    310\u001b[0m                 )\n\u001b[1;32m--> 311\u001b[1;33m             \u001b[1;32mreturn\u001b[0m \u001b[0mfunc\u001b[0m\u001b[1;33m(\u001b[0m\u001b[1;33m*\u001b[0m\u001b[0margs\u001b[0m\u001b[1;33m,\u001b[0m \u001b[1;33m**\u001b[0m\u001b[0mkwargs\u001b[0m\u001b[1;33m)\u001b[0m\u001b[1;33m\u001b[0m\u001b[1;33m\u001b[0m\u001b[0m\n\u001b[0m\u001b[0;32m    312\u001b[0m \u001b[1;33m\u001b[0m\u001b[0m\n\u001b[0;32m    313\u001b[0m         \u001b[1;32mreturn\u001b[0m \u001b[0mwrapper\u001b[0m\u001b[1;33m\u001b[0m\u001b[1;33m\u001b[0m\u001b[0m\n",
      "\u001b[1;32mD:\\Anaconda\\envs\\new\\lib\\site-packages\\pandas\\io\\parsers\\readers.py\u001b[0m in \u001b[0;36mread_csv\u001b[1;34m(filepath_or_buffer, sep, delimiter, header, names, index_col, usecols, squeeze, prefix, mangle_dupe_cols, dtype, engine, converters, true_values, false_values, skipinitialspace, skiprows, skipfooter, nrows, na_values, keep_default_na, na_filter, verbose, skip_blank_lines, parse_dates, infer_datetime_format, keep_date_col, date_parser, dayfirst, cache_dates, iterator, chunksize, compression, thousands, decimal, lineterminator, quotechar, quoting, doublequote, escapechar, comment, encoding, encoding_errors, dialect, error_bad_lines, warn_bad_lines, on_bad_lines, delim_whitespace, low_memory, memory_map, float_precision, storage_options)\u001b[0m\n\u001b[0;32m    584\u001b[0m     \u001b[0mkwds\u001b[0m\u001b[1;33m.\u001b[0m\u001b[0mupdate\u001b[0m\u001b[1;33m(\u001b[0m\u001b[0mkwds_defaults\u001b[0m\u001b[1;33m)\u001b[0m\u001b[1;33m\u001b[0m\u001b[1;33m\u001b[0m\u001b[0m\n\u001b[0;32m    585\u001b[0m \u001b[1;33m\u001b[0m\u001b[0m\n\u001b[1;32m--> 586\u001b[1;33m     \u001b[1;32mreturn\u001b[0m \u001b[0m_read\u001b[0m\u001b[1;33m(\u001b[0m\u001b[0mfilepath_or_buffer\u001b[0m\u001b[1;33m,\u001b[0m \u001b[0mkwds\u001b[0m\u001b[1;33m)\u001b[0m\u001b[1;33m\u001b[0m\u001b[1;33m\u001b[0m\u001b[0m\n\u001b[0m\u001b[0;32m    587\u001b[0m \u001b[1;33m\u001b[0m\u001b[0m\n\u001b[0;32m    588\u001b[0m \u001b[1;33m\u001b[0m\u001b[0m\n",
      "\u001b[1;32mD:\\Anaconda\\envs\\new\\lib\\site-packages\\pandas\\io\\parsers\\readers.py\u001b[0m in \u001b[0;36m_read\u001b[1;34m(filepath_or_buffer, kwds)\u001b[0m\n\u001b[0;32m    480\u001b[0m \u001b[1;33m\u001b[0m\u001b[0m\n\u001b[0;32m    481\u001b[0m     \u001b[1;31m# Create the parser.\u001b[0m\u001b[1;33m\u001b[0m\u001b[1;33m\u001b[0m\u001b[1;33m\u001b[0m\u001b[0m\n\u001b[1;32m--> 482\u001b[1;33m     \u001b[0mparser\u001b[0m \u001b[1;33m=\u001b[0m \u001b[0mTextFileReader\u001b[0m\u001b[1;33m(\u001b[0m\u001b[0mfilepath_or_buffer\u001b[0m\u001b[1;33m,\u001b[0m \u001b[1;33m**\u001b[0m\u001b[0mkwds\u001b[0m\u001b[1;33m)\u001b[0m\u001b[1;33m\u001b[0m\u001b[1;33m\u001b[0m\u001b[0m\n\u001b[0m\u001b[0;32m    483\u001b[0m \u001b[1;33m\u001b[0m\u001b[0m\n\u001b[0;32m    484\u001b[0m     \u001b[1;32mif\u001b[0m \u001b[0mchunksize\u001b[0m \u001b[1;32mor\u001b[0m \u001b[0miterator\u001b[0m\u001b[1;33m:\u001b[0m\u001b[1;33m\u001b[0m\u001b[1;33m\u001b[0m\u001b[0m\n",
      "\u001b[1;32mD:\\Anaconda\\envs\\new\\lib\\site-packages\\pandas\\io\\parsers\\readers.py\u001b[0m in \u001b[0;36m__init__\u001b[1;34m(self, f, engine, **kwds)\u001b[0m\n\u001b[0;32m    809\u001b[0m             \u001b[0mself\u001b[0m\u001b[1;33m.\u001b[0m\u001b[0moptions\u001b[0m\u001b[1;33m[\u001b[0m\u001b[1;34m\"has_index_names\"\u001b[0m\u001b[1;33m]\u001b[0m \u001b[1;33m=\u001b[0m \u001b[0mkwds\u001b[0m\u001b[1;33m[\u001b[0m\u001b[1;34m\"has_index_names\"\u001b[0m\u001b[1;33m]\u001b[0m\u001b[1;33m\u001b[0m\u001b[1;33m\u001b[0m\u001b[0m\n\u001b[0;32m    810\u001b[0m \u001b[1;33m\u001b[0m\u001b[0m\n\u001b[1;32m--> 811\u001b[1;33m         \u001b[0mself\u001b[0m\u001b[1;33m.\u001b[0m\u001b[0m_engine\u001b[0m \u001b[1;33m=\u001b[0m \u001b[0mself\u001b[0m\u001b[1;33m.\u001b[0m\u001b[0m_make_engine\u001b[0m\u001b[1;33m(\u001b[0m\u001b[0mself\u001b[0m\u001b[1;33m.\u001b[0m\u001b[0mengine\u001b[0m\u001b[1;33m)\u001b[0m\u001b[1;33m\u001b[0m\u001b[1;33m\u001b[0m\u001b[0m\n\u001b[0m\u001b[0;32m    812\u001b[0m \u001b[1;33m\u001b[0m\u001b[0m\n\u001b[0;32m    813\u001b[0m     \u001b[1;32mdef\u001b[0m \u001b[0mclose\u001b[0m\u001b[1;33m(\u001b[0m\u001b[0mself\u001b[0m\u001b[1;33m)\u001b[0m\u001b[1;33m:\u001b[0m\u001b[1;33m\u001b[0m\u001b[1;33m\u001b[0m\u001b[0m\n",
      "\u001b[1;32mD:\\Anaconda\\envs\\new\\lib\\site-packages\\pandas\\io\\parsers\\readers.py\u001b[0m in \u001b[0;36m_make_engine\u001b[1;34m(self, engine)\u001b[0m\n\u001b[0;32m   1038\u001b[0m             )\n\u001b[0;32m   1039\u001b[0m         \u001b[1;31m# error: Too many arguments for \"ParserBase\"\u001b[0m\u001b[1;33m\u001b[0m\u001b[1;33m\u001b[0m\u001b[1;33m\u001b[0m\u001b[0m\n\u001b[1;32m-> 1040\u001b[1;33m         \u001b[1;32mreturn\u001b[0m \u001b[0mmapping\u001b[0m\u001b[1;33m[\u001b[0m\u001b[0mengine\u001b[0m\u001b[1;33m]\u001b[0m\u001b[1;33m(\u001b[0m\u001b[0mself\u001b[0m\u001b[1;33m.\u001b[0m\u001b[0mf\u001b[0m\u001b[1;33m,\u001b[0m \u001b[1;33m**\u001b[0m\u001b[0mself\u001b[0m\u001b[1;33m.\u001b[0m\u001b[0moptions\u001b[0m\u001b[1;33m)\u001b[0m  \u001b[1;31m# type: ignore[call-arg]\u001b[0m\u001b[1;33m\u001b[0m\u001b[1;33m\u001b[0m\u001b[0m\n\u001b[0m\u001b[0;32m   1041\u001b[0m \u001b[1;33m\u001b[0m\u001b[0m\n\u001b[0;32m   1042\u001b[0m     \u001b[1;32mdef\u001b[0m \u001b[0m_failover_to_python\u001b[0m\u001b[1;33m(\u001b[0m\u001b[0mself\u001b[0m\u001b[1;33m)\u001b[0m\u001b[1;33m:\u001b[0m\u001b[1;33m\u001b[0m\u001b[1;33m\u001b[0m\u001b[0m\n",
      "\u001b[1;32mD:\\Anaconda\\envs\\new\\lib\\site-packages\\pandas\\io\\parsers\\c_parser_wrapper.py\u001b[0m in \u001b[0;36m__init__\u001b[1;34m(self, src, **kwds)\u001b[0m\n\u001b[0;32m     49\u001b[0m \u001b[1;33m\u001b[0m\u001b[0m\n\u001b[0;32m     50\u001b[0m         \u001b[1;31m# open handles\u001b[0m\u001b[1;33m\u001b[0m\u001b[1;33m\u001b[0m\u001b[1;33m\u001b[0m\u001b[0m\n\u001b[1;32m---> 51\u001b[1;33m         \u001b[0mself\u001b[0m\u001b[1;33m.\u001b[0m\u001b[0m_open_handles\u001b[0m\u001b[1;33m(\u001b[0m\u001b[0msrc\u001b[0m\u001b[1;33m,\u001b[0m \u001b[0mkwds\u001b[0m\u001b[1;33m)\u001b[0m\u001b[1;33m\u001b[0m\u001b[1;33m\u001b[0m\u001b[0m\n\u001b[0m\u001b[0;32m     52\u001b[0m         \u001b[1;32massert\u001b[0m \u001b[0mself\u001b[0m\u001b[1;33m.\u001b[0m\u001b[0mhandles\u001b[0m \u001b[1;32mis\u001b[0m \u001b[1;32mnot\u001b[0m \u001b[1;32mNone\u001b[0m\u001b[1;33m\u001b[0m\u001b[1;33m\u001b[0m\u001b[0m\n\u001b[0;32m     53\u001b[0m \u001b[1;33m\u001b[0m\u001b[0m\n",
      "\u001b[1;32mD:\\Anaconda\\envs\\new\\lib\\site-packages\\pandas\\io\\parsers\\base_parser.py\u001b[0m in \u001b[0;36m_open_handles\u001b[1;34m(self, src, kwds)\u001b[0m\n\u001b[0;32m    220\u001b[0m         \u001b[0mLet\u001b[0m \u001b[0mthe\u001b[0m \u001b[0mreaders\u001b[0m \u001b[0mopen\u001b[0m \u001b[0mIOHandles\u001b[0m \u001b[0mafter\u001b[0m \u001b[0mthey\u001b[0m \u001b[0mare\u001b[0m \u001b[0mdone\u001b[0m \u001b[1;32mwith\u001b[0m \u001b[0mtheir\u001b[0m \u001b[0mpotential\u001b[0m \u001b[0mraises\u001b[0m\u001b[1;33m.\u001b[0m\u001b[1;33m\u001b[0m\u001b[1;33m\u001b[0m\u001b[0m\n\u001b[0;32m    221\u001b[0m         \"\"\"\n\u001b[1;32m--> 222\u001b[1;33m         self.handles = get_handle(\n\u001b[0m\u001b[0;32m    223\u001b[0m             \u001b[0msrc\u001b[0m\u001b[1;33m,\u001b[0m\u001b[1;33m\u001b[0m\u001b[1;33m\u001b[0m\u001b[0m\n\u001b[0;32m    224\u001b[0m             \u001b[1;34m\"r\"\u001b[0m\u001b[1;33m,\u001b[0m\u001b[1;33m\u001b[0m\u001b[1;33m\u001b[0m\u001b[0m\n",
      "\u001b[1;32mD:\\Anaconda\\envs\\new\\lib\\site-packages\\pandas\\io\\common.py\u001b[0m in \u001b[0;36mget_handle\u001b[1;34m(path_or_buf, mode, encoding, compression, memory_map, is_text, errors, storage_options)\u001b[0m\n\u001b[0;32m    607\u001b[0m \u001b[1;33m\u001b[0m\u001b[0m\n\u001b[0;32m    608\u001b[0m     \u001b[1;31m# open URLs\u001b[0m\u001b[1;33m\u001b[0m\u001b[1;33m\u001b[0m\u001b[1;33m\u001b[0m\u001b[0m\n\u001b[1;32m--> 609\u001b[1;33m     ioargs = _get_filepath_or_buffer(\n\u001b[0m\u001b[0;32m    610\u001b[0m         \u001b[0mpath_or_buf\u001b[0m\u001b[1;33m,\u001b[0m\u001b[1;33m\u001b[0m\u001b[1;33m\u001b[0m\u001b[0m\n\u001b[0;32m    611\u001b[0m         \u001b[0mencoding\u001b[0m\u001b[1;33m=\u001b[0m\u001b[0mencoding\u001b[0m\u001b[1;33m,\u001b[0m\u001b[1;33m\u001b[0m\u001b[1;33m\u001b[0m\u001b[0m\n",
      "\u001b[1;32mD:\\Anaconda\\envs\\new\\lib\\site-packages\\pandas\\io\\common.py\u001b[0m in \u001b[0;36m_get_filepath_or_buffer\u001b[1;34m(filepath_or_buffer, encoding, compression, mode, storage_options)\u001b[0m\n\u001b[0;32m    310\u001b[0m         \u001b[1;31m# assuming storage_options is to be interpreted as headers\u001b[0m\u001b[1;33m\u001b[0m\u001b[1;33m\u001b[0m\u001b[1;33m\u001b[0m\u001b[0m\n\u001b[0;32m    311\u001b[0m         \u001b[0mreq_info\u001b[0m \u001b[1;33m=\u001b[0m \u001b[0murllib\u001b[0m\u001b[1;33m.\u001b[0m\u001b[0mrequest\u001b[0m\u001b[1;33m.\u001b[0m\u001b[0mRequest\u001b[0m\u001b[1;33m(\u001b[0m\u001b[0mfilepath_or_buffer\u001b[0m\u001b[1;33m,\u001b[0m \u001b[0mheaders\u001b[0m\u001b[1;33m=\u001b[0m\u001b[0mstorage_options\u001b[0m\u001b[1;33m)\u001b[0m\u001b[1;33m\u001b[0m\u001b[1;33m\u001b[0m\u001b[0m\n\u001b[1;32m--> 312\u001b[1;33m         \u001b[1;32mwith\u001b[0m \u001b[0murlopen\u001b[0m\u001b[1;33m(\u001b[0m\u001b[0mreq_info\u001b[0m\u001b[1;33m)\u001b[0m \u001b[1;32mas\u001b[0m \u001b[0mreq\u001b[0m\u001b[1;33m:\u001b[0m\u001b[1;33m\u001b[0m\u001b[1;33m\u001b[0m\u001b[0m\n\u001b[0m\u001b[0;32m    313\u001b[0m             \u001b[0mcontent_encoding\u001b[0m \u001b[1;33m=\u001b[0m \u001b[0mreq\u001b[0m\u001b[1;33m.\u001b[0m\u001b[0mheaders\u001b[0m\u001b[1;33m.\u001b[0m\u001b[0mget\u001b[0m\u001b[1;33m(\u001b[0m\u001b[1;34m\"Content-Encoding\"\u001b[0m\u001b[1;33m,\u001b[0m \u001b[1;32mNone\u001b[0m\u001b[1;33m)\u001b[0m\u001b[1;33m\u001b[0m\u001b[1;33m\u001b[0m\u001b[0m\n\u001b[0;32m    314\u001b[0m             \u001b[1;32mif\u001b[0m \u001b[0mcontent_encoding\u001b[0m \u001b[1;33m==\u001b[0m \u001b[1;34m\"gzip\"\u001b[0m\u001b[1;33m:\u001b[0m\u001b[1;33m\u001b[0m\u001b[1;33m\u001b[0m\u001b[0m\n",
      "\u001b[1;32mD:\\Anaconda\\envs\\new\\lib\\site-packages\\pandas\\io\\common.py\u001b[0m in \u001b[0;36murlopen\u001b[1;34m(*args, **kwargs)\u001b[0m\n\u001b[0;32m    210\u001b[0m     \u001b[1;32mimport\u001b[0m \u001b[0murllib\u001b[0m\u001b[1;33m.\u001b[0m\u001b[0mrequest\u001b[0m\u001b[1;33m\u001b[0m\u001b[1;33m\u001b[0m\u001b[0m\n\u001b[0;32m    211\u001b[0m \u001b[1;33m\u001b[0m\u001b[0m\n\u001b[1;32m--> 212\u001b[1;33m     \u001b[1;32mreturn\u001b[0m \u001b[0murllib\u001b[0m\u001b[1;33m.\u001b[0m\u001b[0mrequest\u001b[0m\u001b[1;33m.\u001b[0m\u001b[0murlopen\u001b[0m\u001b[1;33m(\u001b[0m\u001b[1;33m*\u001b[0m\u001b[0margs\u001b[0m\u001b[1;33m,\u001b[0m \u001b[1;33m**\u001b[0m\u001b[0mkwargs\u001b[0m\u001b[1;33m)\u001b[0m\u001b[1;33m\u001b[0m\u001b[1;33m\u001b[0m\u001b[0m\n\u001b[0m\u001b[0;32m    213\u001b[0m \u001b[1;33m\u001b[0m\u001b[0m\n\u001b[0;32m    214\u001b[0m \u001b[1;33m\u001b[0m\u001b[0m\n",
      "\u001b[1;32mD:\\Anaconda\\envs\\new\\lib\\urllib\\request.py\u001b[0m in \u001b[0;36murlopen\u001b[1;34m(url, data, timeout, cafile, capath, cadefault, context)\u001b[0m\n\u001b[0;32m    220\u001b[0m     \u001b[1;32melse\u001b[0m\u001b[1;33m:\u001b[0m\u001b[1;33m\u001b[0m\u001b[1;33m\u001b[0m\u001b[0m\n\u001b[0;32m    221\u001b[0m         \u001b[0mopener\u001b[0m \u001b[1;33m=\u001b[0m \u001b[0m_opener\u001b[0m\u001b[1;33m\u001b[0m\u001b[1;33m\u001b[0m\u001b[0m\n\u001b[1;32m--> 222\u001b[1;33m     \u001b[1;32mreturn\u001b[0m \u001b[0mopener\u001b[0m\u001b[1;33m.\u001b[0m\u001b[0mopen\u001b[0m\u001b[1;33m(\u001b[0m\u001b[0murl\u001b[0m\u001b[1;33m,\u001b[0m \u001b[0mdata\u001b[0m\u001b[1;33m,\u001b[0m \u001b[0mtimeout\u001b[0m\u001b[1;33m)\u001b[0m\u001b[1;33m\u001b[0m\u001b[1;33m\u001b[0m\u001b[0m\n\u001b[0m\u001b[0;32m    223\u001b[0m \u001b[1;33m\u001b[0m\u001b[0m\n\u001b[0;32m    224\u001b[0m \u001b[1;32mdef\u001b[0m \u001b[0minstall_opener\u001b[0m\u001b[1;33m(\u001b[0m\u001b[0mopener\u001b[0m\u001b[1;33m)\u001b[0m\u001b[1;33m:\u001b[0m\u001b[1;33m\u001b[0m\u001b[1;33m\u001b[0m\u001b[0m\n",
      "\u001b[1;32mD:\\Anaconda\\envs\\new\\lib\\urllib\\request.py\u001b[0m in \u001b[0;36mopen\u001b[1;34m(self, fullurl, data, timeout)\u001b[0m\n\u001b[0;32m    523\u001b[0m \u001b[1;33m\u001b[0m\u001b[0m\n\u001b[0;32m    524\u001b[0m         \u001b[0msys\u001b[0m\u001b[1;33m.\u001b[0m\u001b[0maudit\u001b[0m\u001b[1;33m(\u001b[0m\u001b[1;34m'urllib.Request'\u001b[0m\u001b[1;33m,\u001b[0m \u001b[0mreq\u001b[0m\u001b[1;33m.\u001b[0m\u001b[0mfull_url\u001b[0m\u001b[1;33m,\u001b[0m \u001b[0mreq\u001b[0m\u001b[1;33m.\u001b[0m\u001b[0mdata\u001b[0m\u001b[1;33m,\u001b[0m \u001b[0mreq\u001b[0m\u001b[1;33m.\u001b[0m\u001b[0mheaders\u001b[0m\u001b[1;33m,\u001b[0m \u001b[0mreq\u001b[0m\u001b[1;33m.\u001b[0m\u001b[0mget_method\u001b[0m\u001b[1;33m(\u001b[0m\u001b[1;33m)\u001b[0m\u001b[1;33m)\u001b[0m\u001b[1;33m\u001b[0m\u001b[1;33m\u001b[0m\u001b[0m\n\u001b[1;32m--> 525\u001b[1;33m         \u001b[0mresponse\u001b[0m \u001b[1;33m=\u001b[0m \u001b[0mself\u001b[0m\u001b[1;33m.\u001b[0m\u001b[0m_open\u001b[0m\u001b[1;33m(\u001b[0m\u001b[0mreq\u001b[0m\u001b[1;33m,\u001b[0m \u001b[0mdata\u001b[0m\u001b[1;33m)\u001b[0m\u001b[1;33m\u001b[0m\u001b[1;33m\u001b[0m\u001b[0m\n\u001b[0m\u001b[0;32m    526\u001b[0m \u001b[1;33m\u001b[0m\u001b[0m\n\u001b[0;32m    527\u001b[0m         \u001b[1;31m# post-process response\u001b[0m\u001b[1;33m\u001b[0m\u001b[1;33m\u001b[0m\u001b[1;33m\u001b[0m\u001b[0m\n",
      "\u001b[1;32mD:\\Anaconda\\envs\\new\\lib\\urllib\\request.py\u001b[0m in \u001b[0;36m_open\u001b[1;34m(self, req, data)\u001b[0m\n\u001b[0;32m    540\u001b[0m \u001b[1;33m\u001b[0m\u001b[0m\n\u001b[0;32m    541\u001b[0m         \u001b[0mprotocol\u001b[0m \u001b[1;33m=\u001b[0m \u001b[0mreq\u001b[0m\u001b[1;33m.\u001b[0m\u001b[0mtype\u001b[0m\u001b[1;33m\u001b[0m\u001b[1;33m\u001b[0m\u001b[0m\n\u001b[1;32m--> 542\u001b[1;33m         result = self._call_chain(self.handle_open, protocol, protocol +\n\u001b[0m\u001b[0;32m    543\u001b[0m                                   '_open', req)\n\u001b[0;32m    544\u001b[0m         \u001b[1;32mif\u001b[0m \u001b[0mresult\u001b[0m\u001b[1;33m:\u001b[0m\u001b[1;33m\u001b[0m\u001b[1;33m\u001b[0m\u001b[0m\n",
      "\u001b[1;32mD:\\Anaconda\\envs\\new\\lib\\urllib\\request.py\u001b[0m in \u001b[0;36m_call_chain\u001b[1;34m(self, chain, kind, meth_name, *args)\u001b[0m\n\u001b[0;32m    500\u001b[0m         \u001b[1;32mfor\u001b[0m \u001b[0mhandler\u001b[0m \u001b[1;32min\u001b[0m \u001b[0mhandlers\u001b[0m\u001b[1;33m:\u001b[0m\u001b[1;33m\u001b[0m\u001b[1;33m\u001b[0m\u001b[0m\n\u001b[0;32m    501\u001b[0m             \u001b[0mfunc\u001b[0m \u001b[1;33m=\u001b[0m \u001b[0mgetattr\u001b[0m\u001b[1;33m(\u001b[0m\u001b[0mhandler\u001b[0m\u001b[1;33m,\u001b[0m \u001b[0mmeth_name\u001b[0m\u001b[1;33m)\u001b[0m\u001b[1;33m\u001b[0m\u001b[1;33m\u001b[0m\u001b[0m\n\u001b[1;32m--> 502\u001b[1;33m             \u001b[0mresult\u001b[0m \u001b[1;33m=\u001b[0m \u001b[0mfunc\u001b[0m\u001b[1;33m(\u001b[0m\u001b[1;33m*\u001b[0m\u001b[0margs\u001b[0m\u001b[1;33m)\u001b[0m\u001b[1;33m\u001b[0m\u001b[1;33m\u001b[0m\u001b[0m\n\u001b[0m\u001b[0;32m    503\u001b[0m             \u001b[1;32mif\u001b[0m \u001b[0mresult\u001b[0m \u001b[1;32mis\u001b[0m \u001b[1;32mnot\u001b[0m \u001b[1;32mNone\u001b[0m\u001b[1;33m:\u001b[0m\u001b[1;33m\u001b[0m\u001b[1;33m\u001b[0m\u001b[0m\n\u001b[0;32m    504\u001b[0m                 \u001b[1;32mreturn\u001b[0m \u001b[0mresult\u001b[0m\u001b[1;33m\u001b[0m\u001b[1;33m\u001b[0m\u001b[0m\n",
      "\u001b[1;32mD:\\Anaconda\\envs\\new\\lib\\urllib\\request.py\u001b[0m in \u001b[0;36mhttps_open\u001b[1;34m(self, req)\u001b[0m\n\u001b[0;32m   1395\u001b[0m \u001b[1;33m\u001b[0m\u001b[0m\n\u001b[0;32m   1396\u001b[0m         \u001b[1;32mdef\u001b[0m \u001b[0mhttps_open\u001b[0m\u001b[1;33m(\u001b[0m\u001b[0mself\u001b[0m\u001b[1;33m,\u001b[0m \u001b[0mreq\u001b[0m\u001b[1;33m)\u001b[0m\u001b[1;33m:\u001b[0m\u001b[1;33m\u001b[0m\u001b[1;33m\u001b[0m\u001b[0m\n\u001b[1;32m-> 1397\u001b[1;33m             return self.do_open(http.client.HTTPSConnection, req,\n\u001b[0m\u001b[0;32m   1398\u001b[0m                 context=self._context, check_hostname=self._check_hostname)\n\u001b[0;32m   1399\u001b[0m \u001b[1;33m\u001b[0m\u001b[0m\n",
      "\u001b[1;32mD:\\Anaconda\\envs\\new\\lib\\urllib\\request.py\u001b[0m in \u001b[0;36mdo_open\u001b[1;34m(self, http_class, req, **http_conn_args)\u001b[0m\n\u001b[0;32m   1355\u001b[0m                           encode_chunked=req.has_header('Transfer-encoding'))\n\u001b[0;32m   1356\u001b[0m             \u001b[1;32mexcept\u001b[0m \u001b[0mOSError\u001b[0m \u001b[1;32mas\u001b[0m \u001b[0merr\u001b[0m\u001b[1;33m:\u001b[0m \u001b[1;31m# timeout error\u001b[0m\u001b[1;33m\u001b[0m\u001b[1;33m\u001b[0m\u001b[0m\n\u001b[1;32m-> 1357\u001b[1;33m                 \u001b[1;32mraise\u001b[0m \u001b[0mURLError\u001b[0m\u001b[1;33m(\u001b[0m\u001b[0merr\u001b[0m\u001b[1;33m)\u001b[0m\u001b[1;33m\u001b[0m\u001b[1;33m\u001b[0m\u001b[0m\n\u001b[0m\u001b[0;32m   1358\u001b[0m             \u001b[0mr\u001b[0m \u001b[1;33m=\u001b[0m \u001b[0mh\u001b[0m\u001b[1;33m.\u001b[0m\u001b[0mgetresponse\u001b[0m\u001b[1;33m(\u001b[0m\u001b[1;33m)\u001b[0m\u001b[1;33m\u001b[0m\u001b[1;33m\u001b[0m\u001b[0m\n\u001b[0;32m   1359\u001b[0m         \u001b[1;32mexcept\u001b[0m\u001b[1;33m:\u001b[0m\u001b[1;33m\u001b[0m\u001b[1;33m\u001b[0m\u001b[0m\n",
      "\u001b[1;31mURLError\u001b[0m: <urlopen error [WinError 10061] 由于目标计算机积极拒绝，无法连接。>"
     ]
    }
   ],
   "source": [
    "# Import the second dataset\n",
    "dfCases = pd.read_csv('https://github.com/ShengweiDeng/i2p/raw/main/uk-daily-covid-cases-7day-average.csv?raw=true')"
   ]
  },
  {
   "cell_type": "code",
   "execution_count": 6,
   "id": "1280446b",
   "metadata": {},
   "outputs": [
    {
     "data": {
      "text/html": [
       "<div>\n",
       "<style scoped>\n",
       "    .dataframe tbody tr th:only-of-type {\n",
       "        vertical-align: middle;\n",
       "    }\n",
       "\n",
       "    .dataframe tbody tr th {\n",
       "        vertical-align: top;\n",
       "    }\n",
       "\n",
       "    .dataframe thead th {\n",
       "        text-align: right;\n",
       "    }\n",
       "</style>\n",
       "<table border=\"1\" class=\"dataframe\">\n",
       "  <thead>\n",
       "    <tr style=\"text-align: right;\">\n",
       "      <th></th>\n",
       "      <th>Entity</th>\n",
       "      <th>Code</th>\n",
       "      <th>Day</th>\n",
       "      <th>daily_cases_rate_rolling_average</th>\n",
       "    </tr>\n",
       "  </thead>\n",
       "  <tbody>\n",
       "    <tr>\n",
       "      <th>0</th>\n",
       "      <td>Aberdeen City</td>\n",
       "      <td>NaN</td>\n",
       "      <td>2020-08-05</td>\n",
       "      <td>7.228571</td>\n",
       "    </tr>\n",
       "    <tr>\n",
       "      <th>1</th>\n",
       "      <td>Aberdeen City</td>\n",
       "      <td>NaN</td>\n",
       "      <td>2020-08-06</td>\n",
       "      <td>8.800000</td>\n",
       "    </tr>\n",
       "  </tbody>\n",
       "</table>\n",
       "</div>"
      ],
      "text/plain": [
       "          Entity Code         Day  daily_cases_rate_rolling_average\n",
       "0  Aberdeen City  NaN  2020-08-05                          7.228571\n",
       "1  Aberdeen City  NaN  2020-08-06                          8.800000"
      ]
     },
     "execution_count": 6,
     "metadata": {},
     "output_type": "execute_result"
    }
   ],
   "source": [
    "# Display the first two rows of dataframe\n",
    "dfCases.head(2)"
   ]
  },
  {
   "cell_type": "code",
   "execution_count": 7,
   "id": "ca3d500d",
   "metadata": {},
   "outputs": [
    {
     "name": "stdout",
     "output_type": "stream",
     "text": [
      "Number of Rows：134786, Number of Columns: 4\n"
     ]
    }
   ],
   "source": [
    "# Display the number of rows and columns of data\n",
    "print(\"Number of Rows：%d, Number of Columns: %d\"%(dfCases.shape[0],dfCases.shape[1]))"
   ]
  },
  {
   "cell_type": "markdown",
   "id": "f186fcab",
   "metadata": {},
   "source": [
    "## Data Preprocessing"
   ]
  },
  {
   "cell_type": "markdown",
   "id": "ed6e188d",
   "metadata": {},
   "source": [
    "### Data preprocessing for the first dataset"
   ]
  },
  {
   "cell_type": "markdown",
   "id": "52d92080",
   "metadata": {},
   "source": [
    "> 1. Check missing values. There are four columns with all null values, so I decide to delete these columns directly (note that only the columns with all null values are deleted in this part, and the remaining columns will be processed in subsequent steps)\n",
    "\n",
    "> 2. Check the spatial information (lat, long) of these houses to see if these houses are among the 32 Boroughs of London. In this part, I use the visualization + \"GeoSeries.contains()\" method of Geopandas.\n",
    ">> - First draw a map, and display these houses in the form of points on the map through latitude and longitude coordinates. In the picture, I found that most of the houses are in the 32 Boroughs, but I can't accurately judge how many houses are not in the Boroughs.\n",
    ">> - Secondly, I decided to use the GeoSeries.contains() method to judge whether the latitude and longitude are within the 32 Boroughs boundaries. Finally found that a few are not in it, so I decide to delete these houses."
   ]
  },
  {
   "cell_type": "markdown",
   "id": "831242cb",
   "metadata": {},
   "source": [
    "**1. Check missing values**"
   ]
  },
  {
   "cell_type": "code",
   "execution_count": 8,
   "id": "089dc91a",
   "metadata": {},
   "outputs": [
    {
     "data": {
      "text/plain": [
       "True"
      ]
     },
     "execution_count": 8,
     "metadata": {},
     "output_type": "execute_result"
    }
   ],
   "source": [
    "\"\"\"\n",
    "First check the entire Dataframe for missing values\n",
    "\"\"\"\n",
    "dfDirty.isnull().values.any()"
   ]
  },
  {
   "cell_type": "markdown",
   "id": "4e4d1fe5",
   "metadata": {},
   "source": [
    "I found in the previous step that there are nulls in the first Dataframe, so I decided to look at how many missing values exist in each column"
   ]
  },
  {
   "cell_type": "code",
   "execution_count": 9,
   "id": "2366f968",
   "metadata": {
    "scrolled": true
   },
   "outputs": [
    {
     "data": {
      "text/html": [
       "<div>\n",
       "<style scoped>\n",
       "    .dataframe tbody tr th:only-of-type {\n",
       "        vertical-align: middle;\n",
       "    }\n",
       "\n",
       "    .dataframe tbody tr th {\n",
       "        vertical-align: top;\n",
       "    }\n",
       "\n",
       "    .dataframe thead th {\n",
       "        text-align: right;\n",
       "    }\n",
       "</style>\n",
       "<table border=\"1\" class=\"dataframe\">\n",
       "  <thead>\n",
       "    <tr style=\"text-align: right;\">\n",
       "      <th></th>\n",
       "      <th>Column_Name</th>\n",
       "      <th>NaN_Counts</th>\n",
       "    </tr>\n",
       "  </thead>\n",
       "  <tbody>\n",
       "    <tr>\n",
       "      <th>28</th>\n",
       "      <td>neighbourhood_group_cleansed</td>\n",
       "      <td>76984</td>\n",
       "    </tr>\n",
       "    <tr>\n",
       "      <th>67</th>\n",
       "      <td>license</td>\n",
       "      <td>76984</td>\n",
       "    </tr>\n",
       "    <tr>\n",
       "      <th>34</th>\n",
       "      <td>bathrooms</td>\n",
       "      <td>76984</td>\n",
       "    </tr>\n",
       "    <tr>\n",
       "      <th>48</th>\n",
       "      <td>calendar_updated</td>\n",
       "      <td>76984</td>\n",
       "    </tr>\n",
       "    <tr>\n",
       "      <th>14</th>\n",
       "      <td>host_response_time</td>\n",
       "      <td>37618</td>\n",
       "    </tr>\n",
       "  </tbody>\n",
       "</table>\n",
       "</div>"
      ],
      "text/plain": [
       "                     Column_Name  NaN_Counts\n",
       "28  neighbourhood_group_cleansed       76984\n",
       "67                       license       76984\n",
       "34                     bathrooms       76984\n",
       "48              calendar_updated       76984\n",
       "14            host_response_time       37618"
      ]
     },
     "execution_count": 9,
     "metadata": {},
     "output_type": "execute_result"
    }
   ],
   "source": [
    "\"\"\"\n",
    "Find out how many missing values exist in each column\n",
    "\"\"\"\n",
    "# Count the number of missing values in each column and create a new Dataframe based on the results\n",
    "dfDirtyCheck0 = pd.DataFrame(dfDirty.isnull().sum().rename_axis('Column_Name').reset_index(name='NaN_Counts'))\n",
    "\n",
    "# Sort this new Dataframe from largest to smallest according to column \"NaN_Counts\" column\n",
    "dfDirtyCheck0 = dfDirtyCheck0.sort_values([\"NaN_Counts\"], ascending=False)\n",
    "dfDirtyCheck0.head(5)"
   ]
  },
  {
   "cell_type": "markdown",
   "id": "f94c7a47",
   "metadata": {},
   "source": [
    "According to the previous steps, this dataset has a total of 76984 records. From the above results, it is found that the four columns \"neighbourhood_group_cleansed\", \"license\", \"bathrooms\" and \"calendar_updated\" are all empty values, so I decided to delete these four columns . The remaining columns, if used in subsequent steps, I will handle for null values in subsequent steps."
   ]
  },
  {
   "cell_type": "code",
   "execution_count": 10,
   "id": "bb3bbbf9",
   "metadata": {},
   "outputs": [],
   "source": [
    "\"\"\"\n",
    "Remove the \"neighbourhood_group_cleansed\", \"license\", \"bathrooms\" and \"calendar_updated\" columns that are all nulls.\n",
    "\"\"\"\n",
    "dfDirty.drop([\"neighbourhood_group_cleansed\", \"license\", \"bathrooms\", \"calendar_updated\"], axis=1, inplace=True)"
   ]
  },
  {
   "cell_type": "code",
   "execution_count": 11,
   "id": "741d7945",
   "metadata": {},
   "outputs": [
    {
     "data": {
      "text/html": [
       "<div>\n",
       "<style scoped>\n",
       "    .dataframe tbody tr th:only-of-type {\n",
       "        vertical-align: middle;\n",
       "    }\n",
       "\n",
       "    .dataframe tbody tr th {\n",
       "        vertical-align: top;\n",
       "    }\n",
       "\n",
       "    .dataframe thead th {\n",
       "        text-align: right;\n",
       "    }\n",
       "</style>\n",
       "<table border=\"1\" class=\"dataframe\">\n",
       "  <thead>\n",
       "    <tr style=\"text-align: right;\">\n",
       "      <th></th>\n",
       "      <th>Column_Name</th>\n",
       "      <th>NaN_Counts</th>\n",
       "    </tr>\n",
       "  </thead>\n",
       "  <tbody>\n",
       "    <tr>\n",
       "      <th>15</th>\n",
       "      <td>host_response_rate</td>\n",
       "      <td>37618</td>\n",
       "    </tr>\n",
       "    <tr>\n",
       "      <th>14</th>\n",
       "      <td>host_response_time</td>\n",
       "      <td>37618</td>\n",
       "    </tr>\n",
       "    <tr>\n",
       "      <th>13</th>\n",
       "      <td>host_about</td>\n",
       "      <td>33765</td>\n",
       "    </tr>\n",
       "    <tr>\n",
       "      <th>6</th>\n",
       "      <td>neighborhood_overview</td>\n",
       "      <td>29148</td>\n",
       "    </tr>\n",
       "    <tr>\n",
       "      <th>26</th>\n",
       "      <td>neighbourhood</td>\n",
       "      <td>29147</td>\n",
       "    </tr>\n",
       "  </tbody>\n",
       "</table>\n",
       "</div>"
      ],
      "text/plain": [
       "              Column_Name  NaN_Counts\n",
       "15     host_response_rate       37618\n",
       "14     host_response_time       37618\n",
       "13             host_about       33765\n",
       "6   neighborhood_overview       29148\n",
       "26          neighbourhood       29147"
      ]
     },
     "execution_count": 11,
     "metadata": {},
     "output_type": "execute_result"
    }
   ],
   "source": [
    "\"\"\"\n",
    "Check whether these four columns are deleted successfully\n",
    "\"\"\"\n",
    "# Count the number of missing values in each column and create a new Dataframe based on the results\n",
    "dfDirtyCheck1 = pd.DataFrame(dfDirty.isnull().sum().rename_axis('Column_Name').reset_index(name='NaN_Counts'))\n",
    "# Sort this new Dataframe from largest to smallest according to column \"NaN_Counts\" column\n",
    "dfDirtyCheck1 = dfDirtyCheck1.sort_values([\"NaN_Counts\"], ascending=False)\n",
    "dfDirtyCheck1.head(5)"
   ]
  },
  {
   "cell_type": "markdown",
   "id": "520dab5c",
   "metadata": {},
   "source": [
    "These four columns are deleted successfully. The remaining columns, if used in subsequent steps, I will handle them at that step."
   ]
  },
  {
   "cell_type": "markdown",
   "id": "06c7fb58",
   "metadata": {},
   "source": [
    "**2. Check the spatial information (lat, long) of these records**\n",
    "\n",
    "In this step, I will check the spatial information (lat, long) of these houses to see if these houses are among the 32 Boroughs of London. I will use the visualization + \"GeoSeries.contains()\" method of Geopandas."
   ]
  },
  {
   "cell_type": "markdown",
   "id": "1748451f",
   "metadata": {},
   "source": [
    "Visually determine whether these housing records are within the 32 boroughs of London."
   ]
  },
  {
   "cell_type": "code",
   "execution_count": 12,
   "id": "b60509b0",
   "metadata": {},
   "outputs": [
    {
     "data": {
      "image/png": "[encoded data removed]",
      "text/plain": [
       "<Figure size 432x288 with 1 Axes>"
      ]
     },
     "metadata": {
      "needs_background": "light"
     },
     "output_type": "display_data"
    },
    {
     "data": {
      "image/png": "[encoded data removed]",
      "text/plain": [
       "<Figure size 432x288 with 1 Axes>"
      ]
     },
     "metadata": {
      "needs_background": "light"
     },
     "output_type": "display_data"
    }
   ],
   "source": [
    "\"\"\"\n",
    "First draw a boxplot of the latitude and longitude of the house to see if the distribution is reasonable.\n",
    "\"\"\"\n",
    "\n",
    "f=plt.figure()\n",
    "f.add_subplot(2,1,1)\n",
    "# Draw the first boxplot for latitude\n",
    "sns.boxenplot(y = dfDirty.latitude)\n",
    "plt.show()\n",
    "\n",
    "f.add_subplot(2,1,2)\n",
    "# Draw the second boxplot for longitude\n",
    "sns.boxenplot(y = dfDirty.longitude)\n",
    "plt.show()"
   ]
  },
  {
   "cell_type": "markdown",
   "id": "7e3b45bd",
   "metadata": {},
   "source": [
    "In the above figure, it can be seen that the location distribution of houses （according to Latitude and Longitude） is uneven, and there are obviously more houses in some areas than in other areas."
   ]
  },
  {
   "cell_type": "markdown",
   "id": "5b94d717",
   "metadata": {},
   "source": [
    "Next, it was decided to draw the distribution of all the houses on a map drawn by Geopandas."
   ]
  },
  {
   "cell_type": "code",
   "execution_count": 14,
   "id": "c3a823ef",
   "metadata": {},
   "outputs": [
    {
     "ename": "URLError",
     "evalue": "<urlopen error [WinError 10061] 由于目标计算机积极拒绝，无法连接。>",
     "output_type": "error",
     "traceback": [
      "\u001b[1;31m---------------------------------------------------------------------------\u001b[0m",
      "\u001b[1;31mConnectionRefusedError\u001b[0m                    Traceback (most recent call last)",
      "\u001b[1;32mD:\\Anaconda\\envs\\new\\lib\\urllib\\request.py\u001b[0m in \u001b[0;36mdo_open\u001b[1;34m(self, http_class, req, **http_conn_args)\u001b[0m\n\u001b[0;32m   1353\u001b[0m             \u001b[1;32mtry\u001b[0m\u001b[1;33m:\u001b[0m\u001b[1;33m\u001b[0m\u001b[1;33m\u001b[0m\u001b[0m\n\u001b[1;32m-> 1354\u001b[1;33m                 h.request(req.get_method(), req.selector, req.data, headers,\n\u001b[0m\u001b[0;32m   1355\u001b[0m                           encode_chunked=req.has_header('Transfer-encoding'))\n",
      "\u001b[1;32mD:\\Anaconda\\envs\\new\\lib\\http\\client.py\u001b[0m in \u001b[0;36mrequest\u001b[1;34m(self, method, url, body, headers, encode_chunked)\u001b[0m\n\u001b[0;32m   1255\u001b[0m         \u001b[1;34m\"\"\"Send a complete request to the server.\"\"\"\u001b[0m\u001b[1;33m\u001b[0m\u001b[1;33m\u001b[0m\u001b[0m\n\u001b[1;32m-> 1256\u001b[1;33m         \u001b[0mself\u001b[0m\u001b[1;33m.\u001b[0m\u001b[0m_send_request\u001b[0m\u001b[1;33m(\u001b[0m\u001b[0mmethod\u001b[0m\u001b[1;33m,\u001b[0m \u001b[0murl\u001b[0m\u001b[1;33m,\u001b[0m \u001b[0mbody\u001b[0m\u001b[1;33m,\u001b[0m \u001b[0mheaders\u001b[0m\u001b[1;33m,\u001b[0m \u001b[0mencode_chunked\u001b[0m\u001b[1;33m)\u001b[0m\u001b[1;33m\u001b[0m\u001b[1;33m\u001b[0m\u001b[0m\n\u001b[0m\u001b[0;32m   1257\u001b[0m \u001b[1;33m\u001b[0m\u001b[0m\n",
      "\u001b[1;32mD:\\Anaconda\\envs\\new\\lib\\http\\client.py\u001b[0m in \u001b[0;36m_send_request\u001b[1;34m(self, method, url, body, headers, encode_chunked)\u001b[0m\n\u001b[0;32m   1301\u001b[0m             \u001b[0mbody\u001b[0m \u001b[1;33m=\u001b[0m \u001b[0m_encode\u001b[0m\u001b[1;33m(\u001b[0m\u001b[0mbody\u001b[0m\u001b[1;33m,\u001b[0m \u001b[1;34m'body'\u001b[0m\u001b[1;33m)\u001b[0m\u001b[1;33m\u001b[0m\u001b[1;33m\u001b[0m\u001b[0m\n\u001b[1;32m-> 1302\u001b[1;33m         \u001b[0mself\u001b[0m\u001b[1;33m.\u001b[0m\u001b[0mendheaders\u001b[0m\u001b[1;33m(\u001b[0m\u001b[0mbody\u001b[0m\u001b[1;33m,\u001b[0m \u001b[0mencode_chunked\u001b[0m\u001b[1;33m=\u001b[0m\u001b[0mencode_chunked\u001b[0m\u001b[1;33m)\u001b[0m\u001b[1;33m\u001b[0m\u001b[1;33m\u001b[0m\u001b[0m\n\u001b[0m\u001b[0;32m   1303\u001b[0m \u001b[1;33m\u001b[0m\u001b[0m\n",
      "\u001b[1;32mD:\\Anaconda\\envs\\new\\lib\\http\\client.py\u001b[0m in \u001b[0;36mendheaders\u001b[1;34m(self, message_body, encode_chunked)\u001b[0m\n\u001b[0;32m   1250\u001b[0m             \u001b[1;32mraise\u001b[0m \u001b[0mCannotSendHeader\u001b[0m\u001b[1;33m(\u001b[0m\u001b[1;33m)\u001b[0m\u001b[1;33m\u001b[0m\u001b[1;33m\u001b[0m\u001b[0m\n\u001b[1;32m-> 1251\u001b[1;33m         \u001b[0mself\u001b[0m\u001b[1;33m.\u001b[0m\u001b[0m_send_output\u001b[0m\u001b[1;33m(\u001b[0m\u001b[0mmessage_body\u001b[0m\u001b[1;33m,\u001b[0m \u001b[0mencode_chunked\u001b[0m\u001b[1;33m=\u001b[0m\u001b[0mencode_chunked\u001b[0m\u001b[1;33m)\u001b[0m\u001b[1;33m\u001b[0m\u001b[1;33m\u001b[0m\u001b[0m\n\u001b[0m\u001b[0;32m   1252\u001b[0m \u001b[1;33m\u001b[0m\u001b[0m\n",
      "\u001b[1;32mD:\\Anaconda\\envs\\new\\lib\\http\\client.py\u001b[0m in \u001b[0;36m_send_output\u001b[1;34m(self, message_body, encode_chunked)\u001b[0m\n\u001b[0;32m   1010\u001b[0m         \u001b[1;32mdel\u001b[0m \u001b[0mself\u001b[0m\u001b[1;33m.\u001b[0m\u001b[0m_buffer\u001b[0m\u001b[1;33m[\u001b[0m\u001b[1;33m:\u001b[0m\u001b[1;33m]\u001b[0m\u001b[1;33m\u001b[0m\u001b[1;33m\u001b[0m\u001b[0m\n\u001b[1;32m-> 1011\u001b[1;33m         \u001b[0mself\u001b[0m\u001b[1;33m.\u001b[0m\u001b[0msend\u001b[0m\u001b[1;33m(\u001b[0m\u001b[0mmsg\u001b[0m\u001b[1;33m)\u001b[0m\u001b[1;33m\u001b[0m\u001b[1;33m\u001b[0m\u001b[0m\n\u001b[0m\u001b[0;32m   1012\u001b[0m \u001b[1;33m\u001b[0m\u001b[0m\n",
      "\u001b[1;32mD:\\Anaconda\\envs\\new\\lib\\http\\client.py\u001b[0m in \u001b[0;36msend\u001b[1;34m(self, data)\u001b[0m\n\u001b[0;32m    950\u001b[0m             \u001b[1;32mif\u001b[0m \u001b[0mself\u001b[0m\u001b[1;33m.\u001b[0m\u001b[0mauto_open\u001b[0m\u001b[1;33m:\u001b[0m\u001b[1;33m\u001b[0m\u001b[1;33m\u001b[0m\u001b[0m\n\u001b[1;32m--> 951\u001b[1;33m                 \u001b[0mself\u001b[0m\u001b[1;33m.\u001b[0m\u001b[0mconnect\u001b[0m\u001b[1;33m(\u001b[0m\u001b[1;33m)\u001b[0m\u001b[1;33m\u001b[0m\u001b[1;33m\u001b[0m\u001b[0m\n\u001b[0m\u001b[0;32m    952\u001b[0m             \u001b[1;32melse\u001b[0m\u001b[1;33m:\u001b[0m\u001b[1;33m\u001b[0m\u001b[1;33m\u001b[0m\u001b[0m\n",
      "\u001b[1;32mD:\\Anaconda\\envs\\new\\lib\\http\\client.py\u001b[0m in \u001b[0;36mconnect\u001b[1;34m(self)\u001b[0m\n\u001b[0;32m   1417\u001b[0m \u001b[1;33m\u001b[0m\u001b[0m\n\u001b[1;32m-> 1418\u001b[1;33m             \u001b[0msuper\u001b[0m\u001b[1;33m(\u001b[0m\u001b[1;33m)\u001b[0m\u001b[1;33m.\u001b[0m\u001b[0mconnect\u001b[0m\u001b[1;33m(\u001b[0m\u001b[1;33m)\u001b[0m\u001b[1;33m\u001b[0m\u001b[1;33m\u001b[0m\u001b[0m\n\u001b[0m\u001b[0;32m   1419\u001b[0m \u001b[1;33m\u001b[0m\u001b[0m\n",
      "\u001b[1;32mD:\\Anaconda\\envs\\new\\lib\\http\\client.py\u001b[0m in \u001b[0;36mconnect\u001b[1;34m(self)\u001b[0m\n\u001b[0;32m    921\u001b[0m         \u001b[1;34m\"\"\"Connect to the host and port specified in __init__.\"\"\"\u001b[0m\u001b[1;33m\u001b[0m\u001b[1;33m\u001b[0m\u001b[0m\n\u001b[1;32m--> 922\u001b[1;33m         self.sock = self._create_connection(\n\u001b[0m\u001b[0;32m    923\u001b[0m             (self.host,self.port), self.timeout, self.source_address)\n",
      "\u001b[1;32mD:\\Anaconda\\envs\\new\\lib\\socket.py\u001b[0m in \u001b[0;36mcreate_connection\u001b[1;34m(address, timeout, source_address)\u001b[0m\n\u001b[0;32m    807\u001b[0m         \u001b[1;32mtry\u001b[0m\u001b[1;33m:\u001b[0m\u001b[1;33m\u001b[0m\u001b[1;33m\u001b[0m\u001b[0m\n\u001b[1;32m--> 808\u001b[1;33m             \u001b[1;32mraise\u001b[0m \u001b[0merr\u001b[0m\u001b[1;33m\u001b[0m\u001b[1;33m\u001b[0m\u001b[0m\n\u001b[0m\u001b[0;32m    809\u001b[0m         \u001b[1;32mfinally\u001b[0m\u001b[1;33m:\u001b[0m\u001b[1;33m\u001b[0m\u001b[1;33m\u001b[0m\u001b[0m\n",
      "\u001b[1;32mD:\\Anaconda\\envs\\new\\lib\\socket.py\u001b[0m in \u001b[0;36mcreate_connection\u001b[1;34m(address, timeout, source_address)\u001b[0m\n\u001b[0;32m    795\u001b[0m                 \u001b[0msock\u001b[0m\u001b[1;33m.\u001b[0m\u001b[0mbind\u001b[0m\u001b[1;33m(\u001b[0m\u001b[0msource_address\u001b[0m\u001b[1;33m)\u001b[0m\u001b[1;33m\u001b[0m\u001b[1;33m\u001b[0m\u001b[0m\n\u001b[1;32m--> 796\u001b[1;33m             \u001b[0msock\u001b[0m\u001b[1;33m.\u001b[0m\u001b[0mconnect\u001b[0m\u001b[1;33m(\u001b[0m\u001b[0msa\u001b[0m\u001b[1;33m)\u001b[0m\u001b[1;33m\u001b[0m\u001b[1;33m\u001b[0m\u001b[0m\n\u001b[0m\u001b[0;32m    797\u001b[0m             \u001b[1;31m# Break explicitly a reference cycle\u001b[0m\u001b[1;33m\u001b[0m\u001b[1;33m\u001b[0m\u001b[1;33m\u001b[0m\u001b[0m\n",
      "\u001b[1;31mConnectionRefusedError\u001b[0m: [WinError 10061] 由于目标计算机积极拒绝，无法连接。",
      "\nDuring handling of the above exception, another exception occurred:\n",
      "\u001b[1;31mURLError\u001b[0m                                  Traceback (most recent call last)",
      "\u001b[1;32m~\\AppData\\Local\\Temp/ipykernel_413356/1201754788.py\u001b[0m in \u001b[0;36m<module>\u001b[1;34m\u001b[0m\n\u001b[0;32m      4\u001b[0m \u001b[1;33m\u001b[0m\u001b[0m\n\u001b[0;32m      5\u001b[0m \u001b[1;31m#boroughs Datasets contains geospatial information for the 32 autonomous states of London\u001b[0m\u001b[1;33m\u001b[0m\u001b[1;33m\u001b[0m\u001b[1;33m\u001b[0m\u001b[0m\n\u001b[1;32m----> 6\u001b[1;33m \u001b[0mboroughs\u001b[0m \u001b[1;33m=\u001b[0m \u001b[0mgpd\u001b[0m\u001b[1;33m.\u001b[0m\u001b[0mread_file\u001b[0m\u001b[1;33m(\u001b[0m\u001b[1;34m'https://github.com/ShengweiDeng/i2p/raw/Data/Boroughs.gpkg?raw=true'\u001b[0m\u001b[1;33m)\u001b[0m\u001b[1;33m\u001b[0m\u001b[1;33m\u001b[0m\u001b[0m\n\u001b[0m\u001b[0;32m      7\u001b[0m \u001b[1;33m\u001b[0m\u001b[0m\n\u001b[0;32m      8\u001b[0m \u001b[1;31m# gdf is also a Dataframe, which is the column of dfDirty + an extra column which converts each group of latitude and longitude into a point in space\u001b[0m\u001b[1;33m\u001b[0m\u001b[1;33m\u001b[0m\u001b[1;33m\u001b[0m\u001b[0m\n",
      "\u001b[1;32mD:\\Anaconda\\envs\\new\\lib\\site-packages\\geopandas\\io\\file.py\u001b[0m in \u001b[0;36m_read_file\u001b[1;34m(filename, bbox, mask, rows, **kwargs)\u001b[0m\n\u001b[0;32m    127\u001b[0m     \u001b[0m_check_fiona\u001b[0m\u001b[1;33m(\u001b[0m\u001b[1;34m\"'read_file' function\"\u001b[0m\u001b[1;33m)\u001b[0m\u001b[1;33m\u001b[0m\u001b[1;33m\u001b[0m\u001b[0m\n\u001b[0;32m    128\u001b[0m     \u001b[1;32mif\u001b[0m \u001b[0m_is_url\u001b[0m\u001b[1;33m(\u001b[0m\u001b[0mfilename\u001b[0m\u001b[1;33m)\u001b[0m\u001b[1;33m:\u001b[0m\u001b[1;33m\u001b[0m\u001b[1;33m\u001b[0m\u001b[0m\n\u001b[1;32m--> 129\u001b[1;33m         \u001b[0mreq\u001b[0m \u001b[1;33m=\u001b[0m \u001b[0m_urlopen\u001b[0m\u001b[1;33m(\u001b[0m\u001b[0mfilename\u001b[0m\u001b[1;33m)\u001b[0m\u001b[1;33m\u001b[0m\u001b[1;33m\u001b[0m\u001b[0m\n\u001b[0m\u001b[0;32m    130\u001b[0m         \u001b[0mpath_or_bytes\u001b[0m \u001b[1;33m=\u001b[0m \u001b[0mreq\u001b[0m\u001b[1;33m.\u001b[0m\u001b[0mread\u001b[0m\u001b[1;33m(\u001b[0m\u001b[1;33m)\u001b[0m\u001b[1;33m\u001b[0m\u001b[1;33m\u001b[0m\u001b[0m\n\u001b[0;32m    131\u001b[0m         \u001b[0mreader\u001b[0m \u001b[1;33m=\u001b[0m \u001b[0mfiona\u001b[0m\u001b[1;33m.\u001b[0m\u001b[0mBytesCollection\u001b[0m\u001b[1;33m\u001b[0m\u001b[1;33m\u001b[0m\u001b[0m\n",
      "\u001b[1;32mD:\\Anaconda\\envs\\new\\lib\\urllib\\request.py\u001b[0m in \u001b[0;36murlopen\u001b[1;34m(url, data, timeout, cafile, capath, cadefault, context)\u001b[0m\n\u001b[0;32m    220\u001b[0m     \u001b[1;32melse\u001b[0m\u001b[1;33m:\u001b[0m\u001b[1;33m\u001b[0m\u001b[1;33m\u001b[0m\u001b[0m\n\u001b[0;32m    221\u001b[0m         \u001b[0mopener\u001b[0m \u001b[1;33m=\u001b[0m \u001b[0m_opener\u001b[0m\u001b[1;33m\u001b[0m\u001b[1;33m\u001b[0m\u001b[0m\n\u001b[1;32m--> 222\u001b[1;33m     \u001b[1;32mreturn\u001b[0m \u001b[0mopener\u001b[0m\u001b[1;33m.\u001b[0m\u001b[0mopen\u001b[0m\u001b[1;33m(\u001b[0m\u001b[0murl\u001b[0m\u001b[1;33m,\u001b[0m \u001b[0mdata\u001b[0m\u001b[1;33m,\u001b[0m \u001b[0mtimeout\u001b[0m\u001b[1;33m)\u001b[0m\u001b[1;33m\u001b[0m\u001b[1;33m\u001b[0m\u001b[0m\n\u001b[0m\u001b[0;32m    223\u001b[0m \u001b[1;33m\u001b[0m\u001b[0m\n\u001b[0;32m    224\u001b[0m \u001b[1;32mdef\u001b[0m \u001b[0minstall_opener\u001b[0m\u001b[1;33m(\u001b[0m\u001b[0mopener\u001b[0m\u001b[1;33m)\u001b[0m\u001b[1;33m:\u001b[0m\u001b[1;33m\u001b[0m\u001b[1;33m\u001b[0m\u001b[0m\n",
      "\u001b[1;32mD:\\Anaconda\\envs\\new\\lib\\urllib\\request.py\u001b[0m in \u001b[0;36mopen\u001b[1;34m(self, fullurl, data, timeout)\u001b[0m\n\u001b[0;32m    523\u001b[0m \u001b[1;33m\u001b[0m\u001b[0m\n\u001b[0;32m    524\u001b[0m         \u001b[0msys\u001b[0m\u001b[1;33m.\u001b[0m\u001b[0maudit\u001b[0m\u001b[1;33m(\u001b[0m\u001b[1;34m'urllib.Request'\u001b[0m\u001b[1;33m,\u001b[0m \u001b[0mreq\u001b[0m\u001b[1;33m.\u001b[0m\u001b[0mfull_url\u001b[0m\u001b[1;33m,\u001b[0m \u001b[0mreq\u001b[0m\u001b[1;33m.\u001b[0m\u001b[0mdata\u001b[0m\u001b[1;33m,\u001b[0m \u001b[0mreq\u001b[0m\u001b[1;33m.\u001b[0m\u001b[0mheaders\u001b[0m\u001b[1;33m,\u001b[0m \u001b[0mreq\u001b[0m\u001b[1;33m.\u001b[0m\u001b[0mget_method\u001b[0m\u001b[1;33m(\u001b[0m\u001b[1;33m)\u001b[0m\u001b[1;33m)\u001b[0m\u001b[1;33m\u001b[0m\u001b[1;33m\u001b[0m\u001b[0m\n\u001b[1;32m--> 525\u001b[1;33m         \u001b[0mresponse\u001b[0m \u001b[1;33m=\u001b[0m \u001b[0mself\u001b[0m\u001b[1;33m.\u001b[0m\u001b[0m_open\u001b[0m\u001b[1;33m(\u001b[0m\u001b[0mreq\u001b[0m\u001b[1;33m,\u001b[0m \u001b[0mdata\u001b[0m\u001b[1;33m)\u001b[0m\u001b[1;33m\u001b[0m\u001b[1;33m\u001b[0m\u001b[0m\n\u001b[0m\u001b[0;32m    526\u001b[0m \u001b[1;33m\u001b[0m\u001b[0m\n\u001b[0;32m    527\u001b[0m         \u001b[1;31m# post-process response\u001b[0m\u001b[1;33m\u001b[0m\u001b[1;33m\u001b[0m\u001b[1;33m\u001b[0m\u001b[0m\n",
      "\u001b[1;32mD:\\Anaconda\\envs\\new\\lib\\urllib\\request.py\u001b[0m in \u001b[0;36m_open\u001b[1;34m(self, req, data)\u001b[0m\n\u001b[0;32m    540\u001b[0m \u001b[1;33m\u001b[0m\u001b[0m\n\u001b[0;32m    541\u001b[0m         \u001b[0mprotocol\u001b[0m \u001b[1;33m=\u001b[0m \u001b[0mreq\u001b[0m\u001b[1;33m.\u001b[0m\u001b[0mtype\u001b[0m\u001b[1;33m\u001b[0m\u001b[1;33m\u001b[0m\u001b[0m\n\u001b[1;32m--> 542\u001b[1;33m         result = self._call_chain(self.handle_open, protocol, protocol +\n\u001b[0m\u001b[0;32m    543\u001b[0m                                   '_open', req)\n\u001b[0;32m    544\u001b[0m         \u001b[1;32mif\u001b[0m \u001b[0mresult\u001b[0m\u001b[1;33m:\u001b[0m\u001b[1;33m\u001b[0m\u001b[1;33m\u001b[0m\u001b[0m\n",
      "\u001b[1;32mD:\\Anaconda\\envs\\new\\lib\\urllib\\request.py\u001b[0m in \u001b[0;36m_call_chain\u001b[1;34m(self, chain, kind, meth_name, *args)\u001b[0m\n\u001b[0;32m    500\u001b[0m         \u001b[1;32mfor\u001b[0m \u001b[0mhandler\u001b[0m \u001b[1;32min\u001b[0m \u001b[0mhandlers\u001b[0m\u001b[1;33m:\u001b[0m\u001b[1;33m\u001b[0m\u001b[1;33m\u001b[0m\u001b[0m\n\u001b[0;32m    501\u001b[0m             \u001b[0mfunc\u001b[0m \u001b[1;33m=\u001b[0m \u001b[0mgetattr\u001b[0m\u001b[1;33m(\u001b[0m\u001b[0mhandler\u001b[0m\u001b[1;33m,\u001b[0m \u001b[0mmeth_name\u001b[0m\u001b[1;33m)\u001b[0m\u001b[1;33m\u001b[0m\u001b[1;33m\u001b[0m\u001b[0m\n\u001b[1;32m--> 502\u001b[1;33m             \u001b[0mresult\u001b[0m \u001b[1;33m=\u001b[0m \u001b[0mfunc\u001b[0m\u001b[1;33m(\u001b[0m\u001b[1;33m*\u001b[0m\u001b[0margs\u001b[0m\u001b[1;33m)\u001b[0m\u001b[1;33m\u001b[0m\u001b[1;33m\u001b[0m\u001b[0m\n\u001b[0m\u001b[0;32m    503\u001b[0m             \u001b[1;32mif\u001b[0m \u001b[0mresult\u001b[0m \u001b[1;32mis\u001b[0m \u001b[1;32mnot\u001b[0m \u001b[1;32mNone\u001b[0m\u001b[1;33m:\u001b[0m\u001b[1;33m\u001b[0m\u001b[1;33m\u001b[0m\u001b[0m\n\u001b[0;32m    504\u001b[0m                 \u001b[1;32mreturn\u001b[0m \u001b[0mresult\u001b[0m\u001b[1;33m\u001b[0m\u001b[1;33m\u001b[0m\u001b[0m\n",
      "\u001b[1;32mD:\\Anaconda\\envs\\new\\lib\\urllib\\request.py\u001b[0m in \u001b[0;36mhttps_open\u001b[1;34m(self, req)\u001b[0m\n\u001b[0;32m   1395\u001b[0m \u001b[1;33m\u001b[0m\u001b[0m\n\u001b[0;32m   1396\u001b[0m         \u001b[1;32mdef\u001b[0m \u001b[0mhttps_open\u001b[0m\u001b[1;33m(\u001b[0m\u001b[0mself\u001b[0m\u001b[1;33m,\u001b[0m \u001b[0mreq\u001b[0m\u001b[1;33m)\u001b[0m\u001b[1;33m:\u001b[0m\u001b[1;33m\u001b[0m\u001b[1;33m\u001b[0m\u001b[0m\n\u001b[1;32m-> 1397\u001b[1;33m             return self.do_open(http.client.HTTPSConnection, req,\n\u001b[0m\u001b[0;32m   1398\u001b[0m                 context=self._context, check_hostname=self._check_hostname)\n\u001b[0;32m   1399\u001b[0m \u001b[1;33m\u001b[0m\u001b[0m\n",
      "\u001b[1;32mD:\\Anaconda\\envs\\new\\lib\\urllib\\request.py\u001b[0m in \u001b[0;36mdo_open\u001b[1;34m(self, http_class, req, **http_conn_args)\u001b[0m\n\u001b[0;32m   1355\u001b[0m                           encode_chunked=req.has_header('Transfer-encoding'))\n\u001b[0;32m   1356\u001b[0m             \u001b[1;32mexcept\u001b[0m \u001b[0mOSError\u001b[0m \u001b[1;32mas\u001b[0m \u001b[0merr\u001b[0m\u001b[1;33m:\u001b[0m \u001b[1;31m# timeout error\u001b[0m\u001b[1;33m\u001b[0m\u001b[1;33m\u001b[0m\u001b[0m\n\u001b[1;32m-> 1357\u001b[1;33m                 \u001b[1;32mraise\u001b[0m \u001b[0mURLError\u001b[0m\u001b[1;33m(\u001b[0m\u001b[0merr\u001b[0m\u001b[1;33m)\u001b[0m\u001b[1;33m\u001b[0m\u001b[1;33m\u001b[0m\u001b[0m\n\u001b[0m\u001b[0;32m   1358\u001b[0m             \u001b[0mr\u001b[0m \u001b[1;33m=\u001b[0m \u001b[0mh\u001b[0m\u001b[1;33m.\u001b[0m\u001b[0mgetresponse\u001b[0m\u001b[1;33m(\u001b[0m\u001b[1;33m)\u001b[0m\u001b[1;33m\u001b[0m\u001b[1;33m\u001b[0m\u001b[0m\n\u001b[0;32m   1359\u001b[0m         \u001b[1;32mexcept\u001b[0m\u001b[1;33m:\u001b[0m\u001b[1;33m\u001b[0m\u001b[1;33m\u001b[0m\u001b[0m\n",
      "\u001b[1;31mURLError\u001b[0m: <urlopen error [WinError 10061] 由于目标计算机积极拒绝，无法连接。>"
     ]
    }
   ],
   "source": [
    "\"\"\"\n",
    "Boroughs Datasets contains geospatial information for the 32 autonomous states of London\n",
    "\"\"\"\n",
    "\n",
    "#boroughs Datasets contains geospatial information for the 32 autonomous states of London\n",
    "boroughs = gpd.read_file('https://github.com/ShengweiDeng/i2p/raw/Data/Boroughs.gpkg?raw=true')\n",
    "\n",
    "# gdf is also a Dataframe, which is the column of dfDirty + an extra column which converts each group of latitude and longitude into a point in space\n",
    "gdf = gpd.GeoDataFrame(dfDirty,geometry=gpd.points_from_xy(dfDirty.longitude, dfDirty.latitude,crs='epsg:4326')).to_crs('epsg:27700')"
   ]
  },
  {
   "cell_type": "code",
   "execution_count": 14,
   "id": "26429bc1",
   "metadata": {},
   "outputs": [
    {
     "data": {
      "image/png": "[encoded data removed]",
      "text/plain": [
       "<Figure size 432x288 with 1 Axes>"
      ]
     },
     "metadata": {
      "needs_background": "light"
     },
     "output_type": "display_data"
    }
   ],
   "source": [
    "\"\"\"\n",
    "Plot all houses in the map of London\n",
    "\"\"\"\n",
    "\n",
    "# The role of this is to draw a scatter plot in the coordinate system\n",
    "axis=gdf.plot(marker = 'o', markersize=1)\n",
    "\n",
    "# The role of this is to add a boundary of 32 London Boroughs to the scatter plot above\n",
    "boroughs.plot(ax=axis, facecolor='none', edgecolor='r')\n",
    "plt.show()"
   ]
  },
  {
   "cell_type": "markdown",
   "id": "929c3720",
   "metadata": {},
   "source": [
    "We can see in the above figure that each point seems to be in the boundaries of 32 boroughs, but it is hard to define which houses are not in the boundary. So I decided to use the GeoSeries.contains() function to check which houses are not in the boundary of 32 London Boroughs."
   ]
  },
  {
   "cell_type": "code",
   "execution_count": 15,
   "id": "96c3a3d3",
   "metadata": {},
   "outputs": [],
   "source": [
    "\"\"\"\n",
    "Use a For loop to traverse all the data. \n",
    "If the latitude and longitude information of this piece of data is within the boundary of 32 London Boroughs, \n",
    "add the name of the Borough to this list, if not, add a NaN value.\n",
    "\"\"\"\n",
    "listBoroughs = []\n",
    "for i in gdf.geometry:\n",
    "    listBoroughs.append(list(boroughs[boroughs[\"geometry\"].contains(i)].NAME))"
   ]
  },
  {
   "cell_type": "code",
   "execution_count": 16,
   "id": "b69a5007",
   "metadata": {},
   "outputs": [
    {
     "data": {
      "text/plain": [
       "Westminster               8576\n",
       "Tower Hamlets             6829\n",
       "Hackney                   5721\n",
       "Kensington and Chelsea    5329\n",
       "Camden                    5258\n",
       "Islington                 4489\n",
       "Lambeth                   4406\n",
       "Southwark                 4330\n",
       "Wandsworth                3944\n",
       "Hammersmith and Fulham    3574\n",
       "Brent                     2338\n",
       "Lewisham                  2174\n",
       "Haringey                  2120\n",
       "Newham                    1855\n",
       "Ealing                    1673\n",
       "Barnet                    1643\n",
       "Greenwich                 1583\n",
       "Waltham Forest            1372\n",
       "Merton                    1249\n",
       "Richmond upon Thames      1134\n",
       "Croydon                   1109\n",
       "Hounslow                  1034\n",
       "Redbridge                  692\n",
       "Enfield                    685\n",
       "Hillingdon                 627\n",
       "Bromley                    579\n",
       "Kingston upon Thames       511\n",
       "Harrow                     451\n",
       "City of London             448\n",
       "Barking and Dagenham       405\n",
       "Sutton                     302\n",
       "Bexley                     273\n",
       "Havering                   253\n",
       "Error                       18\n",
       "Name: Boroughs, dtype: int64"
      ]
     },
     "execution_count": 16,
     "metadata": {},
     "output_type": "execute_result"
    }
   ],
   "source": [
    "\"\"\"\n",
    "Previous step: If this piece of data is within the boundary of 32 London Boroughs, add the Borough's name to this list, \n",
    "if not, add a NaN value.\n",
    "\n",
    "This step: If there is a NaN value, it means that this data is not in London, therefore I mark it as Error.\n",
    "Then add a new column to the original Dataframe, which contains the Borough name based on Lat and Long.\n",
    "\"\"\"\n",
    "\n",
    "AirbnbBoroughs = []\n",
    "\n",
    "for i in listBoroughs:\n",
    "    # Check for NaN values, if it is NaN values, means this data is not in 32 London Boroughs, mark it to Error:\n",
    "    # If it is not NaN value, means that this data is in 32 London Boroughs, add this Borough Name to list.\n",
    "    if len(i) > 0:\n",
    "        AirbnbBoroughs.append(i[0])\n",
    "    else:\n",
    "        AirbnbBoroughs.append(\"Error\")\n",
    "\n",
    "# Create a new column of dataframe\n",
    "dfDirty['Boroughs'] = AirbnbBoroughs\n",
    "dfDirty[\"Boroughs\"].value_counts()"
   ]
  },
  {
   "cell_type": "markdown",
   "id": "58f57087",
   "metadata": {},
   "source": [
    "Based on the output above, there are 18 houses that are not located in 32 Boroughs of London. So I decide to delete them directly."
   ]
  },
  {
   "cell_type": "code",
   "execution_count": 17,
   "id": "d9fd4f66",
   "metadata": {},
   "outputs": [
    {
     "data": {
      "text/plain": [
       "Westminster               8576\n",
       "Tower Hamlets             6829\n",
       "Hackney                   5721\n",
       "Kensington and Chelsea    5329\n",
       "Camden                    5258\n",
       "Islington                 4489\n",
       "Lambeth                   4406\n",
       "Southwark                 4330\n",
       "Wandsworth                3944\n",
       "Hammersmith and Fulham    3574\n",
       "Brent                     2338\n",
       "Lewisham                  2174\n",
       "Haringey                  2120\n",
       "Newham                    1855\n",
       "Ealing                    1673\n",
       "Barnet                    1643\n",
       "Greenwich                 1583\n",
       "Waltham Forest            1372\n",
       "Merton                    1249\n",
       "Richmond upon Thames      1134\n",
       "Croydon                   1109\n",
       "Hounslow                  1034\n",
       "Redbridge                  692\n",
       "Enfield                    685\n",
       "Hillingdon                 627\n",
       "Bromley                    579\n",
       "Kingston upon Thames       511\n",
       "Harrow                     451\n",
       "City of London             448\n",
       "Barking and Dagenham       405\n",
       "Sutton                     302\n",
       "Bexley                     273\n",
       "Havering                   253\n",
       "Name: Boroughs, dtype: int64"
      ]
     },
     "execution_count": 17,
     "metadata": {},
     "output_type": "execute_result"
    }
   ],
   "source": [
    "\"\"\"\n",
    "Delete the 18 listings above that do not belong to London Boroughs\n",
    "\"\"\"\n",
    "dfDirty = dfDirty.drop(index=(dfDirty.loc[(dfDirty['Boroughs']=='Error')].index))\n",
    "dfDirty[\"Boroughs\"].value_counts()"
   ]
  },
  {
   "cell_type": "code",
   "execution_count": 18,
   "id": "b823d33d",
   "metadata": {},
   "outputs": [
    {
     "data": {
      "text/plain": [
       "76966"
      ]
     },
     "execution_count": 18,
     "metadata": {},
     "output_type": "execute_result"
    }
   ],
   "source": [
    "dfDirty.shape[0]"
   ]
  },
  {
   "cell_type": "markdown",
   "id": "66f91d3c",
   "metadata": {},
   "source": [
    "### Data preprocessing for the second dataset\n",
    "\n",
    "> 1. Check missing values\n",
    "> 2. Data Transformation\n",
    ">> - Since the data is from 2020 to 2022 and the first dataset is the Airbnb data in November 2020, therefore need do data transformation to filter dataset,  only the data in November 2020 is retained\n",
    ">> - Since the data is for all regions of the UK, it needs to be filtered to keep only the records in 32 London Boroughs."
   ]
  },
  {
   "cell_type": "code",
   "execution_count": 19,
   "id": "bb25e581",
   "metadata": {},
   "outputs": [
    {
     "data": {
      "text/plain": [
       "True"
      ]
     },
     "execution_count": 19,
     "metadata": {},
     "output_type": "execute_result"
    }
   ],
   "source": [
    "\"\"\"\n",
    "Check if the dataset has missing values\n",
    "\"\"\"\n",
    "dfCases.isnull().values.any()"
   ]
  },
  {
   "cell_type": "markdown",
   "id": "563492a9",
   "metadata": {},
   "source": [
    "There are missing values in this dataset."
   ]
  },
  {
   "cell_type": "code",
   "execution_count": 20,
   "id": "4b7b19df",
   "metadata": {},
   "outputs": [
    {
     "data": {
      "text/html": [
       "<div>\n",
       "<style scoped>\n",
       "    .dataframe tbody tr th:only-of-type {\n",
       "        vertical-align: middle;\n",
       "    }\n",
       "\n",
       "    .dataframe tbody tr th {\n",
       "        vertical-align: top;\n",
       "    }\n",
       "\n",
       "    .dataframe thead th {\n",
       "        text-align: right;\n",
       "    }\n",
       "</style>\n",
       "<table border=\"1\" class=\"dataframe\">\n",
       "  <thead>\n",
       "    <tr style=\"text-align: right;\">\n",
       "      <th></th>\n",
       "      <th>Column_Name</th>\n",
       "      <th>NaN_Counts</th>\n",
       "    </tr>\n",
       "  </thead>\n",
       "  <tbody>\n",
       "    <tr>\n",
       "      <th>1</th>\n",
       "      <td>Code</td>\n",
       "      <td>134091</td>\n",
       "    </tr>\n",
       "    <tr>\n",
       "      <th>0</th>\n",
       "      <td>Entity</td>\n",
       "      <td>0</td>\n",
       "    </tr>\n",
       "    <tr>\n",
       "      <th>2</th>\n",
       "      <td>Day</td>\n",
       "      <td>0</td>\n",
       "    </tr>\n",
       "    <tr>\n",
       "      <th>3</th>\n",
       "      <td>daily_cases_rate_rolling_average</td>\n",
       "      <td>0</td>\n",
       "    </tr>\n",
       "  </tbody>\n",
       "</table>\n",
       "</div>"
      ],
      "text/plain": [
       "                        Column_Name  NaN_Counts\n",
       "1                              Code      134091\n",
       "0                            Entity           0\n",
       "2                               Day           0\n",
       "3  daily_cases_rate_rolling_average           0"
      ]
     },
     "execution_count": 20,
     "metadata": {},
     "output_type": "execute_result"
    }
   ],
   "source": [
    "\"\"\"\n",
    "Find out how many missing values exist in each column\n",
    "\"\"\"\n",
    "# Count the number of missing values in each column and create a new Dataframe based on the results\n",
    "dfCheck = pd.DataFrame(dfCases.isnull().sum().rename_axis('Column_Name').reset_index(name='NaN_Counts'))\n",
    "# Sort this new Dataframe from largest to smallest according to column \"NaN_Counts\" column\n",
    "dfCheck = dfCheck.sort_values([\"NaN_Counts\"], ascending=False)\n",
    "dfCheck"
   ]
  },
  {
   "cell_type": "markdown",
   "id": "7dcc3147",
   "metadata": {},
   "source": [
    "It is found that the \"Code\" column is basically empty, and this information is not important. So I just delete it"
   ]
  },
  {
   "cell_type": "code",
   "execution_count": 21,
   "id": "42ae8210",
   "metadata": {},
   "outputs": [],
   "source": [
    "\"\"\"\n",
    "It is found that the Code column is basically empty, and this information is not important. So just delete it\n",
    "\"\"\"\n",
    "dfCases.drop([\"Code\"], axis=1, inplace=True)"
   ]
  },
  {
   "cell_type": "code",
   "execution_count": 22,
   "id": "cd6c71aa",
   "metadata": {},
   "outputs": [
    {
     "data": {
      "text/html": [
       "<div>\n",
       "<style scoped>\n",
       "    .dataframe tbody tr th:only-of-type {\n",
       "        vertical-align: middle;\n",
       "    }\n",
       "\n",
       "    .dataframe tbody tr th {\n",
       "        vertical-align: top;\n",
       "    }\n",
       "\n",
       "    .dataframe thead th {\n",
       "        text-align: right;\n",
       "    }\n",
       "</style>\n",
       "<table border=\"1\" class=\"dataframe\">\n",
       "  <thead>\n",
       "    <tr style=\"text-align: right;\">\n",
       "      <th></th>\n",
       "      <th>Entity</th>\n",
       "      <th>Day</th>\n",
       "      <th>daily_cases_rate_rolling_average</th>\n",
       "    </tr>\n",
       "  </thead>\n",
       "  <tbody>\n",
       "    <tr>\n",
       "      <th>0</th>\n",
       "      <td>Aberdeen City</td>\n",
       "      <td>2020-08-05</td>\n",
       "      <td>7.228571</td>\n",
       "    </tr>\n",
       "    <tr>\n",
       "      <th>1</th>\n",
       "      <td>Aberdeen City</td>\n",
       "      <td>2020-08-06</td>\n",
       "      <td>8.800000</td>\n",
       "    </tr>\n",
       "    <tr>\n",
       "      <th>2</th>\n",
       "      <td>Aberdeen City</td>\n",
       "      <td>2020-08-07</td>\n",
       "      <td>9.728571</td>\n",
       "    </tr>\n",
       "    <tr>\n",
       "      <th>3</th>\n",
       "      <td>Aberdeen City</td>\n",
       "      <td>2020-08-08</td>\n",
       "      <td>10.228571</td>\n",
       "    </tr>\n",
       "    <tr>\n",
       "      <th>4</th>\n",
       "      <td>Aberdeen City</td>\n",
       "      <td>2020-08-09</td>\n",
       "      <td>10.357143</td>\n",
       "    </tr>\n",
       "    <tr>\n",
       "      <th>...</th>\n",
       "      <td>...</td>\n",
       "      <td>...</td>\n",
       "      <td>...</td>\n",
       "    </tr>\n",
       "    <tr>\n",
       "      <th>134781</th>\n",
       "      <td>York</td>\n",
       "      <td>2022-01-19</td>\n",
       "      <td>125.585714</td>\n",
       "    </tr>\n",
       "    <tr>\n",
       "      <th>134782</th>\n",
       "      <td>York</td>\n",
       "      <td>2022-01-20</td>\n",
       "      <td>124.100000</td>\n",
       "    </tr>\n",
       "    <tr>\n",
       "      <th>134783</th>\n",
       "      <td>York</td>\n",
       "      <td>2022-01-21</td>\n",
       "      <td>125.585714</td>\n",
       "    </tr>\n",
       "    <tr>\n",
       "      <th>134784</th>\n",
       "      <td>York</td>\n",
       "      <td>2022-01-22</td>\n",
       "      <td>126.871429</td>\n",
       "    </tr>\n",
       "    <tr>\n",
       "      <th>134785</th>\n",
       "      <td>York</td>\n",
       "      <td>2022-01-23</td>\n",
       "      <td>130.114286</td>\n",
       "    </tr>\n",
       "  </tbody>\n",
       "</table>\n",
       "<p>134786 rows × 3 columns</p>\n",
       "</div>"
      ],
      "text/plain": [
       "               Entity         Day  daily_cases_rate_rolling_average\n",
       "0       Aberdeen City  2020-08-05                          7.228571\n",
       "1       Aberdeen City  2020-08-06                          8.800000\n",
       "2       Aberdeen City  2020-08-07                          9.728571\n",
       "3       Aberdeen City  2020-08-08                         10.228571\n",
       "4       Aberdeen City  2020-08-09                         10.357143\n",
       "...               ...         ...                               ...\n",
       "134781           York  2022-01-19                        125.585714\n",
       "134782           York  2022-01-20                        124.100000\n",
       "134783           York  2022-01-21                        125.585714\n",
       "134784           York  2022-01-22                        126.871429\n",
       "134785           York  2022-01-23                        130.114286\n",
       "\n",
       "[134786 rows x 3 columns]"
      ]
     },
     "execution_count": 22,
     "metadata": {},
     "output_type": "execute_result"
    }
   ],
   "source": [
    "dfCases"
   ]
  },
  {
   "cell_type": "markdown",
   "id": "17f7933e",
   "metadata": {},
   "source": [
    "**Data Tranformation: Filter data for November 2020 to match the information in the first Dataframe**"
   ]
  },
  {
   "cell_type": "code",
   "execution_count": 23,
   "id": "2951c120",
   "metadata": {},
   "outputs": [],
   "source": [
    "\"\"\"\n",
    "1. Convert the Day column to Datetime type.\n",
    "\"\"\"\n",
    "\n",
    "dfCases['Day'] = pd.to_datetime(dfCases['Day'])"
   ]
  },
  {
   "cell_type": "code",
   "execution_count": 24,
   "id": "e748922d",
   "metadata": {},
   "outputs": [],
   "source": [
    "\"\"\"\n",
    "Create a new column that only contains year\n",
    "\"\"\"\n",
    "dfCases['year'] = dfCases['Day'].dt.year"
   ]
  },
  {
   "cell_type": "code",
   "execution_count": 25,
   "id": "3dafeff2",
   "metadata": {},
   "outputs": [],
   "source": [
    "\"\"\"\n",
    "Filter the whole datasets that only contains records in 2020.\n",
    "\"\"\"\n",
    "dfCases2020 = dfCases[dfCases['year'] == 2020]"
   ]
  },
  {
   "cell_type": "code",
   "execution_count": 26,
   "id": "5fecb704",
   "metadata": {},
   "outputs": [
    {
     "data": {
      "text/html": [
       "<div>\n",
       "<style scoped>\n",
       "    .dataframe tbody tr th:only-of-type {\n",
       "        vertical-align: middle;\n",
       "    }\n",
       "\n",
       "    .dataframe tbody tr th {\n",
       "        vertical-align: top;\n",
       "    }\n",
       "\n",
       "    .dataframe thead th {\n",
       "        text-align: right;\n",
       "    }\n",
       "</style>\n",
       "<table border=\"1\" class=\"dataframe\">\n",
       "  <thead>\n",
       "    <tr style=\"text-align: right;\">\n",
       "      <th></th>\n",
       "      <th>Entity</th>\n",
       "      <th>Day</th>\n",
       "      <th>daily_cases_rate_rolling_average</th>\n",
       "      <th>year</th>\n",
       "    </tr>\n",
       "  </thead>\n",
       "  <tbody>\n",
       "    <tr>\n",
       "      <th>0</th>\n",
       "      <td>Aberdeen City</td>\n",
       "      <td>2020-08-05</td>\n",
       "      <td>7.228571</td>\n",
       "      <td>2020</td>\n",
       "    </tr>\n",
       "    <tr>\n",
       "      <th>1</th>\n",
       "      <td>Aberdeen City</td>\n",
       "      <td>2020-08-06</td>\n",
       "      <td>8.800000</td>\n",
       "      <td>2020</td>\n",
       "    </tr>\n",
       "    <tr>\n",
       "      <th>2</th>\n",
       "      <td>Aberdeen City</td>\n",
       "      <td>2020-08-07</td>\n",
       "      <td>9.728571</td>\n",
       "      <td>2020</td>\n",
       "    </tr>\n",
       "    <tr>\n",
       "      <th>3</th>\n",
       "      <td>Aberdeen City</td>\n",
       "      <td>2020-08-08</td>\n",
       "      <td>10.228571</td>\n",
       "      <td>2020</td>\n",
       "    </tr>\n",
       "    <tr>\n",
       "      <th>4</th>\n",
       "      <td>Aberdeen City</td>\n",
       "      <td>2020-08-09</td>\n",
       "      <td>10.357143</td>\n",
       "      <td>2020</td>\n",
       "    </tr>\n",
       "    <tr>\n",
       "      <th>...</th>\n",
       "      <td>...</td>\n",
       "      <td>...</td>\n",
       "      <td>...</td>\n",
       "      <td>...</td>\n",
       "    </tr>\n",
       "    <tr>\n",
       "      <th>134393</th>\n",
       "      <td>York</td>\n",
       "      <td>2020-12-27</td>\n",
       "      <td>42.985714</td>\n",
       "      <td>2020</td>\n",
       "    </tr>\n",
       "    <tr>\n",
       "      <th>134394</th>\n",
       "      <td>York</td>\n",
       "      <td>2020-12-28</td>\n",
       "      <td>46.314286</td>\n",
       "      <td>2020</td>\n",
       "    </tr>\n",
       "    <tr>\n",
       "      <th>134395</th>\n",
       "      <td>York</td>\n",
       "      <td>2020-12-29</td>\n",
       "      <td>54.700000</td>\n",
       "      <td>2020</td>\n",
       "    </tr>\n",
       "    <tr>\n",
       "      <th>134396</th>\n",
       "      <td>York</td>\n",
       "      <td>2020-12-30</td>\n",
       "      <td>61.885714</td>\n",
       "      <td>2020</td>\n",
       "    </tr>\n",
       "    <tr>\n",
       "      <th>134397</th>\n",
       "      <td>York</td>\n",
       "      <td>2020-12-31</td>\n",
       "      <td>66.957143</td>\n",
       "      <td>2020</td>\n",
       "    </tr>\n",
       "  </tbody>\n",
       "</table>\n",
       "<p>49824 rows × 4 columns</p>\n",
       "</div>"
      ],
      "text/plain": [
       "               Entity        Day  daily_cases_rate_rolling_average  year\n",
       "0       Aberdeen City 2020-08-05                          7.228571  2020\n",
       "1       Aberdeen City 2020-08-06                          8.800000  2020\n",
       "2       Aberdeen City 2020-08-07                          9.728571  2020\n",
       "3       Aberdeen City 2020-08-08                         10.228571  2020\n",
       "4       Aberdeen City 2020-08-09                         10.357143  2020\n",
       "...               ...        ...                               ...   ...\n",
       "134393           York 2020-12-27                         42.985714  2020\n",
       "134394           York 2020-12-28                         46.314286  2020\n",
       "134395           York 2020-12-29                         54.700000  2020\n",
       "134396           York 2020-12-30                         61.885714  2020\n",
       "134397           York 2020-12-31                         66.957143  2020\n",
       "\n",
       "[49824 rows x 4 columns]"
      ]
     },
     "execution_count": 26,
     "metadata": {},
     "output_type": "execute_result"
    }
   ],
   "source": [
    "dfCases2020"
   ]
  },
  {
   "cell_type": "code",
   "execution_count": 27,
   "id": "d84bd829",
   "metadata": {},
   "outputs": [
    {
     "name": "stderr",
     "output_type": "stream",
     "text": [
      "C:\\Users\\lingc\\AppData\\Local\\Temp/ipykernel_373040/2822959378.py:4: SettingWithCopyWarning: \n",
      "A value is trying to be set on a copy of a slice from a DataFrame.\n",
      "Try using .loc[row_indexer,col_indexer] = value instead\n",
      "\n",
      "See the caveats in the documentation: https://pandas.pydata.org/pandas-docs/stable/user_guide/indexing.html#returning-a-view-versus-a-copy\n",
      "  dfCases2020['month'] = dfCases2020['Day'].dt.month\n"
     ]
    }
   ],
   "source": [
    "\"\"\"\n",
    "Create a new column that only contains month\n",
    "\"\"\"\n",
    "dfCases2020['month'] = dfCases2020['Day'].dt.month"
   ]
  },
  {
   "cell_type": "code",
   "execution_count": 28,
   "id": "ac9914f8",
   "metadata": {},
   "outputs": [],
   "source": [
    "\"\"\"\n",
    "Filter the 2020 records that only contains records in November.\n",
    "\"\"\"\n",
    "dfCases202011 = dfCases2020[dfCases2020['month'] == 11]"
   ]
  },
  {
   "cell_type": "code",
   "execution_count": 29,
   "id": "1096f140",
   "metadata": {},
   "outputs": [
    {
     "data": {
      "text/html": [
       "<div>\n",
       "<style scoped>\n",
       "    .dataframe tbody tr th:only-of-type {\n",
       "        vertical-align: middle;\n",
       "    }\n",
       "\n",
       "    .dataframe tbody tr th {\n",
       "        vertical-align: top;\n",
       "    }\n",
       "\n",
       "    .dataframe thead th {\n",
       "        text-align: right;\n",
       "    }\n",
       "</style>\n",
       "<table border=\"1\" class=\"dataframe\">\n",
       "  <thead>\n",
       "    <tr style=\"text-align: right;\">\n",
       "      <th></th>\n",
       "      <th>Entity</th>\n",
       "      <th>Day</th>\n",
       "      <th>daily_cases_rate_rolling_average</th>\n",
       "      <th>year</th>\n",
       "      <th>month</th>\n",
       "    </tr>\n",
       "  </thead>\n",
       "  <tbody>\n",
       "    <tr>\n",
       "      <th>88</th>\n",
       "      <td>Aberdeen City</td>\n",
       "      <td>2020-11-01</td>\n",
       "      <td>5.742857</td>\n",
       "      <td>2020</td>\n",
       "      <td>11</td>\n",
       "    </tr>\n",
       "    <tr>\n",
       "      <th>89</th>\n",
       "      <td>Aberdeen City</td>\n",
       "      <td>2020-11-02</td>\n",
       "      <td>6.800000</td>\n",
       "      <td>2020</td>\n",
       "      <td>11</td>\n",
       "    </tr>\n",
       "    <tr>\n",
       "      <th>90</th>\n",
       "      <td>Aberdeen City</td>\n",
       "      <td>2020-11-03</td>\n",
       "      <td>6.242857</td>\n",
       "      <td>2020</td>\n",
       "      <td>11</td>\n",
       "    </tr>\n",
       "    <tr>\n",
       "      <th>91</th>\n",
       "      <td>Aberdeen City</td>\n",
       "      <td>2020-11-04</td>\n",
       "      <td>6.357143</td>\n",
       "      <td>2020</td>\n",
       "      <td>11</td>\n",
       "    </tr>\n",
       "    <tr>\n",
       "      <th>92</th>\n",
       "      <td>Aberdeen City</td>\n",
       "      <td>2020-11-05</td>\n",
       "      <td>5.171429</td>\n",
       "      <td>2020</td>\n",
       "      <td>11</td>\n",
       "    </tr>\n",
       "    <tr>\n",
       "      <th>...</th>\n",
       "      <td>...</td>\n",
       "      <td>...</td>\n",
       "      <td>...</td>\n",
       "      <td>...</td>\n",
       "      <td>...</td>\n",
       "    </tr>\n",
       "    <tr>\n",
       "      <th>134362</th>\n",
       "      <td>York</td>\n",
       "      <td>2020-11-26</td>\n",
       "      <td>14.085714</td>\n",
       "      <td>2020</td>\n",
       "      <td>11</td>\n",
       "    </tr>\n",
       "    <tr>\n",
       "      <th>134363</th>\n",
       "      <td>York</td>\n",
       "      <td>2020-11-27</td>\n",
       "      <td>12.257143</td>\n",
       "      <td>2020</td>\n",
       "      <td>11</td>\n",
       "    </tr>\n",
       "    <tr>\n",
       "      <th>134364</th>\n",
       "      <td>York</td>\n",
       "      <td>2020-11-28</td>\n",
       "      <td>11.442857</td>\n",
       "      <td>2020</td>\n",
       "      <td>11</td>\n",
       "    </tr>\n",
       "    <tr>\n",
       "      <th>134365</th>\n",
       "      <td>York</td>\n",
       "      <td>2020-11-29</td>\n",
       "      <td>10.357143</td>\n",
       "      <td>2020</td>\n",
       "      <td>11</td>\n",
       "    </tr>\n",
       "    <tr>\n",
       "      <th>134366</th>\n",
       "      <td>York</td>\n",
       "      <td>2020-11-30</td>\n",
       "      <td>9.614286</td>\n",
       "      <td>2020</td>\n",
       "      <td>11</td>\n",
       "    </tr>\n",
       "  </tbody>\n",
       "</table>\n",
       "<p>6569 rows × 5 columns</p>\n",
       "</div>"
      ],
      "text/plain": [
       "               Entity        Day  daily_cases_rate_rolling_average  year  \\\n",
       "88      Aberdeen City 2020-11-01                          5.742857  2020   \n",
       "89      Aberdeen City 2020-11-02                          6.800000  2020   \n",
       "90      Aberdeen City 2020-11-03                          6.242857  2020   \n",
       "91      Aberdeen City 2020-11-04                          6.357143  2020   \n",
       "92      Aberdeen City 2020-11-05                          5.171429  2020   \n",
       "...               ...        ...                               ...   ...   \n",
       "134362           York 2020-11-26                         14.085714  2020   \n",
       "134363           York 2020-11-27                         12.257143  2020   \n",
       "134364           York 2020-11-28                         11.442857  2020   \n",
       "134365           York 2020-11-29                         10.357143  2020   \n",
       "134366           York 2020-11-30                          9.614286  2020   \n",
       "\n",
       "        month  \n",
       "88         11  \n",
       "89         11  \n",
       "90         11  \n",
       "91         11  \n",
       "92         11  \n",
       "...       ...  \n",
       "134362     11  \n",
       "134363     11  \n",
       "134364     11  \n",
       "134365     11  \n",
       "134366     11  \n",
       "\n",
       "[6569 rows x 5 columns]"
      ]
     },
     "execution_count": 29,
     "metadata": {},
     "output_type": "execute_result"
    }
   ],
   "source": [
    "dfCases202011"
   ]
  },
  {
   "cell_type": "markdown",
   "id": "5337f6db",
   "metadata": {},
   "source": [
    "**Filtering boroughs, only keep records in 32 boroughs of London.**"
   ]
  },
  {
   "cell_type": "code",
   "execution_count": 30,
   "id": "e6d0ea45",
   "metadata": {},
   "outputs": [],
   "source": [
    "# Get the borough Name\n",
    "boroughName = list(boroughs.NAME)\n",
    "boroughName.append(\"Hackney and City of London\")"
   ]
  },
  {
   "cell_type": "code",
   "execution_count": 31,
   "id": "2ba3fca2",
   "metadata": {},
   "outputs": [
    {
     "data": {
      "text/html": [
       "<div>\n",
       "<style scoped>\n",
       "    .dataframe tbody tr th:only-of-type {\n",
       "        vertical-align: middle;\n",
       "    }\n",
       "\n",
       "    .dataframe tbody tr th {\n",
       "        vertical-align: top;\n",
       "    }\n",
       "\n",
       "    .dataframe thead th {\n",
       "        text-align: right;\n",
       "    }\n",
       "</style>\n",
       "<table border=\"1\" class=\"dataframe\">\n",
       "  <thead>\n",
       "    <tr style=\"text-align: right;\">\n",
       "      <th></th>\n",
       "      <th>Entity</th>\n",
       "      <th>Day</th>\n",
       "      <th>daily_cases_rate_rolling_average</th>\n",
       "      <th>year</th>\n",
       "      <th>month</th>\n",
       "    </tr>\n",
       "  </thead>\n",
       "  <tbody>\n",
       "    <tr>\n",
       "      <th>3888</th>\n",
       "      <td>Barking and Dagenham</td>\n",
       "      <td>2020-11-01</td>\n",
       "      <td>23.885714</td>\n",
       "      <td>2020</td>\n",
       "      <td>11</td>\n",
       "    </tr>\n",
       "    <tr>\n",
       "      <th>3889</th>\n",
       "      <td>Barking and Dagenham</td>\n",
       "      <td>2020-11-02</td>\n",
       "      <td>25.357143</td>\n",
       "      <td>2020</td>\n",
       "      <td>11</td>\n",
       "    </tr>\n",
       "    <tr>\n",
       "      <th>3890</th>\n",
       "      <td>Barking and Dagenham</td>\n",
       "      <td>2020-11-03</td>\n",
       "      <td>27.157143</td>\n",
       "      <td>2020</td>\n",
       "      <td>11</td>\n",
       "    </tr>\n",
       "    <tr>\n",
       "      <th>3891</th>\n",
       "      <td>Barking and Dagenham</td>\n",
       "      <td>2020-11-04</td>\n",
       "      <td>27.485714</td>\n",
       "      <td>2020</td>\n",
       "      <td>11</td>\n",
       "    </tr>\n",
       "    <tr>\n",
       "      <th>3892</th>\n",
       "      <td>Barking and Dagenham</td>\n",
       "      <td>2020-11-05</td>\n",
       "      <td>29.085714</td>\n",
       "      <td>2020</td>\n",
       "      <td>11</td>\n",
       "    </tr>\n",
       "    <tr>\n",
       "      <th>...</th>\n",
       "      <td>...</td>\n",
       "      <td>...</td>\n",
       "      <td>...</td>\n",
       "      <td>...</td>\n",
       "      <td>...</td>\n",
       "    </tr>\n",
       "    <tr>\n",
       "      <th>128635</th>\n",
       "      <td>Westminster</td>\n",
       "      <td>2020-11-26</td>\n",
       "      <td>13.714286</td>\n",
       "      <td>2020</td>\n",
       "      <td>11</td>\n",
       "    </tr>\n",
       "    <tr>\n",
       "      <th>128636</th>\n",
       "      <td>Westminster</td>\n",
       "      <td>2020-11-27</td>\n",
       "      <td>13.400000</td>\n",
       "      <td>2020</td>\n",
       "      <td>11</td>\n",
       "    </tr>\n",
       "    <tr>\n",
       "      <th>128637</th>\n",
       "      <td>Westminster</td>\n",
       "      <td>2020-11-28</td>\n",
       "      <td>13.442857</td>\n",
       "      <td>2020</td>\n",
       "      <td>11</td>\n",
       "    </tr>\n",
       "    <tr>\n",
       "      <th>128638</th>\n",
       "      <td>Westminster</td>\n",
       "      <td>2020-11-29</td>\n",
       "      <td>12.871429</td>\n",
       "      <td>2020</td>\n",
       "      <td>11</td>\n",
       "    </tr>\n",
       "    <tr>\n",
       "      <th>128639</th>\n",
       "      <td>Westminster</td>\n",
       "      <td>2020-11-30</td>\n",
       "      <td>12.542857</td>\n",
       "      <td>2020</td>\n",
       "      <td>11</td>\n",
       "    </tr>\n",
       "  </tbody>\n",
       "</table>\n",
       "<p>960 rows × 5 columns</p>\n",
       "</div>"
      ],
      "text/plain": [
       "                      Entity        Day  daily_cases_rate_rolling_average  \\\n",
       "3888    Barking and Dagenham 2020-11-01                         23.885714   \n",
       "3889    Barking and Dagenham 2020-11-02                         25.357143   \n",
       "3890    Barking and Dagenham 2020-11-03                         27.157143   \n",
       "3891    Barking and Dagenham 2020-11-04                         27.485714   \n",
       "3892    Barking and Dagenham 2020-11-05                         29.085714   \n",
       "...                      ...        ...                               ...   \n",
       "128635           Westminster 2020-11-26                         13.714286   \n",
       "128636           Westminster 2020-11-27                         13.400000   \n",
       "128637           Westminster 2020-11-28                         13.442857   \n",
       "128638           Westminster 2020-11-29                         12.871429   \n",
       "128639           Westminster 2020-11-30                         12.542857   \n",
       "\n",
       "        year  month  \n",
       "3888    2020     11  \n",
       "3889    2020     11  \n",
       "3890    2020     11  \n",
       "3891    2020     11  \n",
       "3892    2020     11  \n",
       "...      ...    ...  \n",
       "128635  2020     11  \n",
       "128636  2020     11  \n",
       "128637  2020     11  \n",
       "128638  2020     11  \n",
       "128639  2020     11  \n",
       "\n",
       "[960 rows x 5 columns]"
      ]
     },
     "execution_count": 31,
     "metadata": {},
     "output_type": "execute_result"
    }
   ],
   "source": [
    "\"\"\"\n",
    "Filter the data. Only keep records in 32 boroughs of London.\n",
    "\"\"\"\n",
    "dfCases202011 = dfCases202011[dfCases202011['Entity'].isin(boroughName)]\n",
    "dfCases202011"
   ]
  },
  {
   "cell_type": "code",
   "execution_count": 32,
   "id": "96e696e1",
   "metadata": {},
   "outputs": [],
   "source": [
    "\"\"\"\n",
    "Count the number of cases by using groupby method.\n",
    "\"\"\"\n",
    "# Group by Boroughs\n",
    "dfCasesProcessed = dfCases202011.groupby('Entity').sum().reset_index()\n",
    "dfCasesProcessed.drop([\"year\",\"month\"], axis=1, inplace=True)\n",
    "# By observation, the original data merged the two regions of Hackney and city of london, so I neet to split them here\n",
    "dfCasesProcessed = dfCasesProcessed.append({'Entity': \"Hackney\", \"daily_cases_rate_rolling_average\":317}, ignore_index=True)\n",
    "dfCasesProcessed = dfCasesProcessed.append({'Entity': \"City of London\", \"daily_cases_rate_rolling_average\":317}, ignore_index=True)\n",
    "dfCasesProcessed = dfCasesProcessed.drop(index=(dfCasesProcessed.loc[(dfCasesProcessed['Entity']=='Hackney and City of London')].index))"
   ]
  },
  {
   "cell_type": "code",
   "execution_count": 33,
   "id": "76c4e9e3",
   "metadata": {},
   "outputs": [],
   "source": [
    "dfCasesProcessed = dfCasesProcessed.rename(columns = {\"Entity\": \"Boroughs\"})"
   ]
  },
  {
   "cell_type": "code",
   "execution_count": 34,
   "id": "8a40f6a8",
   "metadata": {},
   "outputs": [
    {
     "data": {
      "text/html": [
       "<div>\n",
       "<style scoped>\n",
       "    .dataframe tbody tr th:only-of-type {\n",
       "        vertical-align: middle;\n",
       "    }\n",
       "\n",
       "    .dataframe tbody tr th {\n",
       "        vertical-align: top;\n",
       "    }\n",
       "\n",
       "    .dataframe thead th {\n",
       "        text-align: right;\n",
       "    }\n",
       "</style>\n",
       "<table border=\"1\" class=\"dataframe\">\n",
       "  <thead>\n",
       "    <tr style=\"text-align: right;\">\n",
       "      <th></th>\n",
       "      <th>Boroughs</th>\n",
       "      <th>daily_cases_rate_rolling_average</th>\n",
       "    </tr>\n",
       "  </thead>\n",
       "  <tbody>\n",
       "    <tr>\n",
       "      <th>0</th>\n",
       "      <td>Barking and Dagenham</td>\n",
       "      <td>1021.671429</td>\n",
       "    </tr>\n",
       "    <tr>\n",
       "      <th>1</th>\n",
       "      <td>Barnet</td>\n",
       "      <td>666.528571</td>\n",
       "    </tr>\n",
       "    <tr>\n",
       "      <th>2</th>\n",
       "      <td>Bexley</td>\n",
       "      <td>982.285714</td>\n",
       "    </tr>\n",
       "    <tr>\n",
       "      <th>3</th>\n",
       "      <td>Brent</td>\n",
       "      <td>792.428571</td>\n",
       "    </tr>\n",
       "    <tr>\n",
       "      <th>4</th>\n",
       "      <td>Bromley</td>\n",
       "      <td>579.557143</td>\n",
       "    </tr>\n",
       "    <tr>\n",
       "      <th>5</th>\n",
       "      <td>Camden</td>\n",
       "      <td>446.500000</td>\n",
       "    </tr>\n",
       "    <tr>\n",
       "      <th>6</th>\n",
       "      <td>Croydon</td>\n",
       "      <td>597.200000</td>\n",
       "    </tr>\n",
       "    <tr>\n",
       "      <th>7</th>\n",
       "      <td>Ealing</td>\n",
       "      <td>927.400000</td>\n",
       "    </tr>\n",
       "    <tr>\n",
       "      <th>8</th>\n",
       "      <td>Enfield</td>\n",
       "      <td>779.714286</td>\n",
       "    </tr>\n",
       "    <tr>\n",
       "      <th>9</th>\n",
       "      <td>Greenwich</td>\n",
       "      <td>654.842857</td>\n",
       "    </tr>\n",
       "    <tr>\n",
       "      <th>11</th>\n",
       "      <td>Hammersmith and Fulham</td>\n",
       "      <td>705.285714</td>\n",
       "    </tr>\n",
       "    <tr>\n",
       "      <th>12</th>\n",
       "      <td>Haringey</td>\n",
       "      <td>606.028571</td>\n",
       "    </tr>\n",
       "    <tr>\n",
       "      <th>13</th>\n",
       "      <td>Harrow</td>\n",
       "      <td>704.942857</td>\n",
       "    </tr>\n",
       "    <tr>\n",
       "      <th>14</th>\n",
       "      <td>Havering</td>\n",
       "      <td>1322.457143</td>\n",
       "    </tr>\n",
       "    <tr>\n",
       "      <th>15</th>\n",
       "      <td>Hillingdon</td>\n",
       "      <td>839.528571</td>\n",
       "    </tr>\n",
       "    <tr>\n",
       "      <th>16</th>\n",
       "      <td>Hounslow</td>\n",
       "      <td>780.700000</td>\n",
       "    </tr>\n",
       "    <tr>\n",
       "      <th>17</th>\n",
       "      <td>Islington</td>\n",
       "      <td>563.814286</td>\n",
       "    </tr>\n",
       "    <tr>\n",
       "      <th>18</th>\n",
       "      <td>Kensington and Chelsea</td>\n",
       "      <td>540.757143</td>\n",
       "    </tr>\n",
       "    <tr>\n",
       "      <th>19</th>\n",
       "      <td>Kingston upon Thames</td>\n",
       "      <td>695.471429</td>\n",
       "    </tr>\n",
       "    <tr>\n",
       "      <th>20</th>\n",
       "      <td>Lambeth</td>\n",
       "      <td>610.600000</td>\n",
       "    </tr>\n",
       "    <tr>\n",
       "      <th>21</th>\n",
       "      <td>Lewisham</td>\n",
       "      <td>470.500000</td>\n",
       "    </tr>\n",
       "    <tr>\n",
       "      <th>22</th>\n",
       "      <td>Merton</td>\n",
       "      <td>669.471429</td>\n",
       "    </tr>\n",
       "    <tr>\n",
       "      <th>23</th>\n",
       "      <td>Newham</td>\n",
       "      <td>888.328571</td>\n",
       "    </tr>\n",
       "    <tr>\n",
       "      <th>24</th>\n",
       "      <td>Redbridge</td>\n",
       "      <td>1153.514286</td>\n",
       "    </tr>\n",
       "    <tr>\n",
       "      <th>25</th>\n",
       "      <td>Richmond upon Thames</td>\n",
       "      <td>490.742857</td>\n",
       "    </tr>\n",
       "    <tr>\n",
       "      <th>26</th>\n",
       "      <td>Southwark</td>\n",
       "      <td>471.885714</td>\n",
       "    </tr>\n",
       "    <tr>\n",
       "      <th>27</th>\n",
       "      <td>Sutton</td>\n",
       "      <td>624.600000</td>\n",
       "    </tr>\n",
       "    <tr>\n",
       "      <th>28</th>\n",
       "      <td>Tower Hamlets</td>\n",
       "      <td>950.471429</td>\n",
       "    </tr>\n",
       "    <tr>\n",
       "      <th>29</th>\n",
       "      <td>Waltham Forest</td>\n",
       "      <td>863.642857</td>\n",
       "    </tr>\n",
       "    <tr>\n",
       "      <th>30</th>\n",
       "      <td>Wandsworth</td>\n",
       "      <td>584.157143</td>\n",
       "    </tr>\n",
       "    <tr>\n",
       "      <th>31</th>\n",
       "      <td>Westminster</td>\n",
       "      <td>567.900000</td>\n",
       "    </tr>\n",
       "    <tr>\n",
       "      <th>32</th>\n",
       "      <td>Hackney</td>\n",
       "      <td>317.000000</td>\n",
       "    </tr>\n",
       "    <tr>\n",
       "      <th>33</th>\n",
       "      <td>City of London</td>\n",
       "      <td>317.000000</td>\n",
       "    </tr>\n",
       "  </tbody>\n",
       "</table>\n",
       "</div>"
      ],
      "text/plain": [
       "                  Boroughs  daily_cases_rate_rolling_average\n",
       "0     Barking and Dagenham                       1021.671429\n",
       "1                   Barnet                        666.528571\n",
       "2                   Bexley                        982.285714\n",
       "3                    Brent                        792.428571\n",
       "4                  Bromley                        579.557143\n",
       "5                   Camden                        446.500000\n",
       "6                  Croydon                        597.200000\n",
       "7                   Ealing                        927.400000\n",
       "8                  Enfield                        779.714286\n",
       "9                Greenwich                        654.842857\n",
       "11  Hammersmith and Fulham                        705.285714\n",
       "12                Haringey                        606.028571\n",
       "13                  Harrow                        704.942857\n",
       "14                Havering                       1322.457143\n",
       "15              Hillingdon                        839.528571\n",
       "16                Hounslow                        780.700000\n",
       "17               Islington                        563.814286\n",
       "18  Kensington and Chelsea                        540.757143\n",
       "19    Kingston upon Thames                        695.471429\n",
       "20                 Lambeth                        610.600000\n",
       "21                Lewisham                        470.500000\n",
       "22                  Merton                        669.471429\n",
       "23                  Newham                        888.328571\n",
       "24               Redbridge                       1153.514286\n",
       "25    Richmond upon Thames                        490.742857\n",
       "26               Southwark                        471.885714\n",
       "27                  Sutton                        624.600000\n",
       "28           Tower Hamlets                        950.471429\n",
       "29          Waltham Forest                        863.642857\n",
       "30              Wandsworth                        584.157143\n",
       "31             Westminster                        567.900000\n",
       "32                 Hackney                        317.000000\n",
       "33          City of London                        317.000000"
      ]
     },
     "execution_count": 34,
     "metadata": {},
     "output_type": "execute_result"
    }
   ],
   "source": [
    "dfCasesProcessed"
   ]
  },
  {
   "cell_type": "markdown",
   "id": "36471f65",
   "metadata": {},
   "source": [
    "### Combine first and second Dataframe\n"
   ]
  },
  {
   "cell_type": "code",
   "execution_count": 35,
   "id": "e49137ef",
   "metadata": {},
   "outputs": [],
   "source": [
    "\"\"\"\n",
    "According to the Borough name of the first Dataframe, \n",
    "add the Covid cases of Borough corresponding to the second Dataframe to the first Dataframe.\n",
    "\"\"\"\n",
    "\n",
    "listOfCases = []\n",
    "\n",
    "\n",
    "# First create a dictionary, key is boroughs, value is the corresponding Covid Cases\n",
    "dic = {}\n",
    "listBorough = list(dfCasesProcessed.Boroughs)\n",
    "listCases = list(dfCasesProcessed.daily_cases_rate_rolling_average)\n",
    "for i in range(len(listBorough)):\n",
    "    dic[listBorough[i]] = listCases[i]\n",
    "\n",
    "# If the Boroughs in first dataframe matches the Boroughs in the Dictionary's Key, add the value (Covid Cases) to the first dataframe\n",
    "for i in list(dfDirty.Boroughs):\n",
    "    if i in dic.keys():\n",
    "        listOfCases.append(dic[i])\n",
    "\n",
    "dfDirty[\"daily_cases_rate_rolling_average\"] = listOfCases"
   ]
  },
  {
   "cell_type": "markdown",
   "id": "9b3016a2",
   "metadata": {},
   "source": [
    "###  Data Transformation \n",
    "\n",
    "> - Visualizing the availability_365 column shows that the distribution is extremely uneven and the data needs to be resampled. \n",
    ">> 1. First, when resampling, calculate how many samples you need to take proportionally to each part\n",
    ">>> - Normalization: \"stats.boxcox\" method. Boxcox method normalizes the data distribution. Boxcox can reduce the skewness and achieve the goal of approaching the normal distribution. The output of this step is to calculate how many samples need to be taken for resampling. However, due to the limitation of this method, the output number is between 1 and 3, and the number of decimal places is particularly large, so it is impossible to confirm how many samples need to be taken for each part. (The number of samples must be an integer. If these float numbers are converted to integer int, the number of samples for each part will be 1, 2, and 3, which does not reflect the distribution of the original data.)\n",
    ">>> - MIN-MAX scaling：The Min-Max method normalizes the number of samples to the interval 0 to 6 without changing the distribution. \n",
    ">> 2. After calculating how many samples need to be taken proportionally to each part, resample the data using undersampling method. Sample using dataframe.sample(n=just computed above)"
   ]
  },
  {
   "cell_type": "markdown",
   "id": "b923d07b",
   "metadata": {},
   "source": [
    "**Check if there are missing values**"
   ]
  },
  {
   "cell_type": "code",
   "execution_count": 36,
   "id": "13ba3b63",
   "metadata": {},
   "outputs": [
    {
     "data": {
      "text/html": [
       "<div>\n",
       "<style scoped>\n",
       "    .dataframe tbody tr th:only-of-type {\n",
       "        vertical-align: middle;\n",
       "    }\n",
       "\n",
       "    .dataframe tbody tr th {\n",
       "        vertical-align: top;\n",
       "    }\n",
       "\n",
       "    .dataframe thead th {\n",
       "        text-align: right;\n",
       "    }\n",
       "</style>\n",
       "<table border=\"1\" class=\"dataframe\">\n",
       "  <thead>\n",
       "    <tr style=\"text-align: right;\">\n",
       "      <th></th>\n",
       "      <th>Column_Name</th>\n",
       "      <th>NaN_Counts</th>\n",
       "    </tr>\n",
       "  </thead>\n",
       "  <tbody>\n",
       "    <tr>\n",
       "      <th>15</th>\n",
       "      <td>host_response_rate</td>\n",
       "      <td>37617</td>\n",
       "    </tr>\n",
       "    <tr>\n",
       "      <th>14</th>\n",
       "      <td>host_response_time</td>\n",
       "      <td>37617</td>\n",
       "    </tr>\n",
       "    <tr>\n",
       "      <th>13</th>\n",
       "      <td>host_about</td>\n",
       "      <td>33758</td>\n",
       "    </tr>\n",
       "    <tr>\n",
       "      <th>6</th>\n",
       "      <td>neighborhood_overview</td>\n",
       "      <td>29137</td>\n",
       "    </tr>\n",
       "    <tr>\n",
       "      <th>26</th>\n",
       "      <td>neighbourhood</td>\n",
       "      <td>29136</td>\n",
       "    </tr>\n",
       "  </tbody>\n",
       "</table>\n",
       "</div>"
      ],
      "text/plain": [
       "              Column_Name  NaN_Counts\n",
       "15     host_response_rate       37617\n",
       "14     host_response_time       37617\n",
       "13             host_about       33758\n",
       "6   neighborhood_overview       29137\n",
       "26          neighbourhood       29136"
      ]
     },
     "execution_count": 36,
     "metadata": {},
     "output_type": "execute_result"
    }
   ],
   "source": [
    "\"\"\"\n",
    "Find out how many missing values exist in each column\n",
    "\"\"\"\n",
    "# Count the number of missing values in each column and create a new Dataframe based on the results\n",
    "dfDirtyCheck2 = pd.DataFrame(dfDirty.isnull().sum().rename_axis('Column_Name').reset_index(name='NaN_Counts'))\n",
    "# Sort this new Dataframe from largest to smallest according to column \"NaN_Counts\" column\n",
    "dfDirtyCheck2 = dfDirtyCheck2.sort_values([\"NaN_Counts\"], ascending=False)\n",
    "dfDirtyCheck2.head(5)"
   ]
  },
  {
   "cell_type": "code",
   "execution_count": 37,
   "id": "c7724f9c",
   "metadata": {},
   "outputs": [
    {
     "data": {
      "text/html": [
       "<div>\n",
       "<style scoped>\n",
       "    .dataframe tbody tr th:only-of-type {\n",
       "        vertical-align: middle;\n",
       "    }\n",
       "\n",
       "    .dataframe tbody tr th {\n",
       "        vertical-align: top;\n",
       "    }\n",
       "\n",
       "    .dataframe thead th {\n",
       "        text-align: right;\n",
       "    }\n",
       "</style>\n",
       "<table border=\"1\" class=\"dataframe\">\n",
       "  <thead>\n",
       "    <tr style=\"text-align: right;\">\n",
       "      <th></th>\n",
       "      <th>Column_Name</th>\n",
       "      <th>NaN_Counts</th>\n",
       "    </tr>\n",
       "  </thead>\n",
       "  <tbody>\n",
       "    <tr>\n",
       "      <th>50</th>\n",
       "      <td>availability_365</td>\n",
       "      <td>0</td>\n",
       "    </tr>\n",
       "  </tbody>\n",
       "</table>\n",
       "</div>"
      ],
      "text/plain": [
       "         Column_Name  NaN_Counts\n",
       "50  availability_365           0"
      ]
     },
     "execution_count": 37,
     "metadata": {},
     "output_type": "execute_result"
    }
   ],
   "source": [
    "dfDirtyCheck2[dfDirtyCheck2[\"Column_Name\"] == \"availability_365\"]"
   ]
  },
  {
   "cell_type": "markdown",
   "id": "fef9b38d",
   "metadata": {},
   "source": [
    "The above results show that the dependent variable availability_365 does not have a missing value."
   ]
  },
  {
   "cell_type": "code",
   "execution_count": 38,
   "id": "bf39fd91",
   "metadata": {},
   "outputs": [
    {
     "name": "stderr",
     "output_type": "stream",
     "text": [
      "D:\\Anaconda\\envs\\new\\lib\\site-packages\\seaborn\\distributions.py:2619: FutureWarning: `distplot` is a deprecated function and will be removed in a future version. Please adapt your code to use either `displot` (a figure-level function with similar flexibility) or `histplot` (an axes-level function for histograms).\n",
      "  warnings.warn(msg, FutureWarning)\n"
     ]
    },
    {
     "data": {
      "image/png": "[encoded data removed]",
      "text/plain": [
       "<Figure size 432x288 with 1 Axes>"
      ]
     },
     "metadata": {
      "needs_background": "light"
     },
     "output_type": "display_data"
    }
   ],
   "source": [
    "\"\"\"\n",
    "Display the distribution of data in availability_365 column\n",
    "\"\"\"\n",
    "sns.distplot(dfDirty.availability_365, bins = 30)\n",
    "plt.xlabel('availability_365')\n",
    "plt.title(\"Distribution of availability_365\")\n",
    "# plt.ylabel('Distribution', fontsize=16)\n",
    "plt.show()"
   ]
  },
  {
   "cell_type": "markdown",
   "id": "e7ab88e9",
   "metadata": {},
   "source": [
    "It is found that the data distribution is seriously uneven"
   ]
  },
  {
   "cell_type": "code",
   "execution_count": 39,
   "id": "0d9ffcad",
   "metadata": {},
   "outputs": [
    {
     "data": {
      "text/html": [
       "<div>\n",
       "<style scoped>\n",
       "    .dataframe tbody tr th:only-of-type {\n",
       "        vertical-align: middle;\n",
       "    }\n",
       "\n",
       "    .dataframe tbody tr th {\n",
       "        vertical-align: top;\n",
       "    }\n",
       "\n",
       "    .dataframe thead th {\n",
       "        text-align: right;\n",
       "    }\n",
       "</style>\n",
       "<table border=\"1\" class=\"dataframe\">\n",
       "  <thead>\n",
       "    <tr style=\"text-align: right;\">\n",
       "      <th></th>\n",
       "      <th>availability_365</th>\n",
       "      <th>counts</th>\n",
       "    </tr>\n",
       "  </thead>\n",
       "  <tbody>\n",
       "    <tr>\n",
       "      <th>0</th>\n",
       "      <td>0</td>\n",
       "      <td>33246</td>\n",
       "    </tr>\n",
       "    <tr>\n",
       "      <th>17</th>\n",
       "      <td>1</td>\n",
       "      <td>303</td>\n",
       "    </tr>\n",
       "    <tr>\n",
       "      <th>54</th>\n",
       "      <td>2</td>\n",
       "      <td>124</td>\n",
       "    </tr>\n",
       "    <tr>\n",
       "      <th>34</th>\n",
       "      <td>3</td>\n",
       "      <td>165</td>\n",
       "    </tr>\n",
       "    <tr>\n",
       "      <th>26</th>\n",
       "      <td>4</td>\n",
       "      <td>218</td>\n",
       "    </tr>\n",
       "    <tr>\n",
       "      <th>...</th>\n",
       "      <td>...</td>\n",
       "      <td>...</td>\n",
       "    </tr>\n",
       "    <tr>\n",
       "      <th>23</th>\n",
       "      <td>361</td>\n",
       "      <td>223</td>\n",
       "    </tr>\n",
       "    <tr>\n",
       "      <th>9</th>\n",
       "      <td>362</td>\n",
       "      <td>609</td>\n",
       "    </tr>\n",
       "    <tr>\n",
       "      <th>7</th>\n",
       "      <td>363</td>\n",
       "      <td>1123</td>\n",
       "    </tr>\n",
       "    <tr>\n",
       "      <th>2</th>\n",
       "      <td>364</td>\n",
       "      <td>2504</td>\n",
       "    </tr>\n",
       "    <tr>\n",
       "      <th>1</th>\n",
       "      <td>365</td>\n",
       "      <td>6014</td>\n",
       "    </tr>\n",
       "  </tbody>\n",
       "</table>\n",
       "<p>366 rows × 2 columns</p>\n",
       "</div>"
      ],
      "text/plain": [
       "    availability_365  counts\n",
       "0                  0   33246\n",
       "17                 1     303\n",
       "54                 2     124\n",
       "34                 3     165\n",
       "26                 4     218\n",
       "..               ...     ...\n",
       "23               361     223\n",
       "9                362     609\n",
       "7                363    1123\n",
       "2                364    2504\n",
       "1                365    6014\n",
       "\n",
       "[366 rows x 2 columns]"
      ]
     },
     "execution_count": 39,
     "metadata": {},
     "output_type": "execute_result"
    }
   ],
   "source": [
    "\"\"\"\n",
    "Calculate the distribution of the data and see how much data in each category of the availability_365 column\n",
    "\"\"\"\n",
    "x20 = pd.DataFrame(dfDirty[\"availability_365\"].value_counts().rename_axis('availability_365').reset_index(name='counts'))\n",
    "x21 = x20.sort_values([\"availability_365\"], ascending=True)\n",
    "x21"
   ]
  },
  {
   "cell_type": "markdown",
   "id": "25bb72ab",
   "metadata": {},
   "source": [
    "Normalize x21 dataframe, make this dataframe fit a normal distribution. The data is then resampled based on this normalized quantity."
   ]
  },
  {
   "cell_type": "code",
   "execution_count": 40,
   "id": "f060461a",
   "metadata": {},
   "outputs": [],
   "source": [
    "\"\"\"\n",
    "Using Boxcox normalization to normalize the counts.\n",
    "\"\"\"\n",
    "x_normal = stats.boxcox(x21.counts)[0]"
   ]
  },
  {
   "cell_type": "code",
   "execution_count": 41,
   "id": "5e1b7f33",
   "metadata": {},
   "outputs": [
    {
     "name": "stderr",
     "output_type": "stream",
     "text": [
      "D:\\Anaconda\\envs\\new\\lib\\site-packages\\seaborn\\distributions.py:2619: FutureWarning: `distplot` is a deprecated function and will be removed in a future version. Please adapt your code to use either `displot` (a figure-level function with similar flexibility) or `histplot` (an axes-level function for histograms).\n",
      "  warnings.warn(msg, FutureWarning)\n"
     ]
    },
    {
     "data": {
      "image/png": "[encoded data removed]",
      "text/plain": [
       "<Figure size 432x288 with 1 Axes>"
      ]
     },
     "metadata": {
      "needs_background": "light"
     },
     "output_type": "display_data"
    }
   ],
   "source": [
    "\"\"\"\n",
    "After adjustment, the counts meet the normal distribution\n",
    "\"\"\"\n",
    "# Draw the distplot\n",
    "sns.distplot(x_normal)\n",
    "plt.xlabel(\"availability_365 counts\")\n",
    "plt.title(\"Distribution of availability_365\")\n",
    "plt.show()"
   ]
  },
  {
   "cell_type": "markdown",
   "id": "2796924c",
   "metadata": {},
   "source": [
    "After normalization, the data is in the interval of 1-3 and cannot be resampled. The data needs to be normalized and scaling. I will use MIN-MAX scaling method to scale the data to 0-6 without changing the distribution."
   ]
  },
  {
   "cell_type": "code",
   "execution_count": 42,
   "id": "1a1c30b0",
   "metadata": {},
   "outputs": [],
   "source": [
    "\"\"\"\n",
    "Using Min-Max method to scale the data to 0-6 withoud changing the original distribution.\n",
    "\"\"\"\n",
    "k = (6-0)/(max(x_normal) - min(x_normal))\n",
    "transform = [ 0 + k*(x - min(x_normal)) for x in x_normal]"
   ]
  },
  {
   "cell_type": "code",
   "execution_count": 43,
   "id": "8a822137",
   "metadata": {},
   "outputs": [],
   "source": [
    "\"\"\"\n",
    "Resample the data according to the normalized values above\n",
    "\"\"\"\n",
    "\n",
    "# Create an empty dataframe\n",
    "dfDirtyUnderSampling = pd.DataFrame(columns = dfDirty.columns)\n",
    "\n",
    "# Add resampled dataframe to the empty dataframe created above\n",
    "for i in range(366):\n",
    "#     if i > 10 and i < 22:\n",
    "#         print(transform[i])\n",
    "#         dfTemp = dfDirty[dfDirty[\"availability_365\"] == i].sample(n = int(transform[i])+40)\n",
    "#         dfDirtyUnderSampling = dfDirtyUnderSampling.append(dfTemp, ignore_index=True)\n",
    "#     else:\n",
    "    dfTemp = dfDirty[dfDirty[\"availability_365\"] == i].sample(n = int(transform[i]),random_state=1)\n",
    "    dfDirtyUnderSampling = dfDirtyUnderSampling.append(dfTemp, ignore_index=True)"
   ]
  },
  {
   "cell_type": "code",
   "execution_count": 44,
   "id": "c33be7a2",
   "metadata": {},
   "outputs": [
    {
     "name": "stderr",
     "output_type": "stream",
     "text": [
      "D:\\Anaconda\\envs\\new\\lib\\site-packages\\seaborn\\distributions.py:2619: FutureWarning: `distplot` is a deprecated function and will be removed in a future version. Please adapt your code to use either `displot` (a figure-level function with similar flexibility) or `histplot` (an axes-level function for histograms).\n",
      "  warnings.warn(msg, FutureWarning)\n"
     ]
    },
    {
     "data": {
      "image/png": "[encoded data removed]",
      "text/plain": [
       "<Figure size 432x288 with 1 Axes>"
      ]
     },
     "metadata": {
      "needs_background": "light"
     },
     "output_type": "display_data"
    }
   ],
   "source": [
    "\"\"\"\n",
    "After data tranformation, display the distribution of data in availability_365 column\n",
    "\"\"\"\n",
    "sns.distplot(dfDirtyUnderSampling.availability_365, bins = 10)\n",
    "plt.xlabel(\"availability_365\")\n",
    "\n",
    "plt.title(\"Distribution of availability_365\")\n",
    "# plt.ylabel('Distribution', fontsize=16)\n",
    "plt.show()"
   ]
  },
  {
   "cell_type": "markdown",
   "id": "b6d651ab",
   "metadata": {},
   "source": [
    "Now the distribution of availability_365 is much better than original one."
   ]
  },
  {
   "cell_type": "markdown",
   "id": "cbcbdeb2",
   "metadata": {},
   "source": [
    "###  Data Transformation \n",
    "\n",
    "> - After sampling, I will perform feature selection method on the data to find out which features have a significant impact on the rental situation\n",
    ">> 1. Using the dataframe.info() method, it is found that the type of the data column is wrong. For example, the availability_365 column should be a number, but in dataframe it is an object, therefore the format needs to be converted.\n",
    ">> 2. Feature selection also requires that the data must be numeric, so the non-numeric columns are transformed\n",
    ">> 3. Since the feature selection method requires that the data cannot have NaN values, I need to check if there are NaN values. There are more than 200 empty values in 9 columns of data, because there are not many, I choose to delete them"
   ]
  },
  {
   "cell_type": "code",
   "execution_count": 45,
   "id": "03414f9e",
   "metadata": {},
   "outputs": [],
   "source": [
    "name = [\"host_is_superhost\",\"host_identity_verified\",\"latitude\", \"longitude\", \n",
    "        \"property_type\",\"room_type\",\"accommodates\",\"bedrooms\", \"beds\", \"minimum_nights\", \"maximum_nights\",\n",
    "       \"availability_365\",\"number_of_reviews\",\"review_scores_rating\",\"review_scores_accuracy\", \"review_scores_cleanliness\",\n",
    "       \"review_scores_checkin\", \"review_scores_communication\", \"review_scores_location\", \"review_scores_value\",\"Boroughs\",\n",
    "        \"daily_cases_rate_rolling_average\"]"
   ]
  },
  {
   "cell_type": "code",
   "execution_count": 46,
   "id": "6dbc2bda",
   "metadata": {},
   "outputs": [],
   "source": [
    "\"\"\"\n",
    "Remove unimportant columns list host_id, id etc. \n",
    "\"\"\"\n",
    "dfDirtyUnderSamplingFilter = dfDirtyUnderSampling[name]"
   ]
  },
  {
   "cell_type": "code",
   "execution_count": 47,
   "id": "9fedb785",
   "metadata": {},
   "outputs": [
    {
     "name": "stdout",
     "output_type": "stream",
     "text": [
      "<class 'pandas.core.frame.DataFrame'>\n",
      "RangeIndex: 1012 entries, 0 to 1011\n",
      "Data columns (total 22 columns):\n",
      " #   Column                            Non-Null Count  Dtype  \n",
      "---  ------                            --------------  -----  \n",
      " 0   host_is_superhost                 1012 non-null   object \n",
      " 1   host_identity_verified            1012 non-null   object \n",
      " 2   latitude                          1012 non-null   float64\n",
      " 3   longitude                         1012 non-null   float64\n",
      " 4   property_type                     1012 non-null   object \n",
      " 5   room_type                         1012 non-null   object \n",
      " 6   accommodates                      1012 non-null   object \n",
      " 7   bedrooms                          944 non-null    float64\n",
      " 8   beds                              999 non-null    float64\n",
      " 9   minimum_nights                    1012 non-null   object \n",
      " 10  maximum_nights                    1012 non-null   object \n",
      " 11  availability_365                  1012 non-null   object \n",
      " 12  number_of_reviews                 1012 non-null   object \n",
      " 13  review_scores_rating              765 non-null    float64\n",
      " 14  review_scores_accuracy            763 non-null    float64\n",
      " 15  review_scores_cleanliness         764 non-null    float64\n",
      " 16  review_scores_checkin             763 non-null    float64\n",
      " 17  review_scores_communication       764 non-null    float64\n",
      " 18  review_scores_location            763 non-null    float64\n",
      " 19  review_scores_value               763 non-null    float64\n",
      " 20  Boroughs                          1012 non-null   object \n",
      " 21  daily_cases_rate_rolling_average  1012 non-null   float64\n",
      "dtypes: float64(12), object(10)\n",
      "memory usage: 174.1+ KB\n"
     ]
    }
   ],
   "source": [
    "\"\"\"\n",
    "Check the type of each column\n",
    "\"\"\"\n",
    "dfDirtyUnderSamplingFilter.info()"
   ]
  },
  {
   "cell_type": "code",
   "execution_count": 48,
   "id": "6913ad12",
   "metadata": {},
   "outputs": [
    {
     "name": "stderr",
     "output_type": "stream",
     "text": [
      "C:\\Users\\lingc\\AppData\\Local\\Temp/ipykernel_373040/2455454480.py:5: SettingWithCopyWarning: \n",
      "A value is trying to be set on a copy of a slice from a DataFrame.\n",
      "Try using .loc[row_indexer,col_indexer] = value instead\n",
      "\n",
      "See the caveats in the documentation: https://pandas.pydata.org/pandas-docs/stable/user_guide/indexing.html#returning-a-view-versus-a-copy\n",
      "  dfDirtyUnderSamplingFilter[\"accommodates\"] =  dfDirtyUnderSamplingFilter[\"accommodates\"].apply(pd.to_numeric)\n",
      "C:\\Users\\lingc\\AppData\\Local\\Temp/ipykernel_373040/2455454480.py:6: SettingWithCopyWarning: \n",
      "A value is trying to be set on a copy of a slice from a DataFrame.\n",
      "Try using .loc[row_indexer,col_indexer] = value instead\n",
      "\n",
      "See the caveats in the documentation: https://pandas.pydata.org/pandas-docs/stable/user_guide/indexing.html#returning-a-view-versus-a-copy\n",
      "  dfDirtyUnderSamplingFilter[\"minimum_nights\"] =  dfDirtyUnderSamplingFilter[\"minimum_nights\"].apply(pd.to_numeric)\n",
      "C:\\Users\\lingc\\AppData\\Local\\Temp/ipykernel_373040/2455454480.py:7: SettingWithCopyWarning: \n",
      "A value is trying to be set on a copy of a slice from a DataFrame.\n",
      "Try using .loc[row_indexer,col_indexer] = value instead\n",
      "\n",
      "See the caveats in the documentation: https://pandas.pydata.org/pandas-docs/stable/user_guide/indexing.html#returning-a-view-versus-a-copy\n",
      "  dfDirtyUnderSamplingFilter[\"maximum_nights\"] =  dfDirtyUnderSamplingFilter[\"maximum_nights\"].apply(pd.to_numeric)\n",
      "C:\\Users\\lingc\\AppData\\Local\\Temp/ipykernel_373040/2455454480.py:8: SettingWithCopyWarning: \n",
      "A value is trying to be set on a copy of a slice from a DataFrame.\n",
      "Try using .loc[row_indexer,col_indexer] = value instead\n",
      "\n",
      "See the caveats in the documentation: https://pandas.pydata.org/pandas-docs/stable/user_guide/indexing.html#returning-a-view-versus-a-copy\n",
      "  dfDirtyUnderSamplingFilter[\"availability_365\"] =  dfDirtyUnderSamplingFilter[\"availability_365\"].apply(pd.to_numeric)\n",
      "C:\\Users\\lingc\\AppData\\Local\\Temp/ipykernel_373040/2455454480.py:9: SettingWithCopyWarning: \n",
      "A value is trying to be set on a copy of a slice from a DataFrame.\n",
      "Try using .loc[row_indexer,col_indexer] = value instead\n",
      "\n",
      "See the caveats in the documentation: https://pandas.pydata.org/pandas-docs/stable/user_guide/indexing.html#returning-a-view-versus-a-copy\n",
      "  dfDirtyUnderSamplingFilter[\"number_of_reviews\"] =  dfDirtyUnderSamplingFilter[\"number_of_reviews\"].apply(pd.to_numeric)\n"
     ]
    }
   ],
   "source": [
    "\"\"\"\n",
    "Some numeric columns are stored as object which is wrong.\n",
    "So I convert these columns to numeric columns\n",
    "\"\"\"\n",
    "dfDirtyUnderSamplingFilter[\"accommodates\"] =  dfDirtyUnderSamplingFilter[\"accommodates\"].apply(pd.to_numeric)\n",
    "dfDirtyUnderSamplingFilter[\"minimum_nights\"] =  dfDirtyUnderSamplingFilter[\"minimum_nights\"].apply(pd.to_numeric)\n",
    "dfDirtyUnderSamplingFilter[\"maximum_nights\"] =  dfDirtyUnderSamplingFilter[\"maximum_nights\"].apply(pd.to_numeric)\n",
    "dfDirtyUnderSamplingFilter[\"availability_365\"] =  dfDirtyUnderSamplingFilter[\"availability_365\"].apply(pd.to_numeric)\n",
    "dfDirtyUnderSamplingFilter[\"number_of_reviews\"] =  dfDirtyUnderSamplingFilter[\"number_of_reviews\"].apply(pd.to_numeric)"
   ]
  },
  {
   "cell_type": "code",
   "execution_count": 49,
   "id": "4f939b7e",
   "metadata": {},
   "outputs": [
    {
     "name": "stdout",
     "output_type": "stream",
     "text": [
      "<class 'pandas.core.frame.DataFrame'>\n",
      "RangeIndex: 1012 entries, 0 to 1011\n",
      "Data columns (total 22 columns):\n",
      " #   Column                            Non-Null Count  Dtype  \n",
      "---  ------                            --------------  -----  \n",
      " 0   host_is_superhost                 1012 non-null   object \n",
      " 1   host_identity_verified            1012 non-null   object \n",
      " 2   latitude                          1012 non-null   float64\n",
      " 3   longitude                         1012 non-null   float64\n",
      " 4   property_type                     1012 non-null   object \n",
      " 5   room_type                         1012 non-null   object \n",
      " 6   accommodates                      1012 non-null   int64  \n",
      " 7   bedrooms                          944 non-null    float64\n",
      " 8   beds                              999 non-null    float64\n",
      " 9   minimum_nights                    1012 non-null   int64  \n",
      " 10  maximum_nights                    1012 non-null   int64  \n",
      " 11  availability_365                  1012 non-null   int64  \n",
      " 12  number_of_reviews                 1012 non-null   int64  \n",
      " 13  review_scores_rating              765 non-null    float64\n",
      " 14  review_scores_accuracy            763 non-null    float64\n",
      " 15  review_scores_cleanliness         764 non-null    float64\n",
      " 16  review_scores_checkin             763 non-null    float64\n",
      " 17  review_scores_communication       764 non-null    float64\n",
      " 18  review_scores_location            763 non-null    float64\n",
      " 19  review_scores_value               763 non-null    float64\n",
      " 20  Boroughs                          1012 non-null   object \n",
      " 21  daily_cases_rate_rolling_average  1012 non-null   float64\n",
      "dtypes: float64(12), int64(5), object(5)\n",
      "memory usage: 174.1+ KB\n"
     ]
    }
   ],
   "source": [
    "\"\"\"\n",
    "Check if the type of column is converted successfully\n",
    "\"\"\"\n",
    "dfDirtyUnderSamplingFilter.info()"
   ]
  },
  {
   "cell_type": "code",
   "execution_count": 50,
   "id": "4712f5ec",
   "metadata": {},
   "outputs": [
    {
     "name": "stderr",
     "output_type": "stream",
     "text": [
      "D:\\Anaconda\\envs\\new\\lib\\site-packages\\pandas\\core\\generic.py:6619: SettingWithCopyWarning: \n",
      "A value is trying to be set on a copy of a slice from a DataFrame\n",
      "\n",
      "See the caveats in the documentation: https://pandas.pydata.org/pandas-docs/stable/user_guide/indexing.html#returning-a-view-versus-a-copy\n",
      "  return self._update_inplace(result)\n"
     ]
    }
   ],
   "source": [
    "\"\"\"\n",
    "Convert Non-Numeric Column to Numeric column\n",
    "\n",
    "Convert f for false to 0, t for true to 1\n",
    "\"\"\"\n",
    "\n",
    "dfDirtyUnderSamplingFilter[\"host_is_superhost\"].replace({\"f\": 0, \"t\": 1}, inplace=True)\n",
    "dfDirtyUnderSamplingFilter[\"host_identity_verified\"].replace({\"f\": 0, \"t\": 1}, inplace=True)"
   ]
  },
  {
   "cell_type": "code",
   "execution_count": 51,
   "id": "89133a06",
   "metadata": {},
   "outputs": [],
   "source": [
    "\"\"\"\n",
    "Convert Non-Numeric Column to Numeric column\n",
    "\n",
    "Convert the property_type to the counts\n",
    "\"\"\"\n",
    "x200 = pd.DataFrame(dfDirtyUnderSamplingFilter[\"property_type\"].value_counts().rename_axis('property_type').reset_index(name='counts'))\n",
    "type1 = list(x200.property_type)\n",
    "counts1 = list(x200.counts)\n",
    "dic1 = {}\n",
    "# Create a dictionary, key = property_type, value:  the value that will be replaced\n",
    "for i in range(len(type1)):\n",
    "    dic1[type1[i]] = counts1[i]"
   ]
  },
  {
   "cell_type": "code",
   "execution_count": 52,
   "id": "db057efc",
   "metadata": {},
   "outputs": [],
   "source": [
    "dfDirtyUnderSamplingFilter[\"property_type\"].replace(dic1, inplace=True)"
   ]
  },
  {
   "cell_type": "code",
   "execution_count": 53,
   "id": "0b772bd7",
   "metadata": {},
   "outputs": [],
   "source": [
    "\"\"\"\n",
    "Convert Non-Numeric Column to Numeric column\n",
    "\n",
    "Replace the room_type to its count value\n",
    "\"\"\"\n",
    "x201 = pd.DataFrame(dfDirtyUnderSamplingFilter[\"room_type\"].value_counts().rename_axis('room_type').reset_index(name='counts'))\n",
    "type2 = list(x201.room_type)\n",
    "counts2 = list(x201.counts)\n",
    "dic2 = {}\n",
    "# Create a dictionary, key = room_type, value:  the value that will be replaced\n",
    "for i in range(len(type2)):\n",
    "    dic2[type2[i]] = counts2[i]"
   ]
  },
  {
   "cell_type": "code",
   "execution_count": 54,
   "id": "544029b4",
   "metadata": {},
   "outputs": [],
   "source": [
    "dfDirtyUnderSamplingFilter[\"room_type\"].replace(dic2, inplace=True)"
   ]
  },
  {
   "cell_type": "code",
   "execution_count": 56,
   "id": "1d45e0e4",
   "metadata": {},
   "outputs": [],
   "source": [
    "\"\"\"\n",
    "Convert Non-Numeric Column to Numeric column\n",
    "\n",
    "Replace the Boroughs to its count value\n",
    "\"\"\"\n",
    "\n",
    "x202 = pd.DataFrame(dfDirtyUnderSamplingFilter[\"Boroughs\"].value_counts().rename_axis('Boroughs').reset_index(name='counts'))\n",
    "type3 = list(x202.Boroughs)\n",
    "counts3 = list(x202.counts)\n",
    "dic3 = {}\n",
    "# Create a dictionary, key = Boroughs, value:  the value that will be replaced\n",
    "for i in range(len(type3)):\n",
    "    dic3[type3[i]] = counts3[i]"
   ]
  },
  {
   "cell_type": "code",
   "execution_count": 57,
   "id": "c1cf2a79",
   "metadata": {},
   "outputs": [],
   "source": [
    "dfDirtyUnderSamplingFilter[\"Boroughs\"].replace(dic3, inplace=True)\n",
    "df123 = dfDirtyUnderSamplingFilter"
   ]
  },
  {
   "cell_type": "code",
   "execution_count": 58,
   "id": "d65b20d2",
   "metadata": {},
   "outputs": [
    {
     "name": "stdout",
     "output_type": "stream",
     "text": [
      "Column \"host_is_superhost\" has 0 NaN values.\n",
      "Column \"host_identity_verified\" has 0 NaN values.\n",
      "Column \"latitude\" has 0 NaN values.\n",
      "Column \"longitude\" has 0 NaN values.\n",
      "Column \"property_type\" has 0 NaN values.\n",
      "Column \"room_type\" has 0 NaN values.\n",
      "Column \"accommodates\" has 0 NaN values.\n",
      "Column \"bedrooms\" has 68 NaN values.\n",
      "Column \"beds\" has 13 NaN values.\n",
      "Column \"minimum_nights\" has 0 NaN values.\n",
      "Column \"maximum_nights\" has 0 NaN values.\n",
      "Column \"availability_365\" has 0 NaN values.\n",
      "Column \"number_of_reviews\" has 0 NaN values.\n",
      "Column \"review_scores_rating\" has 247 NaN values.\n",
      "Column \"review_scores_accuracy\" has 249 NaN values.\n",
      "Column \"review_scores_cleanliness\" has 248 NaN values.\n",
      "Column \"review_scores_checkin\" has 249 NaN values.\n",
      "Column \"review_scores_communication\" has 248 NaN values.\n",
      "Column \"review_scores_location\" has 249 NaN values.\n",
      "Column \"review_scores_value\" has 249 NaN values.\n",
      "Column \"Boroughs\" has 0 NaN values.\n",
      "Column \"daily_cases_rate_rolling_average\" has 0 NaN values.\n"
     ]
    }
   ],
   "source": [
    "\"\"\"\n",
    "Find out how many missing values exist in each column\n",
    "\"\"\"\n",
    "\n",
    "# Count the number of missing values in each column and create a new Dataframe based on the results\n",
    "dfDirtyCheck2 = pd.DataFrame(df123.isnull().sum().rename_axis('Column_Name').\n",
    "                             reset_index(name='NaN_Counts'))\n",
    "\n",
    "# Sort this new Dataframe from largest to smallest according to column \"NaN_Counts\" column\n",
    "dfDirtyCheck2 = dfDirtyCheck2.sort_values([\"NaN_Counts\"], ascending=False)\n",
    "dfDirtyCheck2.head(5) \n",
    "\n",
    "# print number of NaNs in each column\n",
    "for i in name:\n",
    "    print(\"Column \\\"%s\\\" has %d NaN values.\" % (list(dfDirtyCheck2[dfDirtyCheck2[\"Column_Name\"] == i].Column_Name)[0],\n",
    "                                           list(dfDirtyCheck2[dfDirtyCheck2[\"Column_Name\"] == i].NaN_Counts)[0]))"
   ]
  },
  {
   "cell_type": "markdown",
   "id": "18150519",
   "metadata": {},
   "source": [
    "The above result shows that there are nine columns with missing values, I decided to delete these empty values ​​directly"
   ]
  },
  {
   "cell_type": "code",
   "execution_count": 59,
   "id": "c8c15e00",
   "metadata": {},
   "outputs": [
    {
     "name": "stderr",
     "output_type": "stream",
     "text": [
      "D:\\Anaconda\\envs\\new\\lib\\site-packages\\pandas\\util\\_decorators.py:311: SettingWithCopyWarning: \n",
      "A value is trying to be set on a copy of a slice from a DataFrame\n",
      "\n",
      "See the caveats in the documentation: https://pandas.pydata.org/pandas-docs/stable/user_guide/indexing.html#returning-a-view-versus-a-copy\n",
      "  return func(*args, **kwargs)\n"
     ]
    }
   ],
   "source": [
    "\"\"\"\n",
    "Remove missing values based on the result above\n",
    "\"\"\"\n",
    "df123.dropna(subset = [\"bedrooms\"], inplace=True)\n",
    "df123.dropna(subset = [\"beds\"], inplace=True)\n",
    "df123.dropna(subset = [\"review_scores_rating\"], inplace=True)\n",
    "df123.dropna(subset = [\"review_scores_accuracy\"], inplace=True)\n",
    "df123.dropna(subset = [\"review_scores_cleanliness\"], inplace=True)\n",
    "df123.dropna(subset = [\"review_scores_checkin\"], inplace=True)\n",
    "df123.dropna(subset = [\"review_scores_communication\"], inplace=True)\n",
    "df123.dropna(subset = [\"review_scores_location\"], inplace=True)\n",
    "df123.dropna(subset = [\"review_scores_value\"], inplace=True)"
   ]
  },
  {
   "cell_type": "markdown",
   "id": "63a583a5",
   "metadata": {},
   "source": [
    "### Feature Selection"
   ]
  },
  {
   "cell_type": "code",
   "execution_count": 60,
   "id": "1abcd21d",
   "metadata": {},
   "outputs": [],
   "source": [
    "\"\"\"\n",
    "According to the requirements of the machine learning algorithm, the features and targets need to be divided into two data frames\n",
    "\"\"\"\n",
    "\n",
    "# X stores features\n",
    "X = df123.drop([\"availability_365\"], axis=1, inplace=False)\n",
    "# y stores targets\n",
    "y = df123[[\"availability_365\"]]"
   ]
  },
  {
   "cell_type": "code",
   "execution_count": 61,
   "id": "23b29e7d",
   "metadata": {},
   "outputs": [
    {
     "name": "stderr",
     "output_type": "stream",
     "text": [
      "D:\\Anaconda\\envs\\new\\lib\\site-packages\\sklearn\\utils\\validation.py:993: DataConversionWarning: A column-vector y was passed when a 1d array was expected. Please change the shape of y to (n_samples, ), for example using ravel().\n",
      "  y = column_or_1d(y, warn=True)\n"
     ]
    },
    {
     "data": {
      "text/html": [
       "<div>\n",
       "<style scoped>\n",
       "    .dataframe tbody tr th:only-of-type {\n",
       "        vertical-align: middle;\n",
       "    }\n",
       "\n",
       "    .dataframe tbody tr th {\n",
       "        vertical-align: top;\n",
       "    }\n",
       "\n",
       "    .dataframe thead th {\n",
       "        text-align: right;\n",
       "    }\n",
       "</style>\n",
       "<table border=\"1\" class=\"dataframe\">\n",
       "  <thead>\n",
       "    <tr style=\"text-align: right;\">\n",
       "      <th></th>\n",
       "      <th>feature</th>\n",
       "      <th>score</th>\n",
       "      <th>pvalue</th>\n",
       "      <th>select</th>\n",
       "    </tr>\n",
       "  </thead>\n",
       "  <tbody>\n",
       "    <tr>\n",
       "      <th>6</th>\n",
       "      <td>accommodates</td>\n",
       "      <td>19.541759</td>\n",
       "      <td>0.000011</td>\n",
       "      <td>True</td>\n",
       "    </tr>\n",
       "    <tr>\n",
       "      <th>10</th>\n",
       "      <td>maximum_nights</td>\n",
       "      <td>11.059630</td>\n",
       "      <td>0.000928</td>\n",
       "      <td>True</td>\n",
       "    </tr>\n",
       "    <tr>\n",
       "      <th>8</th>\n",
       "      <td>beds</td>\n",
       "      <td>11.004249</td>\n",
       "      <td>0.000956</td>\n",
       "      <td>True</td>\n",
       "    </tr>\n",
       "    <tr>\n",
       "      <th>19</th>\n",
       "      <td>Boroughs</td>\n",
       "      <td>9.731320</td>\n",
       "      <td>0.001886</td>\n",
       "      <td>True</td>\n",
       "    </tr>\n",
       "    <tr>\n",
       "      <th>7</th>\n",
       "      <td>bedrooms</td>\n",
       "      <td>5.999600</td>\n",
       "      <td>0.014553</td>\n",
       "      <td>True</td>\n",
       "    </tr>\n",
       "    <tr>\n",
       "      <th>1</th>\n",
       "      <td>host_identity_verified</td>\n",
       "      <td>3.945310</td>\n",
       "      <td>0.047392</td>\n",
       "      <td>True</td>\n",
       "    </tr>\n",
       "    <tr>\n",
       "      <th>5</th>\n",
       "      <td>room_type</td>\n",
       "      <td>3.767048</td>\n",
       "      <td>0.052673</td>\n",
       "      <td>True</td>\n",
       "    </tr>\n",
       "    <tr>\n",
       "      <th>11</th>\n",
       "      <td>number_of_reviews</td>\n",
       "      <td>3.032991</td>\n",
       "      <td>0.082027</td>\n",
       "      <td>False</td>\n",
       "    </tr>\n",
       "    <tr>\n",
       "      <th>20</th>\n",
       "      <td>daily_cases_rate_rolling_average</td>\n",
       "      <td>1.395122</td>\n",
       "      <td>0.237943</td>\n",
       "      <td>False</td>\n",
       "    </tr>\n",
       "    <tr>\n",
       "      <th>0</th>\n",
       "      <td>host_is_superhost</td>\n",
       "      <td>1.174887</td>\n",
       "      <td>0.278773</td>\n",
       "      <td>False</td>\n",
       "    </tr>\n",
       "    <tr>\n",
       "      <th>18</th>\n",
       "      <td>review_scores_value</td>\n",
       "      <td>0.883621</td>\n",
       "      <td>0.347536</td>\n",
       "      <td>False</td>\n",
       "    </tr>\n",
       "    <tr>\n",
       "      <th>9</th>\n",
       "      <td>minimum_nights</td>\n",
       "      <td>0.863283</td>\n",
       "      <td>0.353142</td>\n",
       "      <td>False</td>\n",
       "    </tr>\n",
       "    <tr>\n",
       "      <th>13</th>\n",
       "      <td>review_scores_accuracy</td>\n",
       "      <td>0.737111</td>\n",
       "      <td>0.390882</td>\n",
       "      <td>False</td>\n",
       "    </tr>\n",
       "    <tr>\n",
       "      <th>3</th>\n",
       "      <td>longitude</td>\n",
       "      <td>0.700344</td>\n",
       "      <td>0.402954</td>\n",
       "      <td>False</td>\n",
       "    </tr>\n",
       "    <tr>\n",
       "      <th>2</th>\n",
       "      <td>latitude</td>\n",
       "      <td>0.612705</td>\n",
       "      <td>0.434036</td>\n",
       "      <td>False</td>\n",
       "    </tr>\n",
       "    <tr>\n",
       "      <th>15</th>\n",
       "      <td>review_scores_checkin</td>\n",
       "      <td>0.482659</td>\n",
       "      <td>0.487451</td>\n",
       "      <td>False</td>\n",
       "    </tr>\n",
       "    <tr>\n",
       "      <th>12</th>\n",
       "      <td>review_scores_rating</td>\n",
       "      <td>0.470768</td>\n",
       "      <td>0.492861</td>\n",
       "      <td>False</td>\n",
       "    </tr>\n",
       "    <tr>\n",
       "      <th>16</th>\n",
       "      <td>review_scores_communication</td>\n",
       "      <td>0.188188</td>\n",
       "      <td>0.664563</td>\n",
       "      <td>False</td>\n",
       "    </tr>\n",
       "    <tr>\n",
       "      <th>14</th>\n",
       "      <td>review_scores_cleanliness</td>\n",
       "      <td>0.082339</td>\n",
       "      <td>0.774238</td>\n",
       "      <td>False</td>\n",
       "    </tr>\n",
       "    <tr>\n",
       "      <th>4</th>\n",
       "      <td>property_type</td>\n",
       "      <td>0.042998</td>\n",
       "      <td>0.835788</td>\n",
       "      <td>False</td>\n",
       "    </tr>\n",
       "    <tr>\n",
       "      <th>17</th>\n",
       "      <td>review_scores_location</td>\n",
       "      <td>0.015017</td>\n",
       "      <td>0.902502</td>\n",
       "      <td>False</td>\n",
       "    </tr>\n",
       "  </tbody>\n",
       "</table>\n",
       "</div>"
      ],
      "text/plain": [
       "                             feature      score    pvalue  select\n",
       "6                       accommodates  19.541759  0.000011    True\n",
       "10                    maximum_nights  11.059630  0.000928    True\n",
       "8                               beds  11.004249  0.000956    True\n",
       "19                          Boroughs   9.731320  0.001886    True\n",
       "7                           bedrooms   5.999600  0.014553    True\n",
       "1             host_identity_verified   3.945310  0.047392    True\n",
       "5                          room_type   3.767048  0.052673    True\n",
       "11                 number_of_reviews   3.032991  0.082027   False\n",
       "20  daily_cases_rate_rolling_average   1.395122  0.237943   False\n",
       "0                  host_is_superhost   1.174887  0.278773   False\n",
       "18               review_scores_value   0.883621  0.347536   False\n",
       "9                     minimum_nights   0.863283  0.353142   False\n",
       "13            review_scores_accuracy   0.737111  0.390882   False\n",
       "3                          longitude   0.700344  0.402954   False\n",
       "2                           latitude   0.612705  0.434036   False\n",
       "15             review_scores_checkin   0.482659  0.487451   False\n",
       "12              review_scores_rating   0.470768  0.492861   False\n",
       "16       review_scores_communication   0.188188  0.664563   False\n",
       "14         review_scores_cleanliness   0.082339  0.774238   False\n",
       "4                      property_type   0.042998  0.835788   False\n",
       "17            review_scores_location   0.015017  0.902502   False"
      ]
     },
     "execution_count": 61,
     "metadata": {},
     "output_type": "execute_result"
    }
   ],
   "source": [
    "\"\"\"\n",
    "Create a selector. \n",
    "Since this is a regression problem, and the features are all numerical variables, I will use 'f_regression' function.\n",
    "Keep the 7 features with the highest degree of correlation\n",
    "\"\"\"\n",
    "# Use f_regression function, because it is a regression problem\n",
    "# Use k=7 to keep the 7 features with the highest degree of correlation\n",
    "selector = SelectKBest(score_func=f_regression, k=7)\n",
    "\n",
    "# Fit the data\n",
    "modelOutput = selector.fit(X, y)\n",
    "\n",
    "# In order to better display the results, decided to create a data frame\n",
    "name1 = X.columns\n",
    "featureImportance = pd.DataFrame({\n",
    "    # Dataframe Columns\n",
    "    \"feature\": name1,\n",
    "    # Score of correlation for each feature\n",
    "    \"score\": modelOutput.scores_,\n",
    "    # P-Value for each feature\n",
    "    \"pvalue\": modelOutput.pvalues_,\n",
    "    # True means select the feature, False means give up, or return the index\n",
    "    \"select\": modelOutput.get_support()\n",
    "})\n",
    "featureImportance.sort_values(\"score\", ascending=False)"
   ]
  },
  {
   "cell_type": "code",
   "execution_count": 62,
   "id": "0a2c7f7a",
   "metadata": {},
   "outputs": [
    {
     "data": {
      "text/html": [
       "<div>\n",
       "<style scoped>\n",
       "    .dataframe tbody tr th:only-of-type {\n",
       "        vertical-align: middle;\n",
       "    }\n",
       "\n",
       "    .dataframe tbody tr th {\n",
       "        vertical-align: top;\n",
       "    }\n",
       "\n",
       "    .dataframe thead th {\n",
       "        text-align: right;\n",
       "    }\n",
       "</style>\n",
       "<table border=\"1\" class=\"dataframe\">\n",
       "  <thead>\n",
       "    <tr style=\"text-align: right;\">\n",
       "      <th></th>\n",
       "      <th>feature</th>\n",
       "      <th>score</th>\n",
       "      <th>pvalue</th>\n",
       "      <th>select</th>\n",
       "    </tr>\n",
       "  </thead>\n",
       "  <tbody>\n",
       "    <tr>\n",
       "      <th>6</th>\n",
       "      <td>accommodates</td>\n",
       "      <td>19.541759</td>\n",
       "      <td>0.000011</td>\n",
       "      <td>True</td>\n",
       "    </tr>\n",
       "    <tr>\n",
       "      <th>10</th>\n",
       "      <td>maximum_nights</td>\n",
       "      <td>11.059630</td>\n",
       "      <td>0.000928</td>\n",
       "      <td>True</td>\n",
       "    </tr>\n",
       "    <tr>\n",
       "      <th>8</th>\n",
       "      <td>beds</td>\n",
       "      <td>11.004249</td>\n",
       "      <td>0.000956</td>\n",
       "      <td>True</td>\n",
       "    </tr>\n",
       "    <tr>\n",
       "      <th>19</th>\n",
       "      <td>Boroughs</td>\n",
       "      <td>9.731320</td>\n",
       "      <td>0.001886</td>\n",
       "      <td>True</td>\n",
       "    </tr>\n",
       "    <tr>\n",
       "      <th>7</th>\n",
       "      <td>bedrooms</td>\n",
       "      <td>5.999600</td>\n",
       "      <td>0.014553</td>\n",
       "      <td>True</td>\n",
       "    </tr>\n",
       "    <tr>\n",
       "      <th>1</th>\n",
       "      <td>host_identity_verified</td>\n",
       "      <td>3.945310</td>\n",
       "      <td>0.047392</td>\n",
       "      <td>True</td>\n",
       "    </tr>\n",
       "    <tr>\n",
       "      <th>5</th>\n",
       "      <td>room_type</td>\n",
       "      <td>3.767048</td>\n",
       "      <td>0.052673</td>\n",
       "      <td>True</td>\n",
       "    </tr>\n",
       "  </tbody>\n",
       "</table>\n",
       "</div>"
      ],
      "text/plain": [
       "                   feature      score    pvalue  select\n",
       "6             accommodates  19.541759  0.000011    True\n",
       "10          maximum_nights  11.059630  0.000928    True\n",
       "8                     beds  11.004249  0.000956    True\n",
       "19                Boroughs   9.731320  0.001886    True\n",
       "7                 bedrooms   5.999600  0.014553    True\n",
       "1   host_identity_verified   3.945310  0.047392    True\n",
       "5                room_type   3.767048  0.052673    True"
      ]
     },
     "execution_count": 62,
     "metadata": {},
     "output_type": "execute_result"
    }
   ],
   "source": [
    "selected = featureImportance[featureImportance[\"select\"] == True].sort_values(\"score\", ascending=False)\n",
    "\n",
    "selected"
   ]
  },
  {
   "cell_type": "code",
   "execution_count": 63,
   "id": "2bcfdbf4",
   "metadata": {},
   "outputs": [
    {
     "data": {
      "text/plain": [
       "['accommodates',\n",
       " 'maximum_nights',\n",
       " 'beds',\n",
       " 'Boroughs',\n",
       " 'bedrooms',\n",
       " 'host_identity_verified',\n",
       " 'room_type']"
      ]
     },
     "execution_count": 63,
     "metadata": {},
     "output_type": "execute_result"
    }
   ],
   "source": [
    "\"\"\"\n",
    "Get the selected features\n",
    "\"\"\"\n",
    "selectedFeature = list(selected.feature)\n",
    "selectedFeature"
   ]
  },
  {
   "cell_type": "code",
   "execution_count": 64,
   "id": "19cd80f1",
   "metadata": {},
   "outputs": [],
   "source": [
    "# X stores features\n",
    "X1 = df123[selectedFeature]\n",
    "# y stores targets\n",
    "y1 = df123[[\"availability_365\"]]"
   ]
  },
  {
   "cell_type": "code",
   "execution_count": 68,
   "id": "185ad65c",
   "metadata": {},
   "outputs": [
    {
     "name": "stdout",
     "output_type": "stream",
     "text": [
      "The coefficient of feature: \"accommodates\" is 10.74\n",
      "The coefficient of feature: \"maximum_nights\" is 0.02\n",
      "The coefficient of feature: \"beds\" is 0.24\n",
      "The coefficient of feature: \"Boroughs\" is 0.24\n",
      "The coefficient of feature: \"bedrooms\" is -7.83\n",
      "The coefficient of feature: \"host_identity_verified\" is 3.64\n",
      "The coefficient of feature: \"room_type\" is -0.02\n"
     ]
    },
    {
     "name": "stderr",
     "output_type": "stream",
     "text": [
      "D:\\Anaconda\\envs\\new\\lib\\site-packages\\sklearn\\linear_model\\_coordinate_descent.py:1571: DataConversionWarning: A column-vector y was passed when a 1d array was expected. Please change the shape of y to (n_samples, ), for example using ravel().\n",
      "  y = column_or_1d(y, warn=True)\n"
     ]
    }
   ],
   "source": [
    "\"\"\"\n",
    "Call the LassoCV function and perform cross-validation using cv = 5\n",
    "\"\"\"\n",
    "model_lasso = LassoCV(alphas = [0.1,1, 0.001, 0.0005, 0.05], cv = 5).fit(X1, y1)\n",
    "# Print the results\n",
    "for i in range(len(list(X1.columns))):\n",
    "    print(\"The coefficient of feature: \\\"%s\\\" is %.2f\" %(list(X1.columns)[i], model_lasso.coef_[i]))"
   ]
  },
  {
   "cell_type": "markdown",
   "id": "147e22b0",
   "metadata": {},
   "source": [
    "# 2. The Executive Briefing"
   ]
  },
  {
   "cell_type": "markdown",
   "id": "9d891bc0",
   "metadata": {},
   "source": [
    "## 2.1 Executive Summary (Summary of your briefing creating a summary of each of the sections below, 200-300 words)"
   ]
  },
  {
   "cell_type": "markdown",
   "id": "c480e752",
   "metadata": {},
   "source": [
    "整体思路：挑选对租房影响最大的几个特征。 如何判断租房的好坏：availability_365这一列，365天内租出的天数数量，可以反映租房的好坏。 "
   ]
  },
  {
   "cell_type": "markdown",
   "id": "f82f9bf2",
   "metadata": {},
   "source": [
    "## 2.2 Background (problem framing, 300-400 words)"
   ]
  },
  {
   "cell_type": "markdown",
   "id": "cde5064d",
   "metadata": {},
   "source": [
    "352个字\n",
    "\n",
    "1. 首先介绍疫情下伦敦的情况。着重描述2020年的。比如疫情扩散的非常快，哪些区域收到了极大的影响。无论是经济上还是生活上都对英国人民造成了极大的冲击。（1个引用）\n",
    "\n",
    "2. 然后介绍疫情对伦敦的影响。首先介绍疫情对伦敦或者英国的整体经济、旅游情况的影响（此处1-2个引用），再说疫情对伦敦房地产、租赁相关的影响（1-2个引用）\n",
    "\n",
    "3. 在当今疫情的大环境下，如何对Airbnb投资是一个非常值得思考的事情。由于疫情，市场的大环境可能已经悄然发生了转变（举例如何转变1个引用），所以不能用传统的老一套思维对房屋租赁市场进行投资，这可能会造成严重后果，成为一次极其失败的投资。\n",
    "\n",
    "4. 近年来，人工智能、机器学习领域发展的十分迅速，在各行各业的应用都卓有成效。（1个引用）\n",
    "\n",
    "5. 本文将通过数据分析、机器学习的方法，以数据为驱动，对疫情下伦敦Airbnb市场的投资提供决策。"
   ]
  },
  {
   "cell_type": "markdown",
   "id": "e45f0ea2",
   "metadata": {},
   "source": [
    "## 2.3 Data Analysis (description of the analysis, approach and results, 400-500 words)"
   ]
  },
  {
   "cell_type": "markdown",
   "id": "7bcf699a",
   "metadata": {},
   "source": [
    "### 2.3.1 Dataset introduction"
   ]
  },
  {
   "cell_type": "markdown",
   "id": "7c7ecf6c",
   "metadata": {},
   "source": [
    "99字\n",
    "\n",
    "1. **Dataset 1**: \"202011listings\": Contains all London Airbnb rentals for November 2020. This data has 76,984, 74 columns, and contains Airbnb London records for mid-January 2020. This set of data has more than 70 features, including the number of houses, the number of houses and other data.The distribution of this dataset is uneven, and there are many problems in the data, it requires large amount of data preprocessing processes.\n",
    "\n",
    "2. **Dataset 2** : \"uk-daily-covid-cases-7day-average\"：This dataset has 134786 rows and 4 columns. It contains information on Covid cases in various regions of the UK, from 2020 to 2022.(https://hidden-london.com/miscellany/covid-19-in-london/)"
   ]
  },
  {
   "cell_type": "markdown",
   "id": "8705b10e",
   "metadata": {},
   "source": [
    "                                                  Figure1. The Distribution of Airbnb Houses\n",
    "\n",
    "![avatar](https://raw.githubusercontent.com/ShengweiDeng/i2p/Data/Map.png?token=GHSAT0AAAAAABRDNSUTH5UD6X7NKGORODQWYPX6BCA)"
   ]
  },
  {
   "cell_type": "markdown",
   "id": "a99e0e21",
   "metadata": {},
   "source": [
    "### 2.3.2 Data analysis"
   ]
  },
  {
   "cell_type": "markdown",
   "id": "2bc20922",
   "metadata": {},
   "source": [
    "888字。。。。\n",
    "\n",
    "整体思路：挑选对租房影响最大的几个特征。 如何判断租房的好坏：availability_365这一列，365天内租出的天数数量，可以反映租房的好坏。 \n",
    "\n",
    "数据预处理流程：\n",
    "\n",
    "由于有两个数据集，我将首先对两组数据分别进行数据预处理，然后将处理好的两组数据进行合并。合并后继续对合并后的数据进行处理，是它能在后续的分析中表现的更好。\n",
    "\n",
    "1. 第一组数据处理：首先，先检查数据是否存在空值。经过检查，发现该数据存在空值并且有四列数据全部为空值。对于全部为空值的列，我没有别的更好的办法，所以我决定将这全部为空值的四列删除掉。其次，我将从空间上根据记录的经纬度坐标，判断房屋是否都在32个伦敦自治州内。我先将所有的房屋数据绘制在了一个地图上，并且绘制了32个自治州的边界。从地图上整体来看，发现绝大多数房屋都在自治州边界内。然后我使用了GeoSeries.contains() method来看具体哪些房屋不属于伦敦的32个自治州。根据结果，发现有18条数据不在范围内，由于数量不大，我决定直接删除掉这些数据。\n",
    "\n",
    "2. 第二组数据处理：首先，先检查数据是否存在空值。经过检查，发现数据存在空值，并且有一列所有数据都为空值。对于这个全是空值的列，我决定直接删除。然后，由于这个数据包含了2020年到2022年伦敦所有地区的数据，所以我需要做一个Data Transformation来对数据进行筛选。为了匹配第一组数据，我将只保留2020年11月，伦敦32个自治州的疫情数据。\n",
    "\n",
    "3. 合并第一组和第二组数据框\n",
    "\n",
    "4. 对合并后的数据进行data transformation，使得数据能适应后续的分析。首先，我对数据中的“availability_365”这一列进行可视化分析，发现数据分布的极为不均衡，完全不属于正态分布。所以我决定使用欠采样思路对数据进行重新采样。在重新采样前，我需要计算每一个类型采多少样本。首先，我使用了\"stats.boxcox\" method对数据进行Normalization。将每一类数据的数量调整到了1至3的区间内。这一步骤完毕之后，数据呈现了正态分布。但是由于我需要确定重新采样的数量，计算得出的结果是在1至3区间内，假如直接按照这个数据进行采样样本数量太少。所以我决定继续使用“MIN-MAX scaling”方法，在保留原始分布的前提下，将数据调整到0到6区间内。随后按照这些数据通过dataframe.sample方法对数据框重新进行采样。\n",
    "\n",
    "5. 对误判为non-numeric的列进行类型转化，对原本就是non-numeric的列，根据它的frequency转化为numeric的列。"
   ]
  },
  {
   "cell_type": "markdown",
   "id": "4a11f29e",
   "metadata": {},
   "source": [
    "**图片对比**： 数据处理前分布，数据处理后分布"
   ]
  },
  {
   "cell_type": "markdown",
   "id": "385dbe37",
   "metadata": {},
   "source": [
    "![avatar](https://raw.githubusercontent.com/ShengweiDeng/i2p/main/Before.png?token=GHSAT0AAAAAABRDNSUSWVLA4DH5UGHFJM3KYPX6FQA)"
   ]
  },
  {
   "cell_type": "markdown",
   "id": "2f52a707",
   "metadata": {},
   "source": [
    "![avatar](https://raw.githubusercontent.com/ShengweiDeng/i2p/main/after.png?token=GHSAT0AAAAAABRDNSUTXKBD644KUV2IM4ZIYPX6GOA)"
   ]
  },
  {
   "cell_type": "markdown",
   "id": "6359d769",
   "metadata": {},
   "source": [
    "### 2.3.3 Approach"
   ]
  },
  {
   "cell_type": "markdown",
   "id": "91274d10",
   "metadata": {},
   "source": [
    "300字\n",
    "\n",
    "1. 使用了“sklearn.feature_selection”中的“SelectKBest”方法，对数据集进行特征选择。它的作用是给所有特征进行打分，然后选择与目标最相关的k个特征。“SelectKBest”这个方法提供了几种评价特征的方法，涵盖了分类问题、回归问题等。由于目标“availability_365”365天内总共租出的天数是连续的，并且我希望通过特征计算Airbnb可以租出的天数，所以这是一个回归问题。 我决定使用“f_regression function”这个评价特征的方法对数据进行特征的选择。“f_regression function”是计算每个回归变量与目标之间的相关性并将其转换为F分数，然后转换为p值来进行特征的选择的。\n",
    "\n",
    "2. LassoCV对数据进行回归分析。LASSO是由1996年Robert Tibshirani首次提出，全称Least absolute shrinkage and selection operator。该方法是一种压缩估计。（引用+1）    由于目标是找出最影响房屋出租的特征，所以这里我只需要得出每个特征的回归系数即可。"
   ]
  },
  {
   "cell_type": "markdown",
   "id": "652fd6a2",
   "metadata": {},
   "source": [
    "### 2.3.4 Results"
   ]
  },
  {
   "cell_type": "markdown",
   "id": "a465ab10",
   "metadata": {},
   "source": [
    "1. 对下面这个表进行描述\n",
    "\n",
    "\n",
    "\n",
    "2. LassoCV的结果 回归模型\n",
    "\n",
    "The coefficient of feature: \"accommodates\" is 10.74\n",
    "（10.74的系数，说明accommodates增加一个，availability_365增加10.74）\n",
    "\n",
    "The coefficient of feature: \"maximum_nights\" is 0.02\n",
    "The coefficient of feature: \"beds\" is 0.24\n",
    "The coefficient of feature: \"bedrooms\" is -7.83\n",
    "前面都是numeric好解释\n",
    "\n",
    "\n",
    "后面这些non-numeric的：\n",
    "\n",
    "\n",
    "\n",
    "原始数据是f，t（false，true），我给他转化成0,1. 所以你看这个系数是正的，所以说明host_identity_verified越靠近1，越好。所以就是说房东有认证，更好组。\n",
    "The coefficient of feature: \"host_identity_verified\" is 3.64\n",
    "\n",
    "\n",
    "这个我是根据他们在数据中出现的数量来进行转化的。 下面这两个是我替换的值。 就是对这些类别做了一个group by count，然后将下面对应的数值替换原来的文本。懂了没 不懂微信我\n",
    "\n",
    "然后就好分析了啊，你看，Borough这个特征的系数是正的，说明数量越大越好。然后根据下面的dic3，右边数据越大越好，然后“Westminster”这个区的数最大，那就是说在这里的租的更好。（但是由于系数很低，所以emm，也别太绝对）\n",
    "The coefficient of feature: \"Boroughs\" is 0.24\n",
    "\n",
    "dic2是room type的，是负的，room type越小，因变量越大。说明越小越好（shared room是13最小），所以说明shared room可能最受欢迎\n",
    "The coefficient of feature: \"room_type\" is -0.02\n",
    "\n"
   ]
  },
  {
   "cell_type": "code",
   "execution_count": 71,
   "id": "a606192f",
   "metadata": {},
   "outputs": [
    {
     "data": {
      "text/plain": [
       "{'Entire home/apt': 691,\n",
       " 'Private room': 292,\n",
       " 'Hotel room': 16,\n",
       " 'Shared room': 13}"
      ]
     },
     "execution_count": 71,
     "metadata": {},
     "output_type": "execute_result"
    }
   ],
   "source": [
    "dic2  #:room_type"
   ]
  },
  {
   "cell_type": "code",
   "execution_count": 72,
   "id": "a8ae0a60",
   "metadata": {},
   "outputs": [
    {
     "data": {
      "text/plain": [
       "{'Westminster': 146,\n",
       " 'Kensington and Chelsea': 103,\n",
       " 'Camden': 89,\n",
       " 'Wandsworth': 64,\n",
       " 'Tower Hamlets': 63,\n",
       " 'Hackney': 61,\n",
       " 'Hammersmith and Fulham': 57,\n",
       " 'Lambeth': 57,\n",
       " 'Islington': 54,\n",
       " 'Southwark': 49,\n",
       " 'Brent': 27,\n",
       " 'Newham': 25,\n",
       " 'Barnet': 20,\n",
       " 'Ealing': 20,\n",
       " 'Waltham Forest': 17,\n",
       " 'Croydon': 17,\n",
       " 'Haringey': 16,\n",
       " 'Hounslow': 14,\n",
       " 'Lewisham': 14,\n",
       " 'Greenwich': 13,\n",
       " 'Richmond upon Thames': 12,\n",
       " 'Merton': 9,\n",
       " 'City of London': 9,\n",
       " 'Bromley': 9,\n",
       " 'Kingston upon Thames': 8,\n",
       " 'Enfield': 8,\n",
       " 'Sutton': 8,\n",
       " 'Barking and Dagenham': 6,\n",
       " 'Hillingdon': 6,\n",
       " 'Bexley': 5,\n",
       " 'Redbridge': 3,\n",
       " 'Havering': 2,\n",
       " 'Harrow': 1}"
      ]
     },
     "execution_count": 72,
     "metadata": {},
     "output_type": "execute_result"
    }
   ],
   "source": [
    "dic3 #:Boroughs"
   ]
  },
  {
   "cell_type": "markdown",
   "id": "be849a6f",
   "metadata": {},
   "source": [
    "                                                  Table 1. The Result of Feature Selection\n",
    "\n",
    "| feature | score | pvalue | select |\n",
    "| :------| ------: | :------: | :------: |\n",
    "| accommodates | 19.541759 | 0.000011 | True |\n",
    "| maximum_nights | 11.059630 | 0.000928 | True |\n",
    "| beds | 19.541759 | 0.000956 | True |\n",
    "| Boroughs | 9.731320 | 0.001886 | True |\n",
    "| bedrooms | 5.999600 | 0.014553 | True |\n",
    "| host_identity_verified | 3.945310 | 0.047392 | True |\n",
    "| room_type | 3.767048 | 0.052673 | True |"
   ]
  },
  {
   "cell_type": "markdown",
   "id": "a3270e97",
   "metadata": {},
   "source": [
    "## 2.4 Conclusion (what was learned, limitations and what are your recommendations, 300-400 words)"
   ]
  },
  {
   "cell_type": "markdown",
   "id": "e1c4b1c0",
   "metadata": {},
   "source": [
    "468个字\n",
    "\n",
    "**Recommendations**\n",
    "\n",
    "1. 由于疫情，市场的大环境可能已经悄然发生了转变（举例如何转变1个引用），所以不能用传统的老一套思维对房屋租赁市场进行投资，这可能会造成严重后果，成为一次极其失败的投资。\n",
    "\n",
    "2. 由于疫情情况变幻莫测，形势不好判断，我建议CEO以数据为驱动来进行投资。\n",
    "\n",
    "\n",
    "2. 我建议在当今疫情环境下，对Airbnb的市场按照我分析的结果进行投资（因为我的报告就是以数据为支撑，通过对数据进行分析，才得出的结论）。将上面的results复制一部分粘贴到这里。\n",
    "\n",
    "3. Limitations。建议考虑这些limitations，在未来我会将这些问题更好的解决，使模型的精确度更高。\n",
    "\n",
    "\n",
    "**What was learned:**\n",
    "\n",
    "1. Programming for spatial analysis\n",
    "2. 数据预处理的方法、如何对空间数据进行处理\n",
    "3. 数据可视化、空间数据可视化\n",
    "4. 数据分析、特征选择、机器学习模型\n",
    "5. Python编程语言的学习\n",
    "6. 业务层面，如何为ceo提供决策等，发现市场痛点。。。。\n",
    "\n",
    "**Limitations** 通用的随便编几条吧。\n",
    "\n",
    "1. 数据分布极为不均衡，虽然做了数据预处理，并且分布得到了极大的改善，但是仍然没有做的尽善尽美，需要在后续提升\n",
    "2. 模型的选择不太灵活。需要在未来更多的充实自己\n",
    "3. 模型的参数可能没有调到最优。后续可以继续学习调优算法，为我的模型进行调优，达到更加精确的结果。\n"
   ]
  },
  {
   "cell_type": "markdown",
   "id": "39aac11b",
   "metadata": {},
   "source": [
    "## 2.5 References"
   ]
  },
  {
   "cell_type": "markdown",
   "id": "36737936",
   "metadata": {},
   "source": []
  }
 ],
 "metadata": {
  "kernelspec": {
   "display_name": "Python 3 (ipykernel)",
   "language": "python",
   "name": "python3"
  },
  "language_info": {
   "codemirror_mode": {
    "name": "ipython",
    "version": 3
   },
   "file_extension": ".py",
   "mimetype": "text/x-python",
   "name": "python",
   "nbconvert_exporter": "python",
   "pygments_lexer": "ipython3",
   "version": "3.8.12"
  }
 },
 "nbformat": 4,
 "nbformat_minor": 5
}
